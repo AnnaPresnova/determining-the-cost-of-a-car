{
 "cells": [
  {
   "cell_type": "markdown",
   "metadata": {},
   "source": [
    "# ПРОЕКТ: Определение стоимости автомобилей\n",
    "\n",
    "https://github.com/AnnaPresnova/determining-the-cost-of-a-car"
   ]
  },
  {
   "cell_type": "markdown",
   "metadata": {},
   "source": [
    "**Описание проекта:** сервис по продаже автомобилей с пробегом «Не бит, не крашен» разрабатывает приложение для привлечения новых клиентов. В нём можно быстро узнать рыночную стоимость своего автомобиля. В нашем распоряжении исторические данные: технические характеристики, комплектации и цены автомобилей. \n",
    "\n",
    "**Цель задачи:** построить модель для определения стоимости автомобиля и выбрать лучшую по следующим параметрам:\n",
    "\n",
    "- качество предсказания;\n",
    "\n",
    "- скорость предсказания;\n",
    "\n",
    "- время обучения.\n",
    "\n",
    "**Этапы выполнения проекта:** \n",
    "\n",
    "1. Подготовка данных (загрузка данных и предобработка):\n",
    "\n",
    "* Изучение данных \n",
    "\n",
    "* Заполнение пропущенных значений\n",
    "\n",
    "* обработка аномалий в столбцах\n",
    "\n",
    "2. Подготовка выборок для обучения моделей\n",
    "\n",
    "3. Обучение моделей:\n",
    "\n",
    "* модель случайного леса\n",
    "\n",
    "* модель градиентного бустинга с помощью алгоритма LightGBM\n",
    "\n",
    "* анализ  времени обучения, времени предсказания и качества перечисленных моделей на валидационных выборках\n",
    "\n",
    "4. Анализ моделей: выбор лучшей модели, проверка её качества на тестовой выборке.\n",
    "\n",
    "5. Вывод\n",
    "\n",
    "**Описание данных:**\n",
    "\n",
    "*Признаки*:\n",
    "\n",
    "DateCrawled — дата скачивания анкеты из базы\n",
    "\n",
    "VehicleType — тип автомобильного кузова\n",
    "\n",
    "RegistrationYear — год регистрации автомобиля\n",
    "\n",
    "Gearbox — тип коробки передач\n",
    "\n",
    "Power — мощность (л. с.)\n",
    "\n",
    "Model — модель автомобиля\n",
    "\n",
    "Kilometer — пробег (км)\n",
    "\n",
    "RegistrationMonth — месяц регистрации автомобиля\n",
    "\n",
    "FuelType — тип топлива\n",
    "\n",
    "Brand — марка автомобиля\n",
    "\n",
    "Repaired — была машина в ремонте или нет\n",
    "\n",
    "DateCreated — дата создания анкеты\n",
    "\n",
    "NumberOfPictures — количество фотографий автомобиля\n",
    "\n",
    "PostalCode — почтовый индекс владельца анкеты (пользователя)\n",
    "\n",
    "LastSeen — дата последней активности пользователя\n",
    "\n",
    "Целевой признак\n",
    "\n",
    "Price — цена (евро)"
   ]
  },
  {
   "cell_type": "code",
   "execution_count": 1,
   "metadata": {},
   "outputs": [],
   "source": [
    "# импортируем необходимые библиотеки\n",
    "\n",
    "import pandas as pd\n",
    "\n",
    "import matplotlib.pyplot as plt\n",
    "\n",
    "from sklearn.model_selection import train_test_split\n",
    "\n",
    "from sklearn.ensemble import RandomForestRegressor\n",
    "\n",
    "from sklearn.metrics import mean_squared_error\n",
    "\n",
    "import time\n",
    "\n",
    "from lightgbm import LGBMRegressor\n",
    "\n",
    "import lightgbm as lgb\n",
    "\n",
    "from sklearn. preprocessing import OneHotEncoder"
   ]
  },
  {
   "cell_type": "markdown",
   "metadata": {},
   "source": [
    "## Подготовка данных"
   ]
  },
  {
   "cell_type": "code",
   "execution_count": 2,
   "metadata": {},
   "outputs": [
    {
     "data": {
      "text/html": [
       "<div>\n",
       "<style scoped>\n",
       "    .dataframe tbody tr th:only-of-type {\n",
       "        vertical-align: middle;\n",
       "    }\n",
       "\n",
       "    .dataframe tbody tr th {\n",
       "        vertical-align: top;\n",
       "    }\n",
       "\n",
       "    .dataframe thead th {\n",
       "        text-align: right;\n",
       "    }\n",
       "</style>\n",
       "<table border=\"1\" class=\"dataframe\">\n",
       "  <thead>\n",
       "    <tr style=\"text-align: right;\">\n",
       "      <th></th>\n",
       "      <th>DateCrawled</th>\n",
       "      <th>Price</th>\n",
       "      <th>VehicleType</th>\n",
       "      <th>RegistrationYear</th>\n",
       "      <th>Gearbox</th>\n",
       "      <th>Power</th>\n",
       "      <th>Model</th>\n",
       "      <th>Kilometer</th>\n",
       "      <th>RegistrationMonth</th>\n",
       "      <th>FuelType</th>\n",
       "      <th>Brand</th>\n",
       "      <th>Repaired</th>\n",
       "      <th>DateCreated</th>\n",
       "      <th>NumberOfPictures</th>\n",
       "      <th>PostalCode</th>\n",
       "      <th>LastSeen</th>\n",
       "    </tr>\n",
       "  </thead>\n",
       "  <tbody>\n",
       "    <tr>\n",
       "      <th>0</th>\n",
       "      <td>2016-03-24 11:52:17</td>\n",
       "      <td>480</td>\n",
       "      <td>NaN</td>\n",
       "      <td>1993</td>\n",
       "      <td>manual</td>\n",
       "      <td>0</td>\n",
       "      <td>golf</td>\n",
       "      <td>150000</td>\n",
       "      <td>0</td>\n",
       "      <td>petrol</td>\n",
       "      <td>volkswagen</td>\n",
       "      <td>NaN</td>\n",
       "      <td>2016-03-24 00:00:00</td>\n",
       "      <td>0</td>\n",
       "      <td>70435</td>\n",
       "      <td>2016-04-07 03:16:57</td>\n",
       "    </tr>\n",
       "    <tr>\n",
       "      <th>1</th>\n",
       "      <td>2016-03-24 10:58:45</td>\n",
       "      <td>18300</td>\n",
       "      <td>coupe</td>\n",
       "      <td>2011</td>\n",
       "      <td>manual</td>\n",
       "      <td>190</td>\n",
       "      <td>NaN</td>\n",
       "      <td>125000</td>\n",
       "      <td>5</td>\n",
       "      <td>gasoline</td>\n",
       "      <td>audi</td>\n",
       "      <td>yes</td>\n",
       "      <td>2016-03-24 00:00:00</td>\n",
       "      <td>0</td>\n",
       "      <td>66954</td>\n",
       "      <td>2016-04-07 01:46:50</td>\n",
       "    </tr>\n",
       "    <tr>\n",
       "      <th>2</th>\n",
       "      <td>2016-03-14 12:52:21</td>\n",
       "      <td>9800</td>\n",
       "      <td>suv</td>\n",
       "      <td>2004</td>\n",
       "      <td>auto</td>\n",
       "      <td>163</td>\n",
       "      <td>grand</td>\n",
       "      <td>125000</td>\n",
       "      <td>8</td>\n",
       "      <td>gasoline</td>\n",
       "      <td>jeep</td>\n",
       "      <td>NaN</td>\n",
       "      <td>2016-03-14 00:00:00</td>\n",
       "      <td>0</td>\n",
       "      <td>90480</td>\n",
       "      <td>2016-04-05 12:47:46</td>\n",
       "    </tr>\n",
       "    <tr>\n",
       "      <th>3</th>\n",
       "      <td>2016-03-17 16:54:04</td>\n",
       "      <td>1500</td>\n",
       "      <td>small</td>\n",
       "      <td>2001</td>\n",
       "      <td>manual</td>\n",
       "      <td>75</td>\n",
       "      <td>golf</td>\n",
       "      <td>150000</td>\n",
       "      <td>6</td>\n",
       "      <td>petrol</td>\n",
       "      <td>volkswagen</td>\n",
       "      <td>no</td>\n",
       "      <td>2016-03-17 00:00:00</td>\n",
       "      <td>0</td>\n",
       "      <td>91074</td>\n",
       "      <td>2016-03-17 17:40:17</td>\n",
       "    </tr>\n",
       "    <tr>\n",
       "      <th>4</th>\n",
       "      <td>2016-03-31 17:25:20</td>\n",
       "      <td>3600</td>\n",
       "      <td>small</td>\n",
       "      <td>2008</td>\n",
       "      <td>manual</td>\n",
       "      <td>69</td>\n",
       "      <td>fabia</td>\n",
       "      <td>90000</td>\n",
       "      <td>7</td>\n",
       "      <td>gasoline</td>\n",
       "      <td>skoda</td>\n",
       "      <td>no</td>\n",
       "      <td>2016-03-31 00:00:00</td>\n",
       "      <td>0</td>\n",
       "      <td>60437</td>\n",
       "      <td>2016-04-06 10:17:21</td>\n",
       "    </tr>\n",
       "    <tr>\n",
       "      <th>5</th>\n",
       "      <td>2016-04-04 17:36:23</td>\n",
       "      <td>650</td>\n",
       "      <td>sedan</td>\n",
       "      <td>1995</td>\n",
       "      <td>manual</td>\n",
       "      <td>102</td>\n",
       "      <td>3er</td>\n",
       "      <td>150000</td>\n",
       "      <td>10</td>\n",
       "      <td>petrol</td>\n",
       "      <td>bmw</td>\n",
       "      <td>yes</td>\n",
       "      <td>2016-04-04 00:00:00</td>\n",
       "      <td>0</td>\n",
       "      <td>33775</td>\n",
       "      <td>2016-04-06 19:17:07</td>\n",
       "    </tr>\n",
       "    <tr>\n",
       "      <th>6</th>\n",
       "      <td>2016-04-01 20:48:51</td>\n",
       "      <td>2200</td>\n",
       "      <td>convertible</td>\n",
       "      <td>2004</td>\n",
       "      <td>manual</td>\n",
       "      <td>109</td>\n",
       "      <td>2_reihe</td>\n",
       "      <td>150000</td>\n",
       "      <td>8</td>\n",
       "      <td>petrol</td>\n",
       "      <td>peugeot</td>\n",
       "      <td>no</td>\n",
       "      <td>2016-04-01 00:00:00</td>\n",
       "      <td>0</td>\n",
       "      <td>67112</td>\n",
       "      <td>2016-04-05 18:18:39</td>\n",
       "    </tr>\n",
       "    <tr>\n",
       "      <th>7</th>\n",
       "      <td>2016-03-21 18:54:38</td>\n",
       "      <td>0</td>\n",
       "      <td>sedan</td>\n",
       "      <td>1980</td>\n",
       "      <td>manual</td>\n",
       "      <td>50</td>\n",
       "      <td>other</td>\n",
       "      <td>40000</td>\n",
       "      <td>7</td>\n",
       "      <td>petrol</td>\n",
       "      <td>volkswagen</td>\n",
       "      <td>no</td>\n",
       "      <td>2016-03-21 00:00:00</td>\n",
       "      <td>0</td>\n",
       "      <td>19348</td>\n",
       "      <td>2016-03-25 16:47:58</td>\n",
       "    </tr>\n",
       "    <tr>\n",
       "      <th>8</th>\n",
       "      <td>2016-04-04 23:42:13</td>\n",
       "      <td>14500</td>\n",
       "      <td>bus</td>\n",
       "      <td>2014</td>\n",
       "      <td>manual</td>\n",
       "      <td>125</td>\n",
       "      <td>c_max</td>\n",
       "      <td>30000</td>\n",
       "      <td>8</td>\n",
       "      <td>petrol</td>\n",
       "      <td>ford</td>\n",
       "      <td>NaN</td>\n",
       "      <td>2016-04-04 00:00:00</td>\n",
       "      <td>0</td>\n",
       "      <td>94505</td>\n",
       "      <td>2016-04-04 23:42:13</td>\n",
       "    </tr>\n",
       "    <tr>\n",
       "      <th>9</th>\n",
       "      <td>2016-03-17 10:53:50</td>\n",
       "      <td>999</td>\n",
       "      <td>small</td>\n",
       "      <td>1998</td>\n",
       "      <td>manual</td>\n",
       "      <td>101</td>\n",
       "      <td>golf</td>\n",
       "      <td>150000</td>\n",
       "      <td>0</td>\n",
       "      <td>NaN</td>\n",
       "      <td>volkswagen</td>\n",
       "      <td>NaN</td>\n",
       "      <td>2016-03-17 00:00:00</td>\n",
       "      <td>0</td>\n",
       "      <td>27472</td>\n",
       "      <td>2016-03-31 17:17:06</td>\n",
       "    </tr>\n",
       "  </tbody>\n",
       "</table>\n",
       "</div>"
      ],
      "text/plain": [
       "           DateCrawled  Price  VehicleType  RegistrationYear Gearbox  Power  \\\n",
       "0  2016-03-24 11:52:17    480          NaN              1993  manual      0   \n",
       "1  2016-03-24 10:58:45  18300        coupe              2011  manual    190   \n",
       "2  2016-03-14 12:52:21   9800          suv              2004    auto    163   \n",
       "3  2016-03-17 16:54:04   1500        small              2001  manual     75   \n",
       "4  2016-03-31 17:25:20   3600        small              2008  manual     69   \n",
       "5  2016-04-04 17:36:23    650        sedan              1995  manual    102   \n",
       "6  2016-04-01 20:48:51   2200  convertible              2004  manual    109   \n",
       "7  2016-03-21 18:54:38      0        sedan              1980  manual     50   \n",
       "8  2016-04-04 23:42:13  14500          bus              2014  manual    125   \n",
       "9  2016-03-17 10:53:50    999        small              1998  manual    101   \n",
       "\n",
       "     Model  Kilometer  RegistrationMonth  FuelType       Brand Repaired  \\\n",
       "0     golf     150000                  0    petrol  volkswagen      NaN   \n",
       "1      NaN     125000                  5  gasoline        audi      yes   \n",
       "2    grand     125000                  8  gasoline        jeep      NaN   \n",
       "3     golf     150000                  6    petrol  volkswagen       no   \n",
       "4    fabia      90000                  7  gasoline       skoda       no   \n",
       "5      3er     150000                 10    petrol         bmw      yes   \n",
       "6  2_reihe     150000                  8    petrol     peugeot       no   \n",
       "7    other      40000                  7    petrol  volkswagen       no   \n",
       "8    c_max      30000                  8    petrol        ford      NaN   \n",
       "9     golf     150000                  0       NaN  volkswagen      NaN   \n",
       "\n",
       "           DateCreated  NumberOfPictures  PostalCode             LastSeen  \n",
       "0  2016-03-24 00:00:00                 0       70435  2016-04-07 03:16:57  \n",
       "1  2016-03-24 00:00:00                 0       66954  2016-04-07 01:46:50  \n",
       "2  2016-03-14 00:00:00                 0       90480  2016-04-05 12:47:46  \n",
       "3  2016-03-17 00:00:00                 0       91074  2016-03-17 17:40:17  \n",
       "4  2016-03-31 00:00:00                 0       60437  2016-04-06 10:17:21  \n",
       "5  2016-04-04 00:00:00                 0       33775  2016-04-06 19:17:07  \n",
       "6  2016-04-01 00:00:00                 0       67112  2016-04-05 18:18:39  \n",
       "7  2016-03-21 00:00:00                 0       19348  2016-03-25 16:47:58  \n",
       "8  2016-04-04 00:00:00                 0       94505  2016-04-04 23:42:13  \n",
       "9  2016-03-17 00:00:00                 0       27472  2016-03-31 17:17:06  "
      ]
     },
     "execution_count": 2,
     "metadata": {},
     "output_type": "execute_result"
    }
   ],
   "source": [
    "# загрузим и изучим данные\n",
    "\n",
    "df = pd.read_csv('/datasets/autos.csv')\n",
    "\n",
    "df.head(10)"
   ]
  },
  {
   "cell_type": "code",
   "execution_count": 3,
   "metadata": {},
   "outputs": [
    {
     "name": "stdout",
     "output_type": "stream",
     "text": [
      "<class 'pandas.core.frame.DataFrame'>\n",
      "RangeIndex: 354369 entries, 0 to 354368\n",
      "Data columns (total 16 columns):\n",
      " #   Column             Non-Null Count   Dtype \n",
      "---  ------             --------------   ----- \n",
      " 0   DateCrawled        354369 non-null  object\n",
      " 1   Price              354369 non-null  int64 \n",
      " 2   VehicleType        316879 non-null  object\n",
      " 3   RegistrationYear   354369 non-null  int64 \n",
      " 4   Gearbox            334536 non-null  object\n",
      " 5   Power              354369 non-null  int64 \n",
      " 6   Model              334664 non-null  object\n",
      " 7   Kilometer          354369 non-null  int64 \n",
      " 8   RegistrationMonth  354369 non-null  int64 \n",
      " 9   FuelType           321474 non-null  object\n",
      " 10  Brand              354369 non-null  object\n",
      " 11  Repaired           283215 non-null  object\n",
      " 12  DateCreated        354369 non-null  object\n",
      " 13  NumberOfPictures   354369 non-null  int64 \n",
      " 14  PostalCode         354369 non-null  int64 \n",
      " 15  LastSeen           354369 non-null  object\n",
      "dtypes: int64(7), object(9)\n",
      "memory usage: 43.3+ MB\n"
     ]
    }
   ],
   "source": [
    "# посмотрим информацию о датафрейме \n",
    "\n",
    "df.info()"
   ]
  },
  {
   "cell_type": "markdown",
   "metadata": {},
   "source": [
    "Мы имеем датафрейм,состоящий из 16 столбцов(признаков) и 354_369 строк (наблюдений). В некоторых столбцах есть пропущенные значения: VehicleType (тип кузова), Gearbox(тип КПП), model (модель), Fueltype (тип топлива), Repaired(авто отремонтирован или нет). Посмотрим каждый из этих признаков по-отдельности."
   ]
  },
  {
   "cell_type": "code",
   "execution_count": 4,
   "metadata": {},
   "outputs": [],
   "source": [
    "# приводим даты к корректному типу данных\n",
    "\n",
    "date_cols = ['DateCrawled', 'DateCreated']\n",
    "\n",
    "df[date_cols] = df[date_cols].astype(\"datetime64[ns]\")\n",
    "\n",
    "# для расчета возраста авто вытаскиваем год из даты\n",
    "\n",
    "df.loc[:, 'DateCreated'] = df.loc[:, 'DateCreated'].dt.year\n",
    "\n",
    "df['DateCreated'] = df['DateCreated'].astype('int')\n",
    "\n",
    "df['age_auto'] = df['DateCreated'] -df['RegistrationYear']"
   ]
  },
  {
   "cell_type": "code",
   "execution_count": 5,
   "metadata": {
    "scrolled": false
   },
   "outputs": [
    {
     "data": {
      "text/html": [
       "<div>\n",
       "<style scoped>\n",
       "    .dataframe tbody tr th:only-of-type {\n",
       "        vertical-align: middle;\n",
       "    }\n",
       "\n",
       "    .dataframe tbody tr th {\n",
       "        vertical-align: top;\n",
       "    }\n",
       "\n",
       "    .dataframe thead th {\n",
       "        text-align: right;\n",
       "    }\n",
       "</style>\n",
       "<table border=\"1\" class=\"dataframe\">\n",
       "  <thead>\n",
       "    <tr style=\"text-align: right;\">\n",
       "      <th></th>\n",
       "      <th>Price</th>\n",
       "      <th>RegistrationYear</th>\n",
       "      <th>Power</th>\n",
       "      <th>Kilometer</th>\n",
       "      <th>RegistrationMonth</th>\n",
       "      <th>DateCreated</th>\n",
       "      <th>NumberOfPictures</th>\n",
       "      <th>PostalCode</th>\n",
       "      <th>age_auto</th>\n",
       "    </tr>\n",
       "  </thead>\n",
       "  <tbody>\n",
       "    <tr>\n",
       "      <th>count</th>\n",
       "      <td>354369.000000</td>\n",
       "      <td>354369.000000</td>\n",
       "      <td>354369.000000</td>\n",
       "      <td>354369.000000</td>\n",
       "      <td>354369.000000</td>\n",
       "      <td>354369.000000</td>\n",
       "      <td>354369.0</td>\n",
       "      <td>354369.000000</td>\n",
       "      <td>354369.000000</td>\n",
       "    </tr>\n",
       "    <tr>\n",
       "      <th>mean</th>\n",
       "      <td>4416.656776</td>\n",
       "      <td>2004.234448</td>\n",
       "      <td>110.094337</td>\n",
       "      <td>128211.172535</td>\n",
       "      <td>5.714645</td>\n",
       "      <td>2015.999924</td>\n",
       "      <td>0.0</td>\n",
       "      <td>50508.689087</td>\n",
       "      <td>11.765476</td>\n",
       "    </tr>\n",
       "    <tr>\n",
       "      <th>std</th>\n",
       "      <td>4514.158514</td>\n",
       "      <td>90.227958</td>\n",
       "      <td>189.850405</td>\n",
       "      <td>37905.341530</td>\n",
       "      <td>3.726421</td>\n",
       "      <td>0.009046</td>\n",
       "      <td>0.0</td>\n",
       "      <td>25783.096248</td>\n",
       "      <td>90.227958</td>\n",
       "    </tr>\n",
       "    <tr>\n",
       "      <th>min</th>\n",
       "      <td>0.000000</td>\n",
       "      <td>1000.000000</td>\n",
       "      <td>0.000000</td>\n",
       "      <td>5000.000000</td>\n",
       "      <td>0.000000</td>\n",
       "      <td>2014.000000</td>\n",
       "      <td>0.0</td>\n",
       "      <td>1067.000000</td>\n",
       "      <td>-7983.000000</td>\n",
       "    </tr>\n",
       "    <tr>\n",
       "      <th>25%</th>\n",
       "      <td>1050.000000</td>\n",
       "      <td>1999.000000</td>\n",
       "      <td>69.000000</td>\n",
       "      <td>125000.000000</td>\n",
       "      <td>3.000000</td>\n",
       "      <td>2016.000000</td>\n",
       "      <td>0.0</td>\n",
       "      <td>30165.000000</td>\n",
       "      <td>8.000000</td>\n",
       "    </tr>\n",
       "    <tr>\n",
       "      <th>50%</th>\n",
       "      <td>2700.000000</td>\n",
       "      <td>2003.000000</td>\n",
       "      <td>105.000000</td>\n",
       "      <td>150000.000000</td>\n",
       "      <td>6.000000</td>\n",
       "      <td>2016.000000</td>\n",
       "      <td>0.0</td>\n",
       "      <td>49413.000000</td>\n",
       "      <td>13.000000</td>\n",
       "    </tr>\n",
       "    <tr>\n",
       "      <th>75%</th>\n",
       "      <td>6400.000000</td>\n",
       "      <td>2008.000000</td>\n",
       "      <td>143.000000</td>\n",
       "      <td>150000.000000</td>\n",
       "      <td>9.000000</td>\n",
       "      <td>2016.000000</td>\n",
       "      <td>0.0</td>\n",
       "      <td>71083.000000</td>\n",
       "      <td>17.000000</td>\n",
       "    </tr>\n",
       "    <tr>\n",
       "      <th>max</th>\n",
       "      <td>20000.000000</td>\n",
       "      <td>9999.000000</td>\n",
       "      <td>20000.000000</td>\n",
       "      <td>150000.000000</td>\n",
       "      <td>12.000000</td>\n",
       "      <td>2016.000000</td>\n",
       "      <td>0.0</td>\n",
       "      <td>99998.000000</td>\n",
       "      <td>1016.000000</td>\n",
       "    </tr>\n",
       "  </tbody>\n",
       "</table>\n",
       "</div>"
      ],
      "text/plain": [
       "               Price  RegistrationYear          Power      Kilometer  \\\n",
       "count  354369.000000     354369.000000  354369.000000  354369.000000   \n",
       "mean     4416.656776       2004.234448     110.094337  128211.172535   \n",
       "std      4514.158514         90.227958     189.850405   37905.341530   \n",
       "min         0.000000       1000.000000       0.000000    5000.000000   \n",
       "25%      1050.000000       1999.000000      69.000000  125000.000000   \n",
       "50%      2700.000000       2003.000000     105.000000  150000.000000   \n",
       "75%      6400.000000       2008.000000     143.000000  150000.000000   \n",
       "max     20000.000000       9999.000000   20000.000000  150000.000000   \n",
       "\n",
       "       RegistrationMonth    DateCreated  NumberOfPictures     PostalCode  \\\n",
       "count      354369.000000  354369.000000          354369.0  354369.000000   \n",
       "mean            5.714645    2015.999924               0.0   50508.689087   \n",
       "std             3.726421       0.009046               0.0   25783.096248   \n",
       "min             0.000000    2014.000000               0.0    1067.000000   \n",
       "25%             3.000000    2016.000000               0.0   30165.000000   \n",
       "50%             6.000000    2016.000000               0.0   49413.000000   \n",
       "75%             9.000000    2016.000000               0.0   71083.000000   \n",
       "max            12.000000    2016.000000               0.0   99998.000000   \n",
       "\n",
       "            age_auto  \n",
       "count  354369.000000  \n",
       "mean       11.765476  \n",
       "std        90.227958  \n",
       "min     -7983.000000  \n",
       "25%         8.000000  \n",
       "50%        13.000000  \n",
       "75%        17.000000  \n",
       "max      1016.000000  "
      ]
     },
     "execution_count": 5,
     "metadata": {},
     "output_type": "execute_result"
    }
   ],
   "source": [
    "# проверяем статистические данные количественных столбцов\n",
    "\n",
    "df.describe()"
   ]
  },
  {
   "cell_type": "markdown",
   "metadata": {},
   "source": [
    "Следует обратить внимание:\n",
    "\n",
    "1. признак цены, вероятно, имеет серьезные аномалии или несколько очень высоких значений (на это нам указывает большая разница между медианой и средним значением, а также высокое стандартное отклонение), кроме этого минимальная цена равна 0, \n",
    "\n",
    "2. в значениях года регистрации авто есть опечатки, т к максимальное значение указано - 9999 год, а минимальное - 1000, \n",
    "\n",
    "3. признак мощности двигателя имеет также слишком высокое макисмальное значение - 20 000, наличие аномальных значений также подтверждает высокое стандартное отклонение, \n",
    "\n",
    "4. в значениях пробега видим, что не менее 50% значений имеет пробег 150_000. \n",
    "\n",
    "5. Возраст авто имеет очень высокое стандартное отклонение, т е есть аномалии. Также Есть отрицательное значение возраста авто и очень большое значение максимального возраста авто.\n",
    "\n",
    "Далее построим диаграммы размаха и гистограммы, чтобы разобраться подробнее."
   ]
  },
  {
   "cell_type": "code",
   "execution_count": 6,
   "metadata": {
    "scrolled": false
   },
   "outputs": [
    {
     "data": {
      "text/plain": [
       "sedan          91457\n",
       "small          79831\n",
       "wagon          65166\n",
       "bus            28775\n",
       "convertible    20203\n",
       "coupe          16163\n",
       "suv            11996\n",
       "other           3288\n",
       "Name: VehicleType, dtype: int64"
      ]
     },
     "execution_count": 6,
     "metadata": {},
     "output_type": "execute_result"
    }
   ],
   "source": [
    "# Чтобы разобраться с пропущенными значениями, посмотрим каждый признак по-отдельности\n",
    "\n",
    "# какие типы кузовов имеются в датафрейме\n",
    "\n",
    "df['VehicleType'].value_counts()"
   ]
  },
  {
   "cell_type": "markdown",
   "metadata": {},
   "source": [
    "Самостоятельно определить тип кузова в пропущенных строках не удастся, поэтому меняем на 'other'."
   ]
  },
  {
   "cell_type": "code",
   "execution_count": 7,
   "metadata": {},
   "outputs": [],
   "source": [
    "# заменим пропущенные значения на 'other'\n",
    "\n",
    "df['VehicleType'] = df['VehicleType'].fillna('other')"
   ]
  },
  {
   "cell_type": "code",
   "execution_count": 8,
   "metadata": {
    "scrolled": true
   },
   "outputs": [
    {
     "data": {
      "text/plain": [
       "manual    268251\n",
       "auto       66285\n",
       "Name: Gearbox, dtype: int64"
      ]
     },
     "execution_count": 8,
     "metadata": {},
     "output_type": "execute_result"
    }
   ],
   "source": [
    "# посмотрим, какие типы КПП есть в датафрейме\n",
    "\n",
    "df['Gearbox'].value_counts()"
   ]
  },
  {
   "cell_type": "code",
   "execution_count": 9,
   "metadata": {},
   "outputs": [],
   "source": [
    "# заменим пропущенные значения на 'other'\n",
    "\n",
    "df['Gearbox'] = df['Gearbox'].fillna('other')"
   ]
  },
  {
   "cell_type": "code",
   "execution_count": 10,
   "metadata": {
    "scrolled": false
   },
   "outputs": [
    {
     "data": {
      "text/plain": [
       "golf                  29232\n",
       "other                 24421\n",
       "3er                   19761\n",
       "polo                  13066\n",
       "corsa                 12570\n",
       "                      ...  \n",
       "i3                        8\n",
       "serie_3                   4\n",
       "rangerover                4\n",
       "serie_1                   2\n",
       "range_rover_evoque        2\n",
       "Name: Model, Length: 250, dtype: int64"
      ]
     },
     "execution_count": 10,
     "metadata": {},
     "output_type": "execute_result"
    }
   ],
   "source": [
    "# посмотрим, какие модели присутствуют в датафрейме\n",
    "\n",
    "df['Model'].value_counts()"
   ]
  },
  {
   "cell_type": "markdown",
   "metadata": {},
   "source": [
    "Разновидностей моделей, конечно же, очень много. "
   ]
  },
  {
   "cell_type": "code",
   "execution_count": 11,
   "metadata": {
    "scrolled": true
   },
   "outputs": [
    {
     "data": {
      "text/plain": [
       "19705"
      ]
     },
     "execution_count": 11,
     "metadata": {},
     "output_type": "execute_result"
    }
   ],
   "source": [
    "# проверим количество пропущенных моделей.\n",
    "\n",
    "df['Model'].isna().sum()"
   ]
  },
  {
   "cell_type": "markdown",
   "metadata": {},
   "source": [
    "Пропущено более 5% моделей авто, этот признак существенно влияет на цену авто, и количество пропущенных значений немаленькое. Но заполнять нам нечем, поэтому заменяем на 'other'. "
   ]
  },
  {
   "cell_type": "code",
   "execution_count": 12,
   "metadata": {},
   "outputs": [],
   "source": [
    "# заменим также на 'other'\n",
    "\n",
    "df['Model'] = df['Model'].fillna('other')"
   ]
  },
  {
   "cell_type": "code",
   "execution_count": 13,
   "metadata": {
    "scrolled": true
   },
   "outputs": [
    {
     "data": {
      "text/plain": [
       "petrol      216352\n",
       "gasoline     98720\n",
       "lpg           5310\n",
       "cng            565\n",
       "hybrid         233\n",
       "other          204\n",
       "electric        90\n",
       "Name: FuelType, dtype: int64"
      ]
     },
     "execution_count": 13,
     "metadata": {},
     "output_type": "execute_result"
    }
   ],
   "source": [
    "# проверим, какие типы топлива есть в датапфрейме\n",
    "\n",
    "df['FuelType'].value_counts()"
   ]
  },
  {
   "cell_type": "code",
   "execution_count": 14,
   "metadata": {},
   "outputs": [],
   "source": [
    "# снова меняем на 'other'\n",
    "\n",
    "df['FuelType'] = df['FuelType'].fillna('other')"
   ]
  },
  {
   "cell_type": "code",
   "execution_count": 15,
   "metadata": {
    "scrolled": false
   },
   "outputs": [
    {
     "data": {
      "text/plain": [
       "no     247161\n",
       "yes     36054\n",
       "Name: Repaired, dtype: int64"
      ]
     },
     "execution_count": 15,
     "metadata": {},
     "output_type": "execute_result"
    }
   ],
   "source": [
    "# был ли авто в ремонте\n",
    "\n",
    "df['Repaired'].value_counts()"
   ]
  },
  {
   "cell_type": "markdown",
   "metadata": {},
   "source": [
    "На этот вопрос сможет ответить только владелец, поэтому:"
   ]
  },
  {
   "cell_type": "code",
   "execution_count": 16,
   "metadata": {},
   "outputs": [],
   "source": [
    "# меняем на 'other'\n",
    "\n",
    "df['Repaired'] = df['Repaired'].fillna('other')"
   ]
  },
  {
   "cell_type": "code",
   "execution_count": 17,
   "metadata": {
    "scrolled": true
   },
   "outputs": [
    {
     "name": "stdout",
     "output_type": "stream",
     "text": [
      "<class 'pandas.core.frame.DataFrame'>\n",
      "RangeIndex: 354369 entries, 0 to 354368\n",
      "Data columns (total 17 columns):\n",
      " #   Column             Non-Null Count   Dtype         \n",
      "---  ------             --------------   -----         \n",
      " 0   DateCrawled        354369 non-null  datetime64[ns]\n",
      " 1   Price              354369 non-null  int64         \n",
      " 2   VehicleType        354369 non-null  object        \n",
      " 3   RegistrationYear   354369 non-null  int64         \n",
      " 4   Gearbox            354369 non-null  object        \n",
      " 5   Power              354369 non-null  int64         \n",
      " 6   Model              354369 non-null  object        \n",
      " 7   Kilometer          354369 non-null  int64         \n",
      " 8   RegistrationMonth  354369 non-null  int64         \n",
      " 9   FuelType           354369 non-null  object        \n",
      " 10  Brand              354369 non-null  object        \n",
      " 11  Repaired           354369 non-null  object        \n",
      " 12  DateCreated        354369 non-null  int64         \n",
      " 13  NumberOfPictures   354369 non-null  int64         \n",
      " 14  PostalCode         354369 non-null  int64         \n",
      " 15  LastSeen           354369 non-null  object        \n",
      " 16  age_auto           354369 non-null  int64         \n",
      "dtypes: datetime64[ns](1), int64(9), object(7)\n",
      "memory usage: 46.0+ MB\n"
     ]
    }
   ],
   "source": [
    "#Все пропущенные значения заменили, проверим:\n",
    "\n",
    "df.info()"
   ]
  },
  {
   "cell_type": "code",
   "execution_count": 18,
   "metadata": {
    "scrolled": true
   },
   "outputs": [
    {
     "data": {
      "text/plain": [
       "<AxesSubplot:>"
      ]
     },
     "execution_count": 18,
     "metadata": {},
     "output_type": "execute_result"
    },
    {
     "data": {
      "image/png": "[encoded data removed]",
      "text/plain": [
       "<Figure size 432x288 with 1 Axes>"
      ]
     },
     "metadata": {
      "needs_background": "light"
     },
     "output_type": "display_data"
    }
   ],
   "source": [
    "# строим диаграмму размаха по целевому признаку - Цена авто\n",
    "\n",
    "df.boxplot('Price')"
   ]
  },
  {
   "cell_type": "markdown",
   "metadata": {},
   "source": [
    "Свыше 14 000 евро наблюдаются выбросы, также смущает, что есть цены, равные нули."
   ]
  },
  {
   "cell_type": "code",
   "execution_count": 19,
   "metadata": {
    "scrolled": true
   },
   "outputs": [
    {
     "data": {
      "text/html": [
       "<div>\n",
       "<style scoped>\n",
       "    .dataframe tbody tr th:only-of-type {\n",
       "        vertical-align: middle;\n",
       "    }\n",
       "\n",
       "    .dataframe tbody tr th {\n",
       "        vertical-align: top;\n",
       "    }\n",
       "\n",
       "    .dataframe thead th {\n",
       "        text-align: right;\n",
       "    }\n",
       "</style>\n",
       "<table border=\"1\" class=\"dataframe\">\n",
       "  <thead>\n",
       "    <tr style=\"text-align: right;\">\n",
       "      <th></th>\n",
       "      <th>DateCrawled</th>\n",
       "      <th>Price</th>\n",
       "      <th>VehicleType</th>\n",
       "      <th>RegistrationYear</th>\n",
       "      <th>Gearbox</th>\n",
       "      <th>Power</th>\n",
       "      <th>Model</th>\n",
       "      <th>Kilometer</th>\n",
       "      <th>RegistrationMonth</th>\n",
       "      <th>FuelType</th>\n",
       "      <th>Brand</th>\n",
       "      <th>Repaired</th>\n",
       "      <th>DateCreated</th>\n",
       "      <th>NumberOfPictures</th>\n",
       "      <th>PostalCode</th>\n",
       "      <th>LastSeen</th>\n",
       "      <th>age_auto</th>\n",
       "    </tr>\n",
       "  </thead>\n",
       "  <tbody>\n",
       "    <tr>\n",
       "      <th>7</th>\n",
       "      <td>2016-03-21 18:54:38</td>\n",
       "      <td>0</td>\n",
       "      <td>sedan</td>\n",
       "      <td>1980</td>\n",
       "      <td>manual</td>\n",
       "      <td>50</td>\n",
       "      <td>other</td>\n",
       "      <td>40000</td>\n",
       "      <td>7</td>\n",
       "      <td>petrol</td>\n",
       "      <td>volkswagen</td>\n",
       "      <td>no</td>\n",
       "      <td>2016</td>\n",
       "      <td>0</td>\n",
       "      <td>19348</td>\n",
       "      <td>2016-03-25 16:47:58</td>\n",
       "      <td>36</td>\n",
       "    </tr>\n",
       "    <tr>\n",
       "      <th>40</th>\n",
       "      <td>2016-03-26 22:06:17</td>\n",
       "      <td>0</td>\n",
       "      <td>other</td>\n",
       "      <td>1990</td>\n",
       "      <td>other</td>\n",
       "      <td>0</td>\n",
       "      <td>corsa</td>\n",
       "      <td>150000</td>\n",
       "      <td>1</td>\n",
       "      <td>petrol</td>\n",
       "      <td>opel</td>\n",
       "      <td>other</td>\n",
       "      <td>2016</td>\n",
       "      <td>0</td>\n",
       "      <td>56412</td>\n",
       "      <td>2016-03-27 17:43:34</td>\n",
       "      <td>26</td>\n",
       "    </tr>\n",
       "    <tr>\n",
       "      <th>111</th>\n",
       "      <td>2016-03-19 18:40:12</td>\n",
       "      <td>0</td>\n",
       "      <td>other</td>\n",
       "      <td>2017</td>\n",
       "      <td>manual</td>\n",
       "      <td>0</td>\n",
       "      <td>golf</td>\n",
       "      <td>5000</td>\n",
       "      <td>12</td>\n",
       "      <td>petrol</td>\n",
       "      <td>volkswagen</td>\n",
       "      <td>other</td>\n",
       "      <td>2016</td>\n",
       "      <td>0</td>\n",
       "      <td>21698</td>\n",
       "      <td>2016-04-01 08:47:05</td>\n",
       "      <td>-1</td>\n",
       "    </tr>\n",
       "    <tr>\n",
       "      <th>115</th>\n",
       "      <td>2016-03-20 18:53:27</td>\n",
       "      <td>0</td>\n",
       "      <td>small</td>\n",
       "      <td>1999</td>\n",
       "      <td>other</td>\n",
       "      <td>0</td>\n",
       "      <td>other</td>\n",
       "      <td>5000</td>\n",
       "      <td>0</td>\n",
       "      <td>petrol</td>\n",
       "      <td>volkswagen</td>\n",
       "      <td>other</td>\n",
       "      <td>2016</td>\n",
       "      <td>0</td>\n",
       "      <td>37520</td>\n",
       "      <td>2016-04-07 02:45:22</td>\n",
       "      <td>17</td>\n",
       "    </tr>\n",
       "    <tr>\n",
       "      <th>152</th>\n",
       "      <td>2016-03-11 18:55:53</td>\n",
       "      <td>0</td>\n",
       "      <td>bus</td>\n",
       "      <td>2004</td>\n",
       "      <td>manual</td>\n",
       "      <td>101</td>\n",
       "      <td>meriva</td>\n",
       "      <td>150000</td>\n",
       "      <td>10</td>\n",
       "      <td>lpg</td>\n",
       "      <td>opel</td>\n",
       "      <td>yes</td>\n",
       "      <td>2016</td>\n",
       "      <td>0</td>\n",
       "      <td>27432</td>\n",
       "      <td>2016-03-12 23:47:10</td>\n",
       "      <td>12</td>\n",
       "    </tr>\n",
       "    <tr>\n",
       "      <th>...</th>\n",
       "      <td>...</td>\n",
       "      <td>...</td>\n",
       "      <td>...</td>\n",
       "      <td>...</td>\n",
       "      <td>...</td>\n",
       "      <td>...</td>\n",
       "      <td>...</td>\n",
       "      <td>...</td>\n",
       "      <td>...</td>\n",
       "      <td>...</td>\n",
       "      <td>...</td>\n",
       "      <td>...</td>\n",
       "      <td>...</td>\n",
       "      <td>...</td>\n",
       "      <td>...</td>\n",
       "      <td>...</td>\n",
       "      <td>...</td>\n",
       "    </tr>\n",
       "    <tr>\n",
       "      <th>354205</th>\n",
       "      <td>2016-03-09 15:56:30</td>\n",
       "      <td>0</td>\n",
       "      <td>other</td>\n",
       "      <td>2000</td>\n",
       "      <td>manual</td>\n",
       "      <td>65</td>\n",
       "      <td>corsa</td>\n",
       "      <td>150000</td>\n",
       "      <td>0</td>\n",
       "      <td>other</td>\n",
       "      <td>opel</td>\n",
       "      <td>yes</td>\n",
       "      <td>2016</td>\n",
       "      <td>0</td>\n",
       "      <td>23758</td>\n",
       "      <td>2016-03-30 11:16:08</td>\n",
       "      <td>16</td>\n",
       "    </tr>\n",
       "    <tr>\n",
       "      <th>354238</th>\n",
       "      <td>2016-03-20 14:55:07</td>\n",
       "      <td>0</td>\n",
       "      <td>small</td>\n",
       "      <td>2002</td>\n",
       "      <td>manual</td>\n",
       "      <td>60</td>\n",
       "      <td>fiesta</td>\n",
       "      <td>150000</td>\n",
       "      <td>3</td>\n",
       "      <td>petrol</td>\n",
       "      <td>ford</td>\n",
       "      <td>other</td>\n",
       "      <td>2016</td>\n",
       "      <td>0</td>\n",
       "      <td>33659</td>\n",
       "      <td>2016-04-06 18:45:23</td>\n",
       "      <td>14</td>\n",
       "    </tr>\n",
       "    <tr>\n",
       "      <th>354248</th>\n",
       "      <td>2016-03-24 13:48:05</td>\n",
       "      <td>0</td>\n",
       "      <td>small</td>\n",
       "      <td>1999</td>\n",
       "      <td>manual</td>\n",
       "      <td>53</td>\n",
       "      <td>swift</td>\n",
       "      <td>150000</td>\n",
       "      <td>3</td>\n",
       "      <td>petrol</td>\n",
       "      <td>suzuki</td>\n",
       "      <td>other</td>\n",
       "      <td>2016</td>\n",
       "      <td>0</td>\n",
       "      <td>42329</td>\n",
       "      <td>2016-04-07 05:17:24</td>\n",
       "      <td>17</td>\n",
       "    </tr>\n",
       "    <tr>\n",
       "      <th>354277</th>\n",
       "      <td>2016-03-10 22:55:50</td>\n",
       "      <td>0</td>\n",
       "      <td>small</td>\n",
       "      <td>1999</td>\n",
       "      <td>manual</td>\n",
       "      <td>37</td>\n",
       "      <td>arosa</td>\n",
       "      <td>150000</td>\n",
       "      <td>7</td>\n",
       "      <td>petrol</td>\n",
       "      <td>seat</td>\n",
       "      <td>yes</td>\n",
       "      <td>2016</td>\n",
       "      <td>0</td>\n",
       "      <td>22559</td>\n",
       "      <td>2016-03-12 23:46:32</td>\n",
       "      <td>17</td>\n",
       "    </tr>\n",
       "    <tr>\n",
       "      <th>354364</th>\n",
       "      <td>2016-03-21 09:50:58</td>\n",
       "      <td>0</td>\n",
       "      <td>other</td>\n",
       "      <td>2005</td>\n",
       "      <td>manual</td>\n",
       "      <td>0</td>\n",
       "      <td>colt</td>\n",
       "      <td>150000</td>\n",
       "      <td>7</td>\n",
       "      <td>petrol</td>\n",
       "      <td>mitsubishi</td>\n",
       "      <td>yes</td>\n",
       "      <td>2016</td>\n",
       "      <td>0</td>\n",
       "      <td>2694</td>\n",
       "      <td>2016-03-21 10:42:49</td>\n",
       "      <td>11</td>\n",
       "    </tr>\n",
       "  </tbody>\n",
       "</table>\n",
       "<p>10772 rows × 17 columns</p>\n",
       "</div>"
      ],
      "text/plain": [
       "               DateCrawled  Price VehicleType  RegistrationYear Gearbox  \\\n",
       "7      2016-03-21 18:54:38      0       sedan              1980  manual   \n",
       "40     2016-03-26 22:06:17      0       other              1990   other   \n",
       "111    2016-03-19 18:40:12      0       other              2017  manual   \n",
       "115    2016-03-20 18:53:27      0       small              1999   other   \n",
       "152    2016-03-11 18:55:53      0         bus              2004  manual   \n",
       "...                    ...    ...         ...               ...     ...   \n",
       "354205 2016-03-09 15:56:30      0       other              2000  manual   \n",
       "354238 2016-03-20 14:55:07      0       small              2002  manual   \n",
       "354248 2016-03-24 13:48:05      0       small              1999  manual   \n",
       "354277 2016-03-10 22:55:50      0       small              1999  manual   \n",
       "354364 2016-03-21 09:50:58      0       other              2005  manual   \n",
       "\n",
       "        Power   Model  Kilometer  RegistrationMonth FuelType       Brand  \\\n",
       "7          50   other      40000                  7   petrol  volkswagen   \n",
       "40          0   corsa     150000                  1   petrol        opel   \n",
       "111         0    golf       5000                 12   petrol  volkswagen   \n",
       "115         0   other       5000                  0   petrol  volkswagen   \n",
       "152       101  meriva     150000                 10      lpg        opel   \n",
       "...       ...     ...        ...                ...      ...         ...   \n",
       "354205     65   corsa     150000                  0    other        opel   \n",
       "354238     60  fiesta     150000                  3   petrol        ford   \n",
       "354248     53   swift     150000                  3   petrol      suzuki   \n",
       "354277     37   arosa     150000                  7   petrol        seat   \n",
       "354364      0    colt     150000                  7   petrol  mitsubishi   \n",
       "\n",
       "       Repaired  DateCreated  NumberOfPictures  PostalCode  \\\n",
       "7            no         2016                 0       19348   \n",
       "40        other         2016                 0       56412   \n",
       "111       other         2016                 0       21698   \n",
       "115       other         2016                 0       37520   \n",
       "152         yes         2016                 0       27432   \n",
       "...         ...          ...               ...         ...   \n",
       "354205      yes         2016                 0       23758   \n",
       "354238    other         2016                 0       33659   \n",
       "354248    other         2016                 0       42329   \n",
       "354277      yes         2016                 0       22559   \n",
       "354364      yes         2016                 0        2694   \n",
       "\n",
       "                   LastSeen  age_auto  \n",
       "7       2016-03-25 16:47:58        36  \n",
       "40      2016-03-27 17:43:34        26  \n",
       "111     2016-04-01 08:47:05        -1  \n",
       "115     2016-04-07 02:45:22        17  \n",
       "152     2016-03-12 23:47:10        12  \n",
       "...                     ...       ...  \n",
       "354205  2016-03-30 11:16:08        16  \n",
       "354238  2016-04-06 18:45:23        14  \n",
       "354248  2016-04-07 05:17:24        17  \n",
       "354277  2016-03-12 23:46:32        17  \n",
       "354364  2016-03-21 10:42:49        11  \n",
       "\n",
       "[10772 rows x 17 columns]"
      ]
     },
     "execution_count": 19,
     "metadata": {},
     "output_type": "execute_result"
    }
   ],
   "source": [
    "# посмотрим строки, в которых цены равны нулю\n",
    "\n",
    "df.loc[df['Price'] == 0]"
   ]
  },
  {
   "cell_type": "markdown",
   "metadata": {},
   "source": [
    "Таких данных около 3%, вероятно, это опечатки. Такие данные нам не нужны. Удалим их."
   ]
  },
  {
   "cell_type": "code",
   "execution_count": 20,
   "metadata": {},
   "outputs": [],
   "source": [
    "df = df.loc[df['Price'] != 0]"
   ]
  },
  {
   "cell_type": "code",
   "execution_count": 21,
   "metadata": {
    "scrolled": true
   },
   "outputs": [
    {
     "data": {
      "text/plain": [
       "Text(0.5, 0, 'Цена')"
      ]
     },
     "execution_count": 21,
     "metadata": {},
     "output_type": "execute_result"
    },
    {
     "data": {
      "image/png": "[encoded data removed]",
      "text/plain": [
       "<Figure size 1224x504 with 1 Axes>"
      ]
     },
     "metadata": {
      "needs_background": "light"
     },
     "output_type": "display_data"
    }
   ],
   "source": [
    "# построим гистограмму по Цене\n",
    "\n",
    "df['Price'].plot(kind='hist', title='Гистограмма цены авто', bins=30, figsize=(17,7), grid='True').set_xlabel('Цена')\n",
    "\n"
   ]
  },
  {
   "cell_type": "markdown",
   "metadata": {},
   "source": [
    "Пик значений приходится на цену свыше 0 и  до 600 евро. Гистограмма не имеет нормального распределения, у неее длинный хвост с очень высокими значениями. Но мы не будем удалять аномальные значения, так как это целевой показатель."
   ]
  },
  {
   "cell_type": "code",
   "execution_count": 22,
   "metadata": {},
   "outputs": [
    {
     "data": {
      "text/plain": [
       "18"
      ]
     },
     "execution_count": 22,
     "metadata": {},
     "output_type": "execute_result"
    }
   ],
   "source": [
    "# проверим параметр - год регистрации авто, \n",
    "\n",
    "# сначала посмотрим строки с годом 9999\n",
    "\n",
    "(df['RegistrationYear'] == 9999).sum()"
   ]
  },
  {
   "cell_type": "code",
   "execution_count": 23,
   "metadata": {},
   "outputs": [
    {
     "data": {
      "text/html": [
       "<div>\n",
       "<style scoped>\n",
       "    .dataframe tbody tr th:only-of-type {\n",
       "        vertical-align: middle;\n",
       "    }\n",
       "\n",
       "    .dataframe tbody tr th {\n",
       "        vertical-align: top;\n",
       "    }\n",
       "\n",
       "    .dataframe thead th {\n",
       "        text-align: right;\n",
       "    }\n",
       "</style>\n",
       "<table border=\"1\" class=\"dataframe\">\n",
       "  <thead>\n",
       "    <tr style=\"text-align: right;\">\n",
       "      <th></th>\n",
       "      <th>DateCrawled</th>\n",
       "      <th>Price</th>\n",
       "      <th>VehicleType</th>\n",
       "      <th>RegistrationYear</th>\n",
       "      <th>Gearbox</th>\n",
       "      <th>Power</th>\n",
       "      <th>Model</th>\n",
       "      <th>Kilometer</th>\n",
       "      <th>RegistrationMonth</th>\n",
       "      <th>FuelType</th>\n",
       "      <th>Brand</th>\n",
       "      <th>Repaired</th>\n",
       "      <th>DateCreated</th>\n",
       "      <th>NumberOfPictures</th>\n",
       "      <th>PostalCode</th>\n",
       "      <th>LastSeen</th>\n",
       "      <th>age_auto</th>\n",
       "    </tr>\n",
       "  </thead>\n",
       "  <tbody>\n",
       "    <tr>\n",
       "      <th>17271</th>\n",
       "      <td>2016-03-23 16:43:29</td>\n",
       "      <td>700</td>\n",
       "      <td>other</td>\n",
       "      <td>9999</td>\n",
       "      <td>other</td>\n",
       "      <td>0</td>\n",
       "      <td>other</td>\n",
       "      <td>10000</td>\n",
       "      <td>0</td>\n",
       "      <td>other</td>\n",
       "      <td>opel</td>\n",
       "      <td>other</td>\n",
       "      <td>2016</td>\n",
       "      <td>0</td>\n",
       "      <td>21769</td>\n",
       "      <td>2016-04-05 20:16:15</td>\n",
       "      <td>-7983</td>\n",
       "    </tr>\n",
       "    <tr>\n",
       "      <th>28390</th>\n",
       "      <td>2016-04-05 08:57:08</td>\n",
       "      <td>799</td>\n",
       "      <td>other</td>\n",
       "      <td>9999</td>\n",
       "      <td>other</td>\n",
       "      <td>0</td>\n",
       "      <td>3er</td>\n",
       "      <td>10000</td>\n",
       "      <td>4</td>\n",
       "      <td>petrol</td>\n",
       "      <td>bmw</td>\n",
       "      <td>other</td>\n",
       "      <td>2016</td>\n",
       "      <td>0</td>\n",
       "      <td>72116</td>\n",
       "      <td>2016-04-07 12:17:50</td>\n",
       "      <td>-7983</td>\n",
       "    </tr>\n",
       "    <tr>\n",
       "      <th>28965</th>\n",
       "      <td>2016-04-04 22:54:47</td>\n",
       "      <td>18000</td>\n",
       "      <td>other</td>\n",
       "      <td>9999</td>\n",
       "      <td>other</td>\n",
       "      <td>0</td>\n",
       "      <td>a_klasse</td>\n",
       "      <td>10000</td>\n",
       "      <td>0</td>\n",
       "      <td>petrol</td>\n",
       "      <td>mercedes_benz</td>\n",
       "      <td>other</td>\n",
       "      <td>2016</td>\n",
       "      <td>0</td>\n",
       "      <td>51379</td>\n",
       "      <td>2016-04-07 02:44:52</td>\n",
       "      <td>-7983</td>\n",
       "    </tr>\n",
       "    <tr>\n",
       "      <th>29426</th>\n",
       "      <td>2016-03-23 21:52:25</td>\n",
       "      <td>7999</td>\n",
       "      <td>other</td>\n",
       "      <td>9999</td>\n",
       "      <td>other</td>\n",
       "      <td>0</td>\n",
       "      <td>kaefer</td>\n",
       "      <td>10000</td>\n",
       "      <td>0</td>\n",
       "      <td>other</td>\n",
       "      <td>volkswagen</td>\n",
       "      <td>other</td>\n",
       "      <td>2016</td>\n",
       "      <td>0</td>\n",
       "      <td>47638</td>\n",
       "      <td>2016-04-06 03:46:40</td>\n",
       "      <td>-7983</td>\n",
       "    </tr>\n",
       "    <tr>\n",
       "      <th>50141</th>\n",
       "      <td>2016-03-14 22:54:43</td>\n",
       "      <td>50</td>\n",
       "      <td>other</td>\n",
       "      <td>9999</td>\n",
       "      <td>other</td>\n",
       "      <td>0</td>\n",
       "      <td>911</td>\n",
       "      <td>10000</td>\n",
       "      <td>0</td>\n",
       "      <td>other</td>\n",
       "      <td>porsche</td>\n",
       "      <td>other</td>\n",
       "      <td>2016</td>\n",
       "      <td>0</td>\n",
       "      <td>36211</td>\n",
       "      <td>2016-04-07 11:46:52</td>\n",
       "      <td>-7983</td>\n",
       "    </tr>\n",
       "    <tr>\n",
       "      <th>62395</th>\n",
       "      <td>2016-03-16 23:54:17</td>\n",
       "      <td>55</td>\n",
       "      <td>other</td>\n",
       "      <td>9999</td>\n",
       "      <td>other</td>\n",
       "      <td>0</td>\n",
       "      <td>other</td>\n",
       "      <td>10000</td>\n",
       "      <td>0</td>\n",
       "      <td>other</td>\n",
       "      <td>volkswagen</td>\n",
       "      <td>other</td>\n",
       "      <td>2016</td>\n",
       "      <td>0</td>\n",
       "      <td>38524</td>\n",
       "      <td>2016-03-20 07:46:23</td>\n",
       "      <td>-7983</td>\n",
       "    </tr>\n",
       "    <tr>\n",
       "      <th>128677</th>\n",
       "      <td>2016-03-14 14:51:56</td>\n",
       "      <td>1550</td>\n",
       "      <td>other</td>\n",
       "      <td>9999</td>\n",
       "      <td>other</td>\n",
       "      <td>95</td>\n",
       "      <td>other</td>\n",
       "      <td>10000</td>\n",
       "      <td>0</td>\n",
       "      <td>other</td>\n",
       "      <td>volkswagen</td>\n",
       "      <td>other</td>\n",
       "      <td>2016</td>\n",
       "      <td>0</td>\n",
       "      <td>35288</td>\n",
       "      <td>2016-03-16 04:48:21</td>\n",
       "      <td>-7983</td>\n",
       "    </tr>\n",
       "    <tr>\n",
       "      <th>149151</th>\n",
       "      <td>2016-04-02 18:57:33</td>\n",
       "      <td>400</td>\n",
       "      <td>other</td>\n",
       "      <td>9999</td>\n",
       "      <td>other</td>\n",
       "      <td>0</td>\n",
       "      <td>other</td>\n",
       "      <td>10000</td>\n",
       "      <td>0</td>\n",
       "      <td>other</td>\n",
       "      <td>sonstige_autos</td>\n",
       "      <td>other</td>\n",
       "      <td>2016</td>\n",
       "      <td>0</td>\n",
       "      <td>26441</td>\n",
       "      <td>2016-04-02 18:57:33</td>\n",
       "      <td>-7983</td>\n",
       "    </tr>\n",
       "    <tr>\n",
       "      <th>167937</th>\n",
       "      <td>2016-03-23 13:49:51</td>\n",
       "      <td>1000</td>\n",
       "      <td>other</td>\n",
       "      <td>9999</td>\n",
       "      <td>other</td>\n",
       "      <td>0</td>\n",
       "      <td>other</td>\n",
       "      <td>10000</td>\n",
       "      <td>0</td>\n",
       "      <td>other</td>\n",
       "      <td>mazda</td>\n",
       "      <td>other</td>\n",
       "      <td>2016</td>\n",
       "      <td>0</td>\n",
       "      <td>40822</td>\n",
       "      <td>2016-03-23 13:49:51</td>\n",
       "      <td>-7983</td>\n",
       "    </tr>\n",
       "    <tr>\n",
       "      <th>200525</th>\n",
       "      <td>2016-03-22 15:56:52</td>\n",
       "      <td>850</td>\n",
       "      <td>other</td>\n",
       "      <td>9999</td>\n",
       "      <td>other</td>\n",
       "      <td>0</td>\n",
       "      <td>other</td>\n",
       "      <td>10000</td>\n",
       "      <td>0</td>\n",
       "      <td>other</td>\n",
       "      <td>mazda</td>\n",
       "      <td>other</td>\n",
       "      <td>2016</td>\n",
       "      <td>0</td>\n",
       "      <td>40822</td>\n",
       "      <td>2016-03-22 15:56:52</td>\n",
       "      <td>-7983</td>\n",
       "    </tr>\n",
       "    <tr>\n",
       "      <th>217111</th>\n",
       "      <td>2016-03-26 13:55:09</td>\n",
       "      <td>850</td>\n",
       "      <td>other</td>\n",
       "      <td>9999</td>\n",
       "      <td>other</td>\n",
       "      <td>0</td>\n",
       "      <td>3er</td>\n",
       "      <td>10000</td>\n",
       "      <td>0</td>\n",
       "      <td>other</td>\n",
       "      <td>bmw</td>\n",
       "      <td>no</td>\n",
       "      <td>2016</td>\n",
       "      <td>0</td>\n",
       "      <td>77746</td>\n",
       "      <td>2016-03-31 09:15:47</td>\n",
       "      <td>-7983</td>\n",
       "    </tr>\n",
       "    <tr>\n",
       "      <th>227462</th>\n",
       "      <td>2016-03-14 12:51:55</td>\n",
       "      <td>2850</td>\n",
       "      <td>other</td>\n",
       "      <td>9999</td>\n",
       "      <td>other</td>\n",
       "      <td>0</td>\n",
       "      <td>other</td>\n",
       "      <td>10000</td>\n",
       "      <td>0</td>\n",
       "      <td>other</td>\n",
       "      <td>fiat</td>\n",
       "      <td>other</td>\n",
       "      <td>2016</td>\n",
       "      <td>0</td>\n",
       "      <td>17335</td>\n",
       "      <td>2016-04-05 13:15:26</td>\n",
       "      <td>-7983</td>\n",
       "    </tr>\n",
       "    <tr>\n",
       "      <th>257793</th>\n",
       "      <td>2016-03-19 14:43:36</td>\n",
       "      <td>50</td>\n",
       "      <td>other</td>\n",
       "      <td>9999</td>\n",
       "      <td>other</td>\n",
       "      <td>0</td>\n",
       "      <td>other</td>\n",
       "      <td>10000</td>\n",
       "      <td>0</td>\n",
       "      <td>other</td>\n",
       "      <td>hyundai</td>\n",
       "      <td>other</td>\n",
       "      <td>2016</td>\n",
       "      <td>0</td>\n",
       "      <td>18569</td>\n",
       "      <td>2016-03-27 04:17:10</td>\n",
       "      <td>-7983</td>\n",
       "    </tr>\n",
       "    <tr>\n",
       "      <th>268091</th>\n",
       "      <td>2016-03-31 00:56:44</td>\n",
       "      <td>150</td>\n",
       "      <td>other</td>\n",
       "      <td>9999</td>\n",
       "      <td>other</td>\n",
       "      <td>0</td>\n",
       "      <td>other</td>\n",
       "      <td>10000</td>\n",
       "      <td>0</td>\n",
       "      <td>other</td>\n",
       "      <td>sonstige_autos</td>\n",
       "      <td>other</td>\n",
       "      <td>2016</td>\n",
       "      <td>0</td>\n",
       "      <td>28870</td>\n",
       "      <td>2016-04-02 03:15:54</td>\n",
       "      <td>-7983</td>\n",
       "    </tr>\n",
       "    <tr>\n",
       "      <th>301279</th>\n",
       "      <td>2016-03-20 15:06:24</td>\n",
       "      <td>19000</td>\n",
       "      <td>other</td>\n",
       "      <td>9999</td>\n",
       "      <td>other</td>\n",
       "      <td>0</td>\n",
       "      <td>transporter</td>\n",
       "      <td>10000</td>\n",
       "      <td>0</td>\n",
       "      <td>other</td>\n",
       "      <td>volkswagen</td>\n",
       "      <td>other</td>\n",
       "      <td>2016</td>\n",
       "      <td>0</td>\n",
       "      <td>60439</td>\n",
       "      <td>2016-04-07 00:44:47</td>\n",
       "      <td>-7983</td>\n",
       "    </tr>\n",
       "    <tr>\n",
       "      <th>306578</th>\n",
       "      <td>2016-03-22 15:50:24</td>\n",
       "      <td>350</td>\n",
       "      <td>other</td>\n",
       "      <td>9999</td>\n",
       "      <td>other</td>\n",
       "      <td>0</td>\n",
       "      <td>kaefer</td>\n",
       "      <td>10000</td>\n",
       "      <td>1</td>\n",
       "      <td>other</td>\n",
       "      <td>volkswagen</td>\n",
       "      <td>other</td>\n",
       "      <td>2016</td>\n",
       "      <td>0</td>\n",
       "      <td>27432</td>\n",
       "      <td>2016-04-06 05:45:40</td>\n",
       "      <td>-7983</td>\n",
       "    </tr>\n",
       "    <tr>\n",
       "      <th>326725</th>\n",
       "      <td>2016-03-14 14:46:40</td>\n",
       "      <td>60</td>\n",
       "      <td>other</td>\n",
       "      <td>9999</td>\n",
       "      <td>other</td>\n",
       "      <td>0</td>\n",
       "      <td>c4</td>\n",
       "      <td>10000</td>\n",
       "      <td>0</td>\n",
       "      <td>other</td>\n",
       "      <td>citroen</td>\n",
       "      <td>other</td>\n",
       "      <td>2016</td>\n",
       "      <td>0</td>\n",
       "      <td>53879</td>\n",
       "      <td>2016-03-22 08:15:56</td>\n",
       "      <td>-7983</td>\n",
       "    </tr>\n",
       "    <tr>\n",
       "      <th>331753</th>\n",
       "      <td>2016-03-28 19:39:11</td>\n",
       "      <td>99</td>\n",
       "      <td>other</td>\n",
       "      <td>9999</td>\n",
       "      <td>other</td>\n",
       "      <td>0</td>\n",
       "      <td>1er</td>\n",
       "      <td>10000</td>\n",
       "      <td>0</td>\n",
       "      <td>other</td>\n",
       "      <td>bmw</td>\n",
       "      <td>other</td>\n",
       "      <td>2016</td>\n",
       "      <td>0</td>\n",
       "      <td>1239</td>\n",
       "      <td>2016-04-07 01:45:47</td>\n",
       "      <td>-7983</td>\n",
       "    </tr>\n",
       "  </tbody>\n",
       "</table>\n",
       "</div>"
      ],
      "text/plain": [
       "               DateCrawled  Price VehicleType  RegistrationYear Gearbox  \\\n",
       "17271  2016-03-23 16:43:29    700       other              9999   other   \n",
       "28390  2016-04-05 08:57:08    799       other              9999   other   \n",
       "28965  2016-04-04 22:54:47  18000       other              9999   other   \n",
       "29426  2016-03-23 21:52:25   7999       other              9999   other   \n",
       "50141  2016-03-14 22:54:43     50       other              9999   other   \n",
       "62395  2016-03-16 23:54:17     55       other              9999   other   \n",
       "128677 2016-03-14 14:51:56   1550       other              9999   other   \n",
       "149151 2016-04-02 18:57:33    400       other              9999   other   \n",
       "167937 2016-03-23 13:49:51   1000       other              9999   other   \n",
       "200525 2016-03-22 15:56:52    850       other              9999   other   \n",
       "217111 2016-03-26 13:55:09    850       other              9999   other   \n",
       "227462 2016-03-14 12:51:55   2850       other              9999   other   \n",
       "257793 2016-03-19 14:43:36     50       other              9999   other   \n",
       "268091 2016-03-31 00:56:44    150       other              9999   other   \n",
       "301279 2016-03-20 15:06:24  19000       other              9999   other   \n",
       "306578 2016-03-22 15:50:24    350       other              9999   other   \n",
       "326725 2016-03-14 14:46:40     60       other              9999   other   \n",
       "331753 2016-03-28 19:39:11     99       other              9999   other   \n",
       "\n",
       "        Power        Model  Kilometer  RegistrationMonth FuelType  \\\n",
       "17271       0        other      10000                  0    other   \n",
       "28390       0          3er      10000                  4   petrol   \n",
       "28965       0     a_klasse      10000                  0   petrol   \n",
       "29426       0       kaefer      10000                  0    other   \n",
       "50141       0          911      10000                  0    other   \n",
       "62395       0        other      10000                  0    other   \n",
       "128677     95        other      10000                  0    other   \n",
       "149151      0        other      10000                  0    other   \n",
       "167937      0        other      10000                  0    other   \n",
       "200525      0        other      10000                  0    other   \n",
       "217111      0          3er      10000                  0    other   \n",
       "227462      0        other      10000                  0    other   \n",
       "257793      0        other      10000                  0    other   \n",
       "268091      0        other      10000                  0    other   \n",
       "301279      0  transporter      10000                  0    other   \n",
       "306578      0       kaefer      10000                  1    other   \n",
       "326725      0           c4      10000                  0    other   \n",
       "331753      0          1er      10000                  0    other   \n",
       "\n",
       "                 Brand Repaired  DateCreated  NumberOfPictures  PostalCode  \\\n",
       "17271             opel    other         2016                 0       21769   \n",
       "28390              bmw    other         2016                 0       72116   \n",
       "28965    mercedes_benz    other         2016                 0       51379   \n",
       "29426       volkswagen    other         2016                 0       47638   \n",
       "50141          porsche    other         2016                 0       36211   \n",
       "62395       volkswagen    other         2016                 0       38524   \n",
       "128677      volkswagen    other         2016                 0       35288   \n",
       "149151  sonstige_autos    other         2016                 0       26441   \n",
       "167937           mazda    other         2016                 0       40822   \n",
       "200525           mazda    other         2016                 0       40822   \n",
       "217111             bmw       no         2016                 0       77746   \n",
       "227462            fiat    other         2016                 0       17335   \n",
       "257793         hyundai    other         2016                 0       18569   \n",
       "268091  sonstige_autos    other         2016                 0       28870   \n",
       "301279      volkswagen    other         2016                 0       60439   \n",
       "306578      volkswagen    other         2016                 0       27432   \n",
       "326725         citroen    other         2016                 0       53879   \n",
       "331753             bmw    other         2016                 0        1239   \n",
       "\n",
       "                   LastSeen  age_auto  \n",
       "17271   2016-04-05 20:16:15     -7983  \n",
       "28390   2016-04-07 12:17:50     -7983  \n",
       "28965   2016-04-07 02:44:52     -7983  \n",
       "29426   2016-04-06 03:46:40     -7983  \n",
       "50141   2016-04-07 11:46:52     -7983  \n",
       "62395   2016-03-20 07:46:23     -7983  \n",
       "128677  2016-03-16 04:48:21     -7983  \n",
       "149151  2016-04-02 18:57:33     -7983  \n",
       "167937  2016-03-23 13:49:51     -7983  \n",
       "200525  2016-03-22 15:56:52     -7983  \n",
       "217111  2016-03-31 09:15:47     -7983  \n",
       "227462  2016-04-05 13:15:26     -7983  \n",
       "257793  2016-03-27 04:17:10     -7983  \n",
       "268091  2016-04-02 03:15:54     -7983  \n",
       "301279  2016-04-07 00:44:47     -7983  \n",
       "306578  2016-04-06 05:45:40     -7983  \n",
       "326725  2016-03-22 08:15:56     -7983  \n",
       "331753  2016-04-07 01:45:47     -7983  "
      ]
     },
     "execution_count": 23,
     "metadata": {},
     "output_type": "execute_result"
    }
   ],
   "source": [
    "df.loc[df['RegistrationYear'] == 9999]"
   ]
  },
  {
   "cell_type": "markdown",
   "metadata": {},
   "source": [
    "Помимо того, что неверно указан год, так еще у многих из этих авто не указана модель, и ни у одного не указан тип кузова, тип КПП и мощность двигателя, всего количество авто с \"9999\" годом выпуска немного - 26 , удалим их."
   ]
  },
  {
   "cell_type": "code",
   "execution_count": 24,
   "metadata": {},
   "outputs": [],
   "source": [
    "df = df.loc[df['RegistrationYear'] != 9999]"
   ]
  },
  {
   "cell_type": "code",
   "execution_count": 25,
   "metadata": {
    "scrolled": false
   },
   "outputs": [
    {
     "data": {
      "text/plain": [
       "count    343579.000000\n",
       "mean       2003.670946\n",
       "std          52.915926\n",
       "min        1000.000000\n",
       "25%        1999.000000\n",
       "50%        2003.000000\n",
       "75%        2008.000000\n",
       "max        9450.000000\n",
       "Name: RegistrationYear, dtype: float64"
      ]
     },
     "execution_count": 25,
     "metadata": {},
     "output_type": "execute_result"
    }
   ],
   "source": [
    "# проверим, что получилось\n",
    "\n",
    "df['RegistrationYear'].describe()"
   ]
  },
  {
   "cell_type": "code",
   "execution_count": 26,
   "metadata": {
    "scrolled": true
   },
   "outputs": [
    {
     "data": {
      "text/html": [
       "<div>\n",
       "<style scoped>\n",
       "    .dataframe tbody tr th:only-of-type {\n",
       "        vertical-align: middle;\n",
       "    }\n",
       "\n",
       "    .dataframe tbody tr th {\n",
       "        vertical-align: top;\n",
       "    }\n",
       "\n",
       "    .dataframe thead th {\n",
       "        text-align: right;\n",
       "    }\n",
       "</style>\n",
       "<table border=\"1\" class=\"dataframe\">\n",
       "  <thead>\n",
       "    <tr style=\"text-align: right;\">\n",
       "      <th></th>\n",
       "      <th>DateCrawled</th>\n",
       "      <th>Price</th>\n",
       "      <th>VehicleType</th>\n",
       "      <th>RegistrationYear</th>\n",
       "      <th>Gearbox</th>\n",
       "      <th>Power</th>\n",
       "      <th>Model</th>\n",
       "      <th>Kilometer</th>\n",
       "      <th>RegistrationMonth</th>\n",
       "      <th>FuelType</th>\n",
       "      <th>Brand</th>\n",
       "      <th>Repaired</th>\n",
       "      <th>DateCreated</th>\n",
       "      <th>NumberOfPictures</th>\n",
       "      <th>PostalCode</th>\n",
       "      <th>LastSeen</th>\n",
       "      <th>age_auto</th>\n",
       "    </tr>\n",
       "  </thead>\n",
       "  <tbody>\n",
       "    <tr>\n",
       "      <th>12946</th>\n",
       "      <td>2016-03-29 18:39:40</td>\n",
       "      <td>49</td>\n",
       "      <td>other</td>\n",
       "      <td>5000</td>\n",
       "      <td>other</td>\n",
       "      <td>0</td>\n",
       "      <td>golf</td>\n",
       "      <td>5000</td>\n",
       "      <td>12</td>\n",
       "      <td>other</td>\n",
       "      <td>volkswagen</td>\n",
       "      <td>other</td>\n",
       "      <td>2016</td>\n",
       "      <td>0</td>\n",
       "      <td>74523</td>\n",
       "      <td>2016-04-06 04:16:14</td>\n",
       "      <td>-2984</td>\n",
       "    </tr>\n",
       "    <tr>\n",
       "      <th>15870</th>\n",
       "      <td>2016-04-02 11:55:48</td>\n",
       "      <td>1700</td>\n",
       "      <td>other</td>\n",
       "      <td>3200</td>\n",
       "      <td>other</td>\n",
       "      <td>0</td>\n",
       "      <td>other</td>\n",
       "      <td>5000</td>\n",
       "      <td>0</td>\n",
       "      <td>other</td>\n",
       "      <td>sonstige_autos</td>\n",
       "      <td>other</td>\n",
       "      <td>2016</td>\n",
       "      <td>0</td>\n",
       "      <td>33649</td>\n",
       "      <td>2016-04-06 09:46:13</td>\n",
       "      <td>-1184</td>\n",
       "    </tr>\n",
       "    <tr>\n",
       "      <th>17346</th>\n",
       "      <td>2016-03-06 16:06:20</td>\n",
       "      <td>6500</td>\n",
       "      <td>other</td>\n",
       "      <td>8888</td>\n",
       "      <td>other</td>\n",
       "      <td>0</td>\n",
       "      <td>other</td>\n",
       "      <td>10000</td>\n",
       "      <td>0</td>\n",
       "      <td>other</td>\n",
       "      <td>sonstige_autos</td>\n",
       "      <td>other</td>\n",
       "      <td>2016</td>\n",
       "      <td>0</td>\n",
       "      <td>55262</td>\n",
       "      <td>2016-03-30 20:46:55</td>\n",
       "      <td>-6872</td>\n",
       "    </tr>\n",
       "    <tr>\n",
       "      <th>18259</th>\n",
       "      <td>2016-03-16 20:37:54</td>\n",
       "      <td>300</td>\n",
       "      <td>other</td>\n",
       "      <td>2200</td>\n",
       "      <td>other</td>\n",
       "      <td>0</td>\n",
       "      <td>twingo</td>\n",
       "      <td>5000</td>\n",
       "      <td>12</td>\n",
       "      <td>other</td>\n",
       "      <td>renault</td>\n",
       "      <td>other</td>\n",
       "      <td>2016</td>\n",
       "      <td>0</td>\n",
       "      <td>45307</td>\n",
       "      <td>2016-04-07 06:45:32</td>\n",
       "      <td>-184</td>\n",
       "    </tr>\n",
       "    <tr>\n",
       "      <th>20159</th>\n",
       "      <td>2016-04-01 21:57:05</td>\n",
       "      <td>1600</td>\n",
       "      <td>other</td>\n",
       "      <td>4100</td>\n",
       "      <td>other</td>\n",
       "      <td>0</td>\n",
       "      <td>other</td>\n",
       "      <td>5000</td>\n",
       "      <td>0</td>\n",
       "      <td>other</td>\n",
       "      <td>sonstige_autos</td>\n",
       "      <td>other</td>\n",
       "      <td>2016</td>\n",
       "      <td>0</td>\n",
       "      <td>67686</td>\n",
       "      <td>2016-04-05 20:19:27</td>\n",
       "      <td>-2084</td>\n",
       "    </tr>\n",
       "    <tr>\n",
       "      <th>...</th>\n",
       "      <td>...</td>\n",
       "      <td>...</td>\n",
       "      <td>...</td>\n",
       "      <td>...</td>\n",
       "      <td>...</td>\n",
       "      <td>...</td>\n",
       "      <td>...</td>\n",
       "      <td>...</td>\n",
       "      <td>...</td>\n",
       "      <td>...</td>\n",
       "      <td>...</td>\n",
       "      <td>...</td>\n",
       "      <td>...</td>\n",
       "      <td>...</td>\n",
       "      <td>...</td>\n",
       "      <td>...</td>\n",
       "      <td>...</td>\n",
       "    </tr>\n",
       "    <tr>\n",
       "      <th>326556</th>\n",
       "      <td>2016-03-29 21:36:16</td>\n",
       "      <td>7999</td>\n",
       "      <td>other</td>\n",
       "      <td>5911</td>\n",
       "      <td>auto</td>\n",
       "      <td>75</td>\n",
       "      <td>golf</td>\n",
       "      <td>10000</td>\n",
       "      <td>0</td>\n",
       "      <td>other</td>\n",
       "      <td>volkswagen</td>\n",
       "      <td>other</td>\n",
       "      <td>2016</td>\n",
       "      <td>0</td>\n",
       "      <td>41462</td>\n",
       "      <td>2016-04-06 07:46:20</td>\n",
       "      <td>-3895</td>\n",
       "    </tr>\n",
       "    <tr>\n",
       "      <th>328453</th>\n",
       "      <td>2016-03-14 18:54:32</td>\n",
       "      <td>450</td>\n",
       "      <td>other</td>\n",
       "      <td>2500</td>\n",
       "      <td>other</td>\n",
       "      <td>0</td>\n",
       "      <td>6_reihe</td>\n",
       "      <td>5000</td>\n",
       "      <td>0</td>\n",
       "      <td>other</td>\n",
       "      <td>mazda</td>\n",
       "      <td>other</td>\n",
       "      <td>2016</td>\n",
       "      <td>0</td>\n",
       "      <td>45475</td>\n",
       "      <td>2016-03-19 07:17:39</td>\n",
       "      <td>-484</td>\n",
       "    </tr>\n",
       "    <tr>\n",
       "      <th>334967</th>\n",
       "      <td>2016-03-20 17:53:51</td>\n",
       "      <td>12000</td>\n",
       "      <td>other</td>\n",
       "      <td>4000</td>\n",
       "      <td>other</td>\n",
       "      <td>500</td>\n",
       "      <td>golf</td>\n",
       "      <td>5000</td>\n",
       "      <td>0</td>\n",
       "      <td>other</td>\n",
       "      <td>volkswagen</td>\n",
       "      <td>no</td>\n",
       "      <td>2016</td>\n",
       "      <td>0</td>\n",
       "      <td>57392</td>\n",
       "      <td>2016-04-07 00:46:30</td>\n",
       "      <td>-1984</td>\n",
       "    </tr>\n",
       "    <tr>\n",
       "      <th>338829</th>\n",
       "      <td>2016-03-24 19:49:36</td>\n",
       "      <td>50</td>\n",
       "      <td>other</td>\n",
       "      <td>3000</td>\n",
       "      <td>other</td>\n",
       "      <td>3000</td>\n",
       "      <td>golf</td>\n",
       "      <td>100000</td>\n",
       "      <td>6</td>\n",
       "      <td>other</td>\n",
       "      <td>volkswagen</td>\n",
       "      <td>yes</td>\n",
       "      <td>2016</td>\n",
       "      <td>0</td>\n",
       "      <td>23992</td>\n",
       "      <td>2016-04-03 13:17:57</td>\n",
       "      <td>-984</td>\n",
       "    </tr>\n",
       "    <tr>\n",
       "      <th>341791</th>\n",
       "      <td>2016-03-28 17:37:30</td>\n",
       "      <td>1</td>\n",
       "      <td>other</td>\n",
       "      <td>3000</td>\n",
       "      <td>other</td>\n",
       "      <td>0</td>\n",
       "      <td>zafira</td>\n",
       "      <td>5000</td>\n",
       "      <td>0</td>\n",
       "      <td>other</td>\n",
       "      <td>opel</td>\n",
       "      <td>other</td>\n",
       "      <td>2016</td>\n",
       "      <td>0</td>\n",
       "      <td>26624</td>\n",
       "      <td>2016-04-02 22:17:49</td>\n",
       "      <td>-984</td>\n",
       "    </tr>\n",
       "  </tbody>\n",
       "</table>\n",
       "<p>68 rows × 17 columns</p>\n",
       "</div>"
      ],
      "text/plain": [
       "               DateCrawled  Price VehicleType  RegistrationYear Gearbox  \\\n",
       "12946  2016-03-29 18:39:40     49       other              5000   other   \n",
       "15870  2016-04-02 11:55:48   1700       other              3200   other   \n",
       "17346  2016-03-06 16:06:20   6500       other              8888   other   \n",
       "18259  2016-03-16 20:37:54    300       other              2200   other   \n",
       "20159  2016-04-01 21:57:05   1600       other              4100   other   \n",
       "...                    ...    ...         ...               ...     ...   \n",
       "326556 2016-03-29 21:36:16   7999       other              5911    auto   \n",
       "328453 2016-03-14 18:54:32    450       other              2500   other   \n",
       "334967 2016-03-20 17:53:51  12000       other              4000   other   \n",
       "338829 2016-03-24 19:49:36     50       other              3000   other   \n",
       "341791 2016-03-28 17:37:30      1       other              3000   other   \n",
       "\n",
       "        Power    Model  Kilometer  RegistrationMonth FuelType           Brand  \\\n",
       "12946       0     golf       5000                 12    other      volkswagen   \n",
       "15870       0    other       5000                  0    other  sonstige_autos   \n",
       "17346       0    other      10000                  0    other  sonstige_autos   \n",
       "18259       0   twingo       5000                 12    other         renault   \n",
       "20159       0    other       5000                  0    other  sonstige_autos   \n",
       "...       ...      ...        ...                ...      ...             ...   \n",
       "326556     75     golf      10000                  0    other      volkswagen   \n",
       "328453      0  6_reihe       5000                  0    other           mazda   \n",
       "334967    500     golf       5000                  0    other      volkswagen   \n",
       "338829   3000     golf     100000                  6    other      volkswagen   \n",
       "341791      0   zafira       5000                  0    other            opel   \n",
       "\n",
       "       Repaired  DateCreated  NumberOfPictures  PostalCode  \\\n",
       "12946     other         2016                 0       74523   \n",
       "15870     other         2016                 0       33649   \n",
       "17346     other         2016                 0       55262   \n",
       "18259     other         2016                 0       45307   \n",
       "20159     other         2016                 0       67686   \n",
       "...         ...          ...               ...         ...   \n",
       "326556    other         2016                 0       41462   \n",
       "328453    other         2016                 0       45475   \n",
       "334967       no         2016                 0       57392   \n",
       "338829      yes         2016                 0       23992   \n",
       "341791    other         2016                 0       26624   \n",
       "\n",
       "                   LastSeen  age_auto  \n",
       "12946   2016-04-06 04:16:14     -2984  \n",
       "15870   2016-04-06 09:46:13     -1184  \n",
       "17346   2016-03-30 20:46:55     -6872  \n",
       "18259   2016-04-07 06:45:32      -184  \n",
       "20159   2016-04-05 20:19:27     -2084  \n",
       "...                     ...       ...  \n",
       "326556  2016-04-06 07:46:20     -3895  \n",
       "328453  2016-03-19 07:17:39      -484  \n",
       "334967  2016-04-07 00:46:30     -1984  \n",
       "338829  2016-04-03 13:17:57      -984  \n",
       "341791  2016-04-02 22:17:49      -984  \n",
       "\n",
       "[68 rows x 17 columns]"
      ]
     },
     "execution_count": 26,
     "metadata": {},
     "output_type": "execute_result"
    }
   ],
   "source": [
    "df.loc[df['RegistrationYear'] > 2023]"
   ]
  },
  {
   "cell_type": "markdown",
   "metadata": {},
   "source": [
    "Снова остаются аномальные значения, ничего не остается, как ограничиться максимальным значением 2023 год. Так как данный признак значителен, и опечатки в нем нам не нужны."
   ]
  },
  {
   "cell_type": "code",
   "execution_count": 27,
   "metadata": {},
   "outputs": [],
   "source": [
    "df = df.loc[df['RegistrationYear'] <= 2023]"
   ]
  },
  {
   "cell_type": "code",
   "execution_count": 28,
   "metadata": {
    "scrolled": true
   },
   "outputs": [],
   "source": [
    "# также избавимся от значений года, ранее 1900 (можно было бы еще сузить диапазон, \n",
    "# но вдруг на этой площадке, действительно, представлены раритеты)\n",
    "\n",
    "df = df.loc[df['RegistrationYear'] > 1900]"
   ]
  },
  {
   "cell_type": "code",
   "execution_count": 29,
   "metadata": {},
   "outputs": [],
   "source": [
    "# избавимся от отрицательных значений возраста авто.\n",
    "\n",
    "df = df.loc[df['age_auto'] >= 0]"
   ]
  },
  {
   "cell_type": "code",
   "execution_count": 30,
   "metadata": {
    "scrolled": false
   },
   "outputs": [
    {
     "data": {
      "text/plain": [
       "<AxesSubplot:>"
      ]
     },
     "execution_count": 30,
     "metadata": {},
     "output_type": "execute_result"
    },
    {
     "data": {
      "image/png": "[encoded data removed]",
      "text/plain": [
       "<Figure size 432x288 with 1 Axes>"
      ]
     },
     "metadata": {
      "needs_background": "light"
     },
     "output_type": "display_data"
    }
   ],
   "source": [
    "# построим диаграмму размаха по показателю Мощность двингателя\n",
    "\n",
    "df.boxplot('Power')"
   ]
  },
  {
   "cell_type": "markdown",
   "metadata": {},
   "source": [
    "Ничего не понятно, слишком много вылетов"
   ]
  },
  {
   "cell_type": "code",
   "execution_count": 31,
   "metadata": {
    "scrolled": false
   },
   "outputs": [
    {
     "data": {
      "text/plain": [
       "Text(0.5, 0, 'Мощность двигателя')"
      ]
     },
     "execution_count": 31,
     "metadata": {},
     "output_type": "execute_result"
    },
    {
     "data": {
      "image/png": "[encoded data removed]",
      "text/plain": [
       "<Figure size 1080x504 with 1 Axes>"
      ]
     },
     "metadata": {
      "needs_background": "light"
     },
     "output_type": "display_data"
    }
   ],
   "source": [
    "# строим гистограмму\n",
    "\n",
    "df['Power'].plot(kind='hist', title='Гистограмма мощности двигателя', bins=30, figsize=(15,7), grid='True').set_xlabel('Мощность двигателя')"
   ]
  },
  {
   "cell_type": "markdown",
   "metadata": {},
   "source": [
    "Вылеты даже не видны на гистограмме, удалим их."
   ]
  },
  {
   "cell_type": "code",
   "execution_count": 32,
   "metadata": {
    "scrolled": true
   },
   "outputs": [
    {
     "data": {
      "text/plain": [
       "309"
      ]
     },
     "execution_count": 32,
     "metadata": {},
     "output_type": "execute_result"
    }
   ],
   "source": [
    "# удостоверимся, что количество небольшое\n",
    "\n",
    "(df['Power'] > 650).sum()"
   ]
  },
  {
   "cell_type": "code",
   "execution_count": 33,
   "metadata": {},
   "outputs": [],
   "source": [
    "df = df.loc[df['Power'] < 650]"
   ]
  },
  {
   "cell_type": "code",
   "execution_count": 34,
   "metadata": {
    "scrolled": true
   },
   "outputs": [
    {
     "data": {
      "text/plain": [
       "<AxesSubplot:>"
      ]
     },
     "execution_count": 34,
     "metadata": {},
     "output_type": "execute_result"
    },
    {
     "data": {
      "image/png": "[encoded data removed]",
      "text/plain": [
       "<Figure size 432x288 with 1 Axes>"
      ]
     },
     "metadata": {
      "needs_background": "light"
     },
     "output_type": "display_data"
    }
   ],
   "source": [
    "# проверим, как теперь выглядит диаграмма размаха\n",
    "\n",
    "df.boxplot('Power')"
   ]
  },
  {
   "cell_type": "code",
   "execution_count": 35,
   "metadata": {
    "scrolled": true
   },
   "outputs": [
    {
     "data": {
      "text/plain": [
       "Text(0.5, 0, 'Мощность двигателя')"
      ]
     },
     "execution_count": 35,
     "metadata": {},
     "output_type": "execute_result"
    },
    {
     "data": {
      "image/png": "[encoded data removed]",
      "text/plain": [
       "<Figure size 1080x504 with 1 Axes>"
      ]
     },
     "metadata": {
      "needs_background": "light"
     },
     "output_type": "display_data"
    }
   ],
   "source": [
    "# и еще раз построим гистограмму\n",
    "\n",
    "df['Power'].plot(kind='hist', title='Гистограмма мощности двигателя', bins=30, figsize=(15,7), grid='True').set_xlabel('Мощность двигателя')"
   ]
  },
  {
   "cell_type": "code",
   "execution_count": 36,
   "metadata": {},
   "outputs": [],
   "source": [
    "# можем еще откинуть незначительное количество аномальных вылетов\n",
    "\n",
    "df = df.loc[df['Power'] <= 250]"
   ]
  },
  {
   "cell_type": "code",
   "execution_count": 37,
   "metadata": {
    "scrolled": true
   },
   "outputs": [
    {
     "data": {
      "text/plain": [
       "<AxesSubplot:>"
      ]
     },
     "execution_count": 37,
     "metadata": {},
     "output_type": "execute_result"
    },
    {
     "data": {
      "image/png": "[encoded data removed]",
      "text/plain": [
       "<Figure size 432x288 with 1 Axes>"
      ]
     },
     "metadata": {
      "needs_background": "light"
     },
     "output_type": "display_data"
    }
   ],
   "source": [
    "# построим диаграмму размаха по Пробегу авто\n",
    "\n",
    "df.boxplot('Kilometer')"
   ]
  },
  {
   "cell_type": "code",
   "execution_count": 38,
   "metadata": {
    "scrolled": false
   },
   "outputs": [
    {
     "data": {
      "text/plain": [
       "Text(0.5, 0, 'Пробег автомобиля')"
      ]
     },
     "execution_count": 38,
     "metadata": {},
     "output_type": "execute_result"
    },
    {
     "data": {
      "image/png": "[encoded data removed]",
      "text/plain": [
       "<Figure size 1080x504 with 1 Axes>"
      ]
     },
     "metadata": {
      "needs_background": "light"
     },
     "output_type": "display_data"
    }
   ],
   "source": [
    "# построим гистограмму\n",
    "\n",
    "df['Kilometer'].plot(kind='hist', title='Гистограмма пробега автомобиля', bins=30, figsize=(15,7), grid='True').set_xlabel('Пробег автомобиля')"
   ]
  },
  {
   "cell_type": "markdown",
   "metadata": {},
   "source": [
    "Пробеги у машин могут быть разные, оставим все возможные варианты."
   ]
  },
  {
   "cell_type": "code",
   "execution_count": 39,
   "metadata": {},
   "outputs": [
    {
     "data": {
      "text/html": [
       "<div>\n",
       "<style scoped>\n",
       "    .dataframe tbody tr th:only-of-type {\n",
       "        vertical-align: middle;\n",
       "    }\n",
       "\n",
       "    .dataframe tbody tr th {\n",
       "        vertical-align: top;\n",
       "    }\n",
       "\n",
       "    .dataframe thead th {\n",
       "        text-align: right;\n",
       "    }\n",
       "</style>\n",
       "<table border=\"1\" class=\"dataframe\">\n",
       "  <thead>\n",
       "    <tr style=\"text-align: right;\">\n",
       "      <th></th>\n",
       "      <th>Price</th>\n",
       "      <th>RegistrationYear</th>\n",
       "      <th>Power</th>\n",
       "      <th>Kilometer</th>\n",
       "      <th>RegistrationMonth</th>\n",
       "      <th>DateCreated</th>\n",
       "      <th>NumberOfPictures</th>\n",
       "      <th>PostalCode</th>\n",
       "      <th>age_auto</th>\n",
       "    </tr>\n",
       "  </thead>\n",
       "  <tbody>\n",
       "    <tr>\n",
       "      <th>count</th>\n",
       "      <td>322720.000000</td>\n",
       "      <td>322720.00000</td>\n",
       "      <td>322720.000000</td>\n",
       "      <td>322720.000000</td>\n",
       "      <td>322720.000000</td>\n",
       "      <td>322720.000000</td>\n",
       "      <td>322720.0</td>\n",
       "      <td>322720.000000</td>\n",
       "      <td>322720.000000</td>\n",
       "    </tr>\n",
       "    <tr>\n",
       "      <th>mean</th>\n",
       "      <td>4470.429199</td>\n",
       "      <td>2002.58679</td>\n",
       "      <td>104.428678</td>\n",
       "      <td>128111.846182</td>\n",
       "      <td>5.810721</td>\n",
       "      <td>2015.999919</td>\n",
       "      <td>0.0</td>\n",
       "      <td>50740.255782</td>\n",
       "      <td>13.413129</td>\n",
       "    </tr>\n",
       "    <tr>\n",
       "      <th>std</th>\n",
       "      <td>4425.501403</td>\n",
       "      <td>6.93254</td>\n",
       "      <td>55.852964</td>\n",
       "      <td>37603.200497</td>\n",
       "      <td>3.681520</td>\n",
       "      <td>0.009314</td>\n",
       "      <td>0.0</td>\n",
       "      <td>25761.646485</td>\n",
       "      <td>6.932560</td>\n",
       "    </tr>\n",
       "    <tr>\n",
       "      <th>min</th>\n",
       "      <td>1.000000</td>\n",
       "      <td>1910.00000</td>\n",
       "      <td>0.000000</td>\n",
       "      <td>5000.000000</td>\n",
       "      <td>0.000000</td>\n",
       "      <td>2014.000000</td>\n",
       "      <td>0.0</td>\n",
       "      <td>1067.000000</td>\n",
       "      <td>0.000000</td>\n",
       "    </tr>\n",
       "    <tr>\n",
       "      <th>25%</th>\n",
       "      <td>1200.000000</td>\n",
       "      <td>1999.00000</td>\n",
       "      <td>69.000000</td>\n",
       "      <td>125000.000000</td>\n",
       "      <td>3.000000</td>\n",
       "      <td>2016.000000</td>\n",
       "      <td>0.0</td>\n",
       "      <td>30455.000000</td>\n",
       "      <td>9.000000</td>\n",
       "    </tr>\n",
       "    <tr>\n",
       "      <th>50%</th>\n",
       "      <td>2800.000000</td>\n",
       "      <td>2003.00000</td>\n",
       "      <td>105.000000</td>\n",
       "      <td>150000.000000</td>\n",
       "      <td>6.000000</td>\n",
       "      <td>2016.000000</td>\n",
       "      <td>0.0</td>\n",
       "      <td>49596.000000</td>\n",
       "      <td>13.000000</td>\n",
       "    </tr>\n",
       "    <tr>\n",
       "      <th>75%</th>\n",
       "      <td>6450.000000</td>\n",
       "      <td>2007.00000</td>\n",
       "      <td>140.000000</td>\n",
       "      <td>150000.000000</td>\n",
       "      <td>9.000000</td>\n",
       "      <td>2016.000000</td>\n",
       "      <td>0.0</td>\n",
       "      <td>71277.000000</td>\n",
       "      <td>17.000000</td>\n",
       "    </tr>\n",
       "    <tr>\n",
       "      <th>max</th>\n",
       "      <td>20000.000000</td>\n",
       "      <td>2016.00000</td>\n",
       "      <td>250.000000</td>\n",
       "      <td>150000.000000</td>\n",
       "      <td>12.000000</td>\n",
       "      <td>2016.000000</td>\n",
       "      <td>0.0</td>\n",
       "      <td>99998.000000</td>\n",
       "      <td>106.000000</td>\n",
       "    </tr>\n",
       "  </tbody>\n",
       "</table>\n",
       "</div>"
      ],
      "text/plain": [
       "               Price  RegistrationYear          Power      Kilometer  \\\n",
       "count  322720.000000      322720.00000  322720.000000  322720.000000   \n",
       "mean     4470.429199        2002.58679     104.428678  128111.846182   \n",
       "std      4425.501403           6.93254      55.852964   37603.200497   \n",
       "min         1.000000        1910.00000       0.000000    5000.000000   \n",
       "25%      1200.000000        1999.00000      69.000000  125000.000000   \n",
       "50%      2800.000000        2003.00000     105.000000  150000.000000   \n",
       "75%      6450.000000        2007.00000     140.000000  150000.000000   \n",
       "max     20000.000000        2016.00000     250.000000  150000.000000   \n",
       "\n",
       "       RegistrationMonth    DateCreated  NumberOfPictures     PostalCode  \\\n",
       "count      322720.000000  322720.000000          322720.0  322720.000000   \n",
       "mean            5.810721    2015.999919               0.0   50740.255782   \n",
       "std             3.681520       0.009314               0.0   25761.646485   \n",
       "min             0.000000    2014.000000               0.0    1067.000000   \n",
       "25%             3.000000    2016.000000               0.0   30455.000000   \n",
       "50%             6.000000    2016.000000               0.0   49596.000000   \n",
       "75%             9.000000    2016.000000               0.0   71277.000000   \n",
       "max            12.000000    2016.000000               0.0   99998.000000   \n",
       "\n",
       "            age_auto  \n",
       "count  322720.000000  \n",
       "mean       13.413129  \n",
       "std         6.932560  \n",
       "min         0.000000  \n",
       "25%         9.000000  \n",
       "50%        13.000000  \n",
       "75%        17.000000  \n",
       "max       106.000000  "
      ]
     },
     "execution_count": 39,
     "metadata": {},
     "output_type": "execute_result"
    }
   ],
   "source": [
    "# проверим статастические данные после преобразований\n",
    "\n",
    "df.describe()"
   ]
  },
  {
   "cell_type": "markdown",
   "metadata": {},
   "source": [
    "Статистические данные стали адекватнее."
   ]
  },
  {
   "cell_type": "markdown",
   "metadata": {},
   "source": [
    "В датафрейме насторожил признак 'NumberOfPictures' - кол-во изображений авто (видим одни нули), посмотрим, какие значения присутствуют в датафрейме."
   ]
  },
  {
   "cell_type": "code",
   "execution_count": 40,
   "metadata": {},
   "outputs": [
    {
     "data": {
      "text/plain": [
       "0    322720\n",
       "Name: NumberOfPictures, dtype: int64"
      ]
     },
     "execution_count": 40,
     "metadata": {},
     "output_type": "execute_result"
    }
   ],
   "source": [
    "df['NumberOfPictures'].value_counts()"
   ]
  },
  {
   "cell_type": "markdown",
   "metadata": {},
   "source": [
    "Кроме нулей ничего нет. Этот признак в данной ситуации никакой роли не играет, удаляем его."
   ]
  },
  {
   "cell_type": "markdown",
   "metadata": {},
   "source": [
    "Также удалению подлежат все даты, месяц регистрации и индекс. Эти показатели не влияют на стоимость авто.\n",
    "\n",
    "удаляем ненужные признаки"
   ]
  },
  {
   "cell_type": "code",
   "execution_count": 41,
   "metadata": {},
   "outputs": [],
   "source": [
    "# удаляем ненужные признаки, а также удаляем Model, так как в дальнейшем после проведения OHE не хватит ресурсов для исполнения кода\n",
    "\n",
    "df = df.drop(['NumberOfPictures', 'DateCrawled', 'DateCreated', 'LastSeen', 'RegistrationMonth', 'PostalCode', 'Model'], axis=1)"
   ]
  },
  {
   "cell_type": "code",
   "execution_count": 42,
   "metadata": {
    "scrolled": false
   },
   "outputs": [
    {
     "data": {
      "text/plain": [
       "47894"
      ]
     },
     "execution_count": 42,
     "metadata": {},
     "output_type": "execute_result"
    }
   ],
   "source": [
    "# проверим количество явных дубликатов.\n",
    "\n",
    "df.duplicated().sum()"
   ]
  },
  {
   "cell_type": "code",
   "execution_count": 43,
   "metadata": {},
   "outputs": [],
   "source": [
    "# избавимся от них\n",
    "\n",
    "df = df.drop_duplicates().reset_index(drop=True)"
   ]
  },
  {
   "cell_type": "code",
   "execution_count": 44,
   "metadata": {
    "scrolled": false
   },
   "outputs": [
    {
     "data": {
      "text/plain": [
       "(274826, 10)"
      ]
     },
     "execution_count": 44,
     "metadata": {},
     "output_type": "execute_result"
    }
   ],
   "source": [
    "# проверим размер получившегося датафрейма\n",
    "\n",
    "df.shape"
   ]
  },
  {
   "cell_type": "code",
   "execution_count": 45,
   "metadata": {
    "scrolled": true
   },
   "outputs": [
    {
     "name": "stdout",
     "output_type": "stream",
     "text": [
      "<class 'pandas.core.frame.DataFrame'>\n",
      "RangeIndex: 274826 entries, 0 to 274825\n",
      "Data columns (total 10 columns):\n",
      " #   Column            Non-Null Count   Dtype \n",
      "---  ------            --------------   ----- \n",
      " 0   Price             274826 non-null  int64 \n",
      " 1   VehicleType       274826 non-null  object\n",
      " 2   RegistrationYear  274826 non-null  int64 \n",
      " 3   Gearbox           274826 non-null  object\n",
      " 4   Power             274826 non-null  int64 \n",
      " 5   Kilometer         274826 non-null  int64 \n",
      " 6   FuelType          274826 non-null  object\n",
      " 7   Brand             274826 non-null  object\n",
      " 8   Repaired          274826 non-null  object\n",
      " 9   age_auto          274826 non-null  int64 \n",
      "dtypes: int64(5), object(5)\n",
      "memory usage: 21.0+ MB\n"
     ]
    }
   ],
   "source": [
    "# проверим информацию о получившемся датафрейме\n",
    "\n",
    "df.info()"
   ]
  },
  {
   "cell_type": "markdown",
   "metadata": {},
   "source": [
    "Пропущенных значений нет, типы данных устраивают. Переходим к подготовке выборок для обучения моделей."
   ]
  },
  {
   "cell_type": "code",
   "execution_count": 46,
   "metadata": {},
   "outputs": [
    {
     "data": {
      "text/html": [
       "<div>\n",
       "<style scoped>\n",
       "    .dataframe tbody tr th:only-of-type {\n",
       "        vertical-align: middle;\n",
       "    }\n",
       "\n",
       "    .dataframe tbody tr th {\n",
       "        vertical-align: top;\n",
       "    }\n",
       "\n",
       "    .dataframe thead th {\n",
       "        text-align: right;\n",
       "    }\n",
       "</style>\n",
       "<table border=\"1\" class=\"dataframe\">\n",
       "  <thead>\n",
       "    <tr style=\"text-align: right;\">\n",
       "      <th></th>\n",
       "      <th>Price</th>\n",
       "      <th>VehicleType</th>\n",
       "      <th>RegistrationYear</th>\n",
       "      <th>Gearbox</th>\n",
       "      <th>Power</th>\n",
       "      <th>Kilometer</th>\n",
       "      <th>FuelType</th>\n",
       "      <th>Brand</th>\n",
       "      <th>Repaired</th>\n",
       "      <th>age_auto</th>\n",
       "    </tr>\n",
       "  </thead>\n",
       "  <tbody>\n",
       "    <tr>\n",
       "      <th>0</th>\n",
       "      <td>480</td>\n",
       "      <td>other</td>\n",
       "      <td>1993</td>\n",
       "      <td>manual</td>\n",
       "      <td>0</td>\n",
       "      <td>150000</td>\n",
       "      <td>petrol</td>\n",
       "      <td>volkswagen</td>\n",
       "      <td>other</td>\n",
       "      <td>23</td>\n",
       "    </tr>\n",
       "    <tr>\n",
       "      <th>1</th>\n",
       "      <td>18300</td>\n",
       "      <td>coupe</td>\n",
       "      <td>2011</td>\n",
       "      <td>manual</td>\n",
       "      <td>190</td>\n",
       "      <td>125000</td>\n",
       "      <td>gasoline</td>\n",
       "      <td>audi</td>\n",
       "      <td>yes</td>\n",
       "      <td>5</td>\n",
       "    </tr>\n",
       "    <tr>\n",
       "      <th>2</th>\n",
       "      <td>9800</td>\n",
       "      <td>suv</td>\n",
       "      <td>2004</td>\n",
       "      <td>auto</td>\n",
       "      <td>163</td>\n",
       "      <td>125000</td>\n",
       "      <td>gasoline</td>\n",
       "      <td>jeep</td>\n",
       "      <td>other</td>\n",
       "      <td>12</td>\n",
       "    </tr>\n",
       "    <tr>\n",
       "      <th>3</th>\n",
       "      <td>1500</td>\n",
       "      <td>small</td>\n",
       "      <td>2001</td>\n",
       "      <td>manual</td>\n",
       "      <td>75</td>\n",
       "      <td>150000</td>\n",
       "      <td>petrol</td>\n",
       "      <td>volkswagen</td>\n",
       "      <td>no</td>\n",
       "      <td>15</td>\n",
       "    </tr>\n",
       "    <tr>\n",
       "      <th>4</th>\n",
       "      <td>3600</td>\n",
       "      <td>small</td>\n",
       "      <td>2008</td>\n",
       "      <td>manual</td>\n",
       "      <td>69</td>\n",
       "      <td>90000</td>\n",
       "      <td>gasoline</td>\n",
       "      <td>skoda</td>\n",
       "      <td>no</td>\n",
       "      <td>8</td>\n",
       "    </tr>\n",
       "  </tbody>\n",
       "</table>\n",
       "</div>"
      ],
      "text/plain": [
       "   Price VehicleType  RegistrationYear Gearbox  Power  Kilometer  FuelType  \\\n",
       "0    480       other              1993  manual      0     150000    petrol   \n",
       "1  18300       coupe              2011  manual    190     125000  gasoline   \n",
       "2   9800         suv              2004    auto    163     125000  gasoline   \n",
       "3   1500       small              2001  manual     75     150000    petrol   \n",
       "4   3600       small              2008  manual     69      90000  gasoline   \n",
       "\n",
       "        Brand Repaired  age_auto  \n",
       "0  volkswagen    other        23  \n",
       "1        audi      yes         5  \n",
       "2        jeep    other        12  \n",
       "3  volkswagen       no        15  \n",
       "4       skoda       no         8  "
      ]
     },
     "execution_count": 46,
     "metadata": {},
     "output_type": "execute_result"
    }
   ],
   "source": [
    "df.head()"
   ]
  },
  {
   "cell_type": "markdown",
   "metadata": {},
   "source": [
    "## Подготовка выборок для обучения моделей"
   ]
  },
  {
   "cell_type": "code",
   "execution_count": 47,
   "metadata": {},
   "outputs": [
    {
     "data": {
      "text/html": [
       "<div>\n",
       "<style scoped>\n",
       "    .dataframe tbody tr th:only-of-type {\n",
       "        vertical-align: middle;\n",
       "    }\n",
       "\n",
       "    .dataframe tbody tr th {\n",
       "        vertical-align: top;\n",
       "    }\n",
       "\n",
       "    .dataframe thead th {\n",
       "        text-align: right;\n",
       "    }\n",
       "</style>\n",
       "<table border=\"1\" class=\"dataframe\">\n",
       "  <thead>\n",
       "    <tr style=\"text-align: right;\">\n",
       "      <th></th>\n",
       "      <th>Price</th>\n",
       "      <th>VehicleType</th>\n",
       "      <th>RegistrationYear</th>\n",
       "      <th>Gearbox</th>\n",
       "      <th>Power</th>\n",
       "      <th>Kilometer</th>\n",
       "      <th>FuelType</th>\n",
       "      <th>Brand</th>\n",
       "      <th>Repaired</th>\n",
       "      <th>age_auto</th>\n",
       "      <th>...</th>\n",
       "      <th>51</th>\n",
       "      <th>52</th>\n",
       "      <th>53</th>\n",
       "      <th>54</th>\n",
       "      <th>55</th>\n",
       "      <th>56</th>\n",
       "      <th>57</th>\n",
       "      <th>58</th>\n",
       "      <th>59</th>\n",
       "      <th>60</th>\n",
       "    </tr>\n",
       "  </thead>\n",
       "  <tbody>\n",
       "    <tr>\n",
       "      <th>0</th>\n",
       "      <td>480</td>\n",
       "      <td>other</td>\n",
       "      <td>1993</td>\n",
       "      <td>manual</td>\n",
       "      <td>0</td>\n",
       "      <td>150000</td>\n",
       "      <td>petrol</td>\n",
       "      <td>volkswagen</td>\n",
       "      <td>other</td>\n",
       "      <td>23</td>\n",
       "      <td>...</td>\n",
       "      <td>0.0</td>\n",
       "      <td>0.0</td>\n",
       "      <td>0.0</td>\n",
       "      <td>0.0</td>\n",
       "      <td>0.0</td>\n",
       "      <td>1.0</td>\n",
       "      <td>0.0</td>\n",
       "      <td>0.0</td>\n",
       "      <td>1.0</td>\n",
       "      <td>0.0</td>\n",
       "    </tr>\n",
       "    <tr>\n",
       "      <th>1</th>\n",
       "      <td>18300</td>\n",
       "      <td>coupe</td>\n",
       "      <td>2011</td>\n",
       "      <td>manual</td>\n",
       "      <td>190</td>\n",
       "      <td>125000</td>\n",
       "      <td>gasoline</td>\n",
       "      <td>audi</td>\n",
       "      <td>yes</td>\n",
       "      <td>5</td>\n",
       "      <td>...</td>\n",
       "      <td>0.0</td>\n",
       "      <td>0.0</td>\n",
       "      <td>0.0</td>\n",
       "      <td>0.0</td>\n",
       "      <td>0.0</td>\n",
       "      <td>0.0</td>\n",
       "      <td>0.0</td>\n",
       "      <td>0.0</td>\n",
       "      <td>0.0</td>\n",
       "      <td>1.0</td>\n",
       "    </tr>\n",
       "    <tr>\n",
       "      <th>2</th>\n",
       "      <td>9800</td>\n",
       "      <td>suv</td>\n",
       "      <td>2004</td>\n",
       "      <td>auto</td>\n",
       "      <td>163</td>\n",
       "      <td>125000</td>\n",
       "      <td>gasoline</td>\n",
       "      <td>jeep</td>\n",
       "      <td>other</td>\n",
       "      <td>12</td>\n",
       "      <td>...</td>\n",
       "      <td>0.0</td>\n",
       "      <td>0.0</td>\n",
       "      <td>0.0</td>\n",
       "      <td>0.0</td>\n",
       "      <td>0.0</td>\n",
       "      <td>0.0</td>\n",
       "      <td>0.0</td>\n",
       "      <td>0.0</td>\n",
       "      <td>1.0</td>\n",
       "      <td>0.0</td>\n",
       "    </tr>\n",
       "    <tr>\n",
       "      <th>3</th>\n",
       "      <td>1500</td>\n",
       "      <td>small</td>\n",
       "      <td>2001</td>\n",
       "      <td>manual</td>\n",
       "      <td>75</td>\n",
       "      <td>150000</td>\n",
       "      <td>petrol</td>\n",
       "      <td>volkswagen</td>\n",
       "      <td>no</td>\n",
       "      <td>15</td>\n",
       "      <td>...</td>\n",
       "      <td>0.0</td>\n",
       "      <td>0.0</td>\n",
       "      <td>0.0</td>\n",
       "      <td>0.0</td>\n",
       "      <td>0.0</td>\n",
       "      <td>1.0</td>\n",
       "      <td>0.0</td>\n",
       "      <td>1.0</td>\n",
       "      <td>0.0</td>\n",
       "      <td>0.0</td>\n",
       "    </tr>\n",
       "    <tr>\n",
       "      <th>4</th>\n",
       "      <td>3600</td>\n",
       "      <td>small</td>\n",
       "      <td>2008</td>\n",
       "      <td>manual</td>\n",
       "      <td>69</td>\n",
       "      <td>90000</td>\n",
       "      <td>gasoline</td>\n",
       "      <td>skoda</td>\n",
       "      <td>no</td>\n",
       "      <td>8</td>\n",
       "      <td>...</td>\n",
       "      <td>0.0</td>\n",
       "      <td>0.0</td>\n",
       "      <td>0.0</td>\n",
       "      <td>0.0</td>\n",
       "      <td>0.0</td>\n",
       "      <td>0.0</td>\n",
       "      <td>0.0</td>\n",
       "      <td>1.0</td>\n",
       "      <td>0.0</td>\n",
       "      <td>0.0</td>\n",
       "    </tr>\n",
       "  </tbody>\n",
       "</table>\n",
       "<p>5 rows × 71 columns</p>\n",
       "</div>"
      ],
      "text/plain": [
       "   Price VehicleType  RegistrationYear Gearbox  Power  Kilometer  FuelType  \\\n",
       "0    480       other              1993  manual      0     150000    petrol   \n",
       "1  18300       coupe              2011  manual    190     125000  gasoline   \n",
       "2   9800         suv              2004    auto    163     125000  gasoline   \n",
       "3   1500       small              2001  manual     75     150000    petrol   \n",
       "4   3600       small              2008  manual     69      90000  gasoline   \n",
       "\n",
       "        Brand Repaired  age_auto  ...   51   52   53   54   55   56   57   58  \\\n",
       "0  volkswagen    other        23  ...  0.0  0.0  0.0  0.0  0.0  1.0  0.0  0.0   \n",
       "1        audi      yes         5  ...  0.0  0.0  0.0  0.0  0.0  0.0  0.0  0.0   \n",
       "2        jeep    other        12  ...  0.0  0.0  0.0  0.0  0.0  0.0  0.0  0.0   \n",
       "3  volkswagen       no        15  ...  0.0  0.0  0.0  0.0  0.0  1.0  0.0  1.0   \n",
       "4       skoda       no         8  ...  0.0  0.0  0.0  0.0  0.0  0.0  0.0  1.0   \n",
       "\n",
       "    59   60  \n",
       "0  1.0  0.0  \n",
       "1  0.0  1.0  \n",
       "2  1.0  0.0  \n",
       "3  0.0  0.0  \n",
       "4  0.0  0.0  \n",
       "\n",
       "[5 rows x 71 columns]"
      ]
     },
     "execution_count": 47,
     "metadata": {},
     "output_type": "execute_result"
    }
   ],
   "source": [
    "# для начала переведем все признаки в численные значения, для этого используем OHE кодирование\n",
    "\n",
    "encoder = OneHotEncoder(handle_unknown='ignore')\n",
    "\n",
    "df_ohe = pd.DataFrame(encoder.fit_transform(df[['VehicleType', 'Gearbox', 'FuelType', 'Brand', 'Repaired']]). toarray ())\n",
    "\n",
    "df_final = df.join (df_ohe)\n",
    "\n",
    "df_final.head()"
   ]
  },
  {
   "cell_type": "code",
   "execution_count": 48,
   "metadata": {},
   "outputs": [
    {
     "data": {
      "text/html": [
       "<div>\n",
       "<style scoped>\n",
       "    .dataframe tbody tr th:only-of-type {\n",
       "        vertical-align: middle;\n",
       "    }\n",
       "\n",
       "    .dataframe tbody tr th {\n",
       "        vertical-align: top;\n",
       "    }\n",
       "\n",
       "    .dataframe thead th {\n",
       "        text-align: right;\n",
       "    }\n",
       "</style>\n",
       "<table border=\"1\" class=\"dataframe\">\n",
       "  <thead>\n",
       "    <tr style=\"text-align: right;\">\n",
       "      <th></th>\n",
       "      <th>Price</th>\n",
       "      <th>RegistrationYear</th>\n",
       "      <th>Power</th>\n",
       "      <th>Kilometer</th>\n",
       "      <th>age_auto</th>\n",
       "      <th>0</th>\n",
       "      <th>1</th>\n",
       "      <th>2</th>\n",
       "      <th>3</th>\n",
       "      <th>4</th>\n",
       "      <th>...</th>\n",
       "      <th>51</th>\n",
       "      <th>52</th>\n",
       "      <th>53</th>\n",
       "      <th>54</th>\n",
       "      <th>55</th>\n",
       "      <th>56</th>\n",
       "      <th>57</th>\n",
       "      <th>58</th>\n",
       "      <th>59</th>\n",
       "      <th>60</th>\n",
       "    </tr>\n",
       "  </thead>\n",
       "  <tbody>\n",
       "    <tr>\n",
       "      <th>0</th>\n",
       "      <td>480</td>\n",
       "      <td>1993</td>\n",
       "      <td>0</td>\n",
       "      <td>150000</td>\n",
       "      <td>23</td>\n",
       "      <td>0.0</td>\n",
       "      <td>0.0</td>\n",
       "      <td>0.0</td>\n",
       "      <td>1.0</td>\n",
       "      <td>0.0</td>\n",
       "      <td>...</td>\n",
       "      <td>0.0</td>\n",
       "      <td>0.0</td>\n",
       "      <td>0.0</td>\n",
       "      <td>0.0</td>\n",
       "      <td>0.0</td>\n",
       "      <td>1.0</td>\n",
       "      <td>0.0</td>\n",
       "      <td>0.0</td>\n",
       "      <td>1.0</td>\n",
       "      <td>0.0</td>\n",
       "    </tr>\n",
       "    <tr>\n",
       "      <th>1</th>\n",
       "      <td>18300</td>\n",
       "      <td>2011</td>\n",
       "      <td>190</td>\n",
       "      <td>125000</td>\n",
       "      <td>5</td>\n",
       "      <td>0.0</td>\n",
       "      <td>0.0</td>\n",
       "      <td>1.0</td>\n",
       "      <td>0.0</td>\n",
       "      <td>0.0</td>\n",
       "      <td>...</td>\n",
       "      <td>0.0</td>\n",
       "      <td>0.0</td>\n",
       "      <td>0.0</td>\n",
       "      <td>0.0</td>\n",
       "      <td>0.0</td>\n",
       "      <td>0.0</td>\n",
       "      <td>0.0</td>\n",
       "      <td>0.0</td>\n",
       "      <td>0.0</td>\n",
       "      <td>1.0</td>\n",
       "    </tr>\n",
       "    <tr>\n",
       "      <th>2</th>\n",
       "      <td>9800</td>\n",
       "      <td>2004</td>\n",
       "      <td>163</td>\n",
       "      <td>125000</td>\n",
       "      <td>12</td>\n",
       "      <td>0.0</td>\n",
       "      <td>0.0</td>\n",
       "      <td>0.0</td>\n",
       "      <td>0.0</td>\n",
       "      <td>0.0</td>\n",
       "      <td>...</td>\n",
       "      <td>0.0</td>\n",
       "      <td>0.0</td>\n",
       "      <td>0.0</td>\n",
       "      <td>0.0</td>\n",
       "      <td>0.0</td>\n",
       "      <td>0.0</td>\n",
       "      <td>0.0</td>\n",
       "      <td>0.0</td>\n",
       "      <td>1.0</td>\n",
       "      <td>0.0</td>\n",
       "    </tr>\n",
       "    <tr>\n",
       "      <th>3</th>\n",
       "      <td>1500</td>\n",
       "      <td>2001</td>\n",
       "      <td>75</td>\n",
       "      <td>150000</td>\n",
       "      <td>15</td>\n",
       "      <td>0.0</td>\n",
       "      <td>0.0</td>\n",
       "      <td>0.0</td>\n",
       "      <td>0.0</td>\n",
       "      <td>0.0</td>\n",
       "      <td>...</td>\n",
       "      <td>0.0</td>\n",
       "      <td>0.0</td>\n",
       "      <td>0.0</td>\n",
       "      <td>0.0</td>\n",
       "      <td>0.0</td>\n",
       "      <td>1.0</td>\n",
       "      <td>0.0</td>\n",
       "      <td>1.0</td>\n",
       "      <td>0.0</td>\n",
       "      <td>0.0</td>\n",
       "    </tr>\n",
       "    <tr>\n",
       "      <th>4</th>\n",
       "      <td>3600</td>\n",
       "      <td>2008</td>\n",
       "      <td>69</td>\n",
       "      <td>90000</td>\n",
       "      <td>8</td>\n",
       "      <td>0.0</td>\n",
       "      <td>0.0</td>\n",
       "      <td>0.0</td>\n",
       "      <td>0.0</td>\n",
       "      <td>0.0</td>\n",
       "      <td>...</td>\n",
       "      <td>0.0</td>\n",
       "      <td>0.0</td>\n",
       "      <td>0.0</td>\n",
       "      <td>0.0</td>\n",
       "      <td>0.0</td>\n",
       "      <td>0.0</td>\n",
       "      <td>0.0</td>\n",
       "      <td>1.0</td>\n",
       "      <td>0.0</td>\n",
       "      <td>0.0</td>\n",
       "    </tr>\n",
       "  </tbody>\n",
       "</table>\n",
       "<p>5 rows × 66 columns</p>\n",
       "</div>"
      ],
      "text/plain": [
       "   Price  RegistrationYear  Power  Kilometer  age_auto    0    1    2    3  \\\n",
       "0    480              1993      0     150000        23  0.0  0.0  0.0  1.0   \n",
       "1  18300              2011    190     125000         5  0.0  0.0  1.0  0.0   \n",
       "2   9800              2004    163     125000        12  0.0  0.0  0.0  0.0   \n",
       "3   1500              2001     75     150000        15  0.0  0.0  0.0  0.0   \n",
       "4   3600              2008     69      90000         8  0.0  0.0  0.0  0.0   \n",
       "\n",
       "     4  ...   51   52   53   54   55   56   57   58   59   60  \n",
       "0  0.0  ...  0.0  0.0  0.0  0.0  0.0  1.0  0.0  0.0  1.0  0.0  \n",
       "1  0.0  ...  0.0  0.0  0.0  0.0  0.0  0.0  0.0  0.0  0.0  1.0  \n",
       "2  0.0  ...  0.0  0.0  0.0  0.0  0.0  0.0  0.0  0.0  1.0  0.0  \n",
       "3  0.0  ...  0.0  0.0  0.0  0.0  0.0  1.0  0.0  1.0  0.0  0.0  \n",
       "4  0.0  ...  0.0  0.0  0.0  0.0  0.0  0.0  0.0  1.0  0.0  0.0  \n",
       "\n",
       "[5 rows x 66 columns]"
      ]
     },
     "execution_count": 48,
     "metadata": {},
     "output_type": "execute_result"
    }
   ],
   "source": [
    "# удалим категориальные столбцы\n",
    "\n",
    "df_final = df_final.drop(['VehicleType', 'Gearbox', 'FuelType', 'Brand', 'Repaired'], axis= 1)\n",
    "\n",
    "df_final.head()"
   ]
  },
  {
   "cell_type": "code",
   "execution_count": 49,
   "metadata": {},
   "outputs": [],
   "source": [
    "# разделим датафрейм на признаки и целевой признак\n",
    "\n",
    "features = df_final.drop(['Price'], axis=1)\n",
    "\n",
    "target = df_final['Price']\n"
   ]
  },
  {
   "cell_type": "code",
   "execution_count": 50,
   "metadata": {
    "scrolled": true
   },
   "outputs": [
    {
     "name": "stdout",
     "output_type": "stream",
     "text": [
      "(164895, 65)\n"
     ]
    },
    {
     "data": {
      "text/plain": [
       "(164895,)"
      ]
     },
     "execution_count": 50,
     "metadata": {},
     "output_type": "execute_result"
    }
   ],
   "source": [
    "# разделим получившиеся выборки на тренировочную, валидационную и тестовую в пропорции 60/20/20\n",
    "\n",
    "# сначала отделяем тренировочную\n",
    "\n",
    "features_train, features_valid_test, target_train, target_valid_test = train_test_split(features, target, test_size=0.4, random_state=12345)\n",
    "\n",
    "# проверяем размер\n",
    "\n",
    "print(features_train.shape)\n",
    "\n",
    "target_train.shape"
   ]
  },
  {
   "cell_type": "code",
   "execution_count": 51,
   "metadata": {},
   "outputs": [
    {
     "data": {
      "text/plain": [
       "(109931, 65)"
      ]
     },
     "execution_count": 51,
     "metadata": {},
     "output_type": "execute_result"
    }
   ],
   "source": [
    "features_valid_test.shape "
   ]
  },
  {
   "cell_type": "code",
   "execution_count": 52,
   "metadata": {
    "scrolled": true
   },
   "outputs": [
    {
     "name": "stdout",
     "output_type": "stream",
     "text": [
      "(54965, 65)\n",
      "(54965,)\n",
      "(54966, 65)\n"
     ]
    },
    {
     "data": {
      "text/plain": [
       "(54966,)"
      ]
     },
     "execution_count": 52,
     "metadata": {},
     "output_type": "execute_result"
    }
   ],
   "source": [
    "# делим на валидационную и тестовую\n",
    "\n",
    "features_valid, features_test, target_valid, target_test = train_test_split(features_valid_test, target_valid_test, test_size=0.5, random_state=12345)\n",
    "\n",
    "# проверяем размеры\n",
    "\n",
    "print(features_valid.shape)\n",
    "\n",
    "print(target_valid.shape)\n",
    "\n",
    "print(features_test.shape)\n",
    "\n",
    "target_test.shape"
   ]
  },
  {
   "cell_type": "code",
   "execution_count": 53,
   "metadata": {
    "scrolled": true
   },
   "outputs": [
    {
     "data": {
      "text/plain": [
       "274826"
      ]
     },
     "execution_count": 53,
     "metadata": {},
     "output_type": "execute_result"
    }
   ],
   "source": [
    "# сравниваем  с размером датафрейма до разделения\n",
    "\n",
    "\n",
    "features_shape = features_test.shape[0] + features_valid.shape[0] + features_train.shape[0]\n",
    "\n",
    "features_shape"
   ]
  },
  {
   "cell_type": "markdown",
   "metadata": {},
   "source": [
    "Суммы совпадают, значит, разделение прошло успешно.\n",
    "\n",
    "Переходим к обучению моделей."
   ]
  },
  {
   "cell_type": "markdown",
   "metadata": {},
   "source": [
    "## Обучение моделей"
   ]
  },
  {
   "cell_type": "markdown",
   "metadata": {},
   "source": [
    "Мы будем обучать две модели - модель случайного леса для регресии и градиентный бустинг c алгоритмом LightGBM."
   ]
  },
  {
   "cell_type": "code",
   "execution_count": 54,
   "metadata": {
    "scrolled": true
   },
   "outputs": [
    {
     "name": "stdout",
     "output_type": "stream",
     "text": [
      "CPU times: user 4.46 s, sys: 44.4 ms, total: 4.5 s\n",
      "Wall time: 4.51 s\n"
     ]
    },
    {
     "data": {
      "text/plain": [
       "RandomForestRegressor(max_depth=5, n_estimators=15, random_state=12345)"
      ]
     },
     "execution_count": 54,
     "metadata": {},
     "output_type": "execute_result"
    }
   ],
   "source": [
    "%%time \n",
    "\n",
    "# добавили параметр, который посчитает время предсказания\n",
    "\n",
    "# первой обучается модель случайного леса\n",
    "\n",
    "model_rfr = RandomForestRegressor(random_state=12345, n_estimators = 15, max_depth = 5)\n",
    "\n",
    "model_rfr.fit(features_train, target_train)\n",
    "\n"
   ]
  },
  {
   "cell_type": "code",
   "execution_count": 55,
   "metadata": {
    "scrolled": true
   },
   "outputs": [
    {
     "name": "stdout",
     "output_type": "stream",
     "text": [
      "CPU times: user 48.5 ms, sys: 8.07 ms, total: 56.5 ms\n",
      "Wall time: 63.4 ms\n"
     ]
    }
   ],
   "source": [
    "%%time \n",
    "\n",
    "predictions_valid_rfr = model_rfr.predict(features_valid)\n"
   ]
  },
  {
   "cell_type": "code",
   "execution_count": 56,
   "metadata": {},
   "outputs": [
    {
     "name": "stdout",
     "output_type": "stream",
     "text": [
      "RMSE модели случайного леса с количеством деревьев 15 и максимальной высотой дерева 5 оставляет: 2375.1070681757124\n",
      "CPU times: user 0 ns, sys: 2.35 ms, total: 2.35 ms\n",
      "Wall time: 1.37 ms\n"
     ]
    }
   ],
   "source": [
    "%%time \n",
    "\n",
    "result_valid_rfr = mean_squared_error(target_valid, predictions_valid_rfr) ** 0.5\n",
    "\n",
    "print('RMSE модели случайного леса с количеством деревьев 15 и максимальной высотой дерева 5 оставляет:', result_valid_rfr)"
   ]
  },
  {
   "cell_type": "markdown",
   "metadata": {},
   "source": [
    "**Показатель RMSE составил 2375, время предсказания 62,1 мсек, а \n",
    "время обучения алгоритма составляет 4,61 сек.**"
   ]
  },
  {
   "cell_type": "code",
   "execution_count": 57,
   "metadata": {
    "collapsed": true
   },
   "outputs": [
    {
     "name": "stdout",
     "output_type": "stream",
     "text": [
      "[1]\tvalid_0's rmse: 4184.11\tvalid_0's l2: 1.75068e+07\n",
      "[2]\tvalid_0's rmse: 3915.98\tvalid_0's l2: 1.53349e+07\n",
      "[3]\tvalid_0's rmse: 3681.67\tvalid_0's l2: 1.35547e+07\n",
      "[4]\tvalid_0's rmse: 3476.17\tvalid_0's l2: 1.20838e+07\n",
      "[5]\tvalid_0's rmse: 3299.12\tvalid_0's l2: 1.08842e+07\n",
      "[6]\tvalid_0's rmse: 3141.3\tvalid_0's l2: 9.86774e+06\n",
      "[7]\tvalid_0's rmse: 3006.23\tvalid_0's l2: 9.03744e+06\n",
      "[8]\tvalid_0's rmse: 2890.82\tvalid_0's l2: 8.35686e+06\n",
      "[9]\tvalid_0's rmse: 2788.01\tvalid_0's l2: 7.77303e+06\n",
      "[10]\tvalid_0's rmse: 2695.07\tvalid_0's l2: 7.26341e+06\n",
      "[11]\tvalid_0's rmse: 2617\tvalid_0's l2: 6.84867e+06\n",
      "[12]\tvalid_0's rmse: 2542.33\tvalid_0's l2: 6.46343e+06\n",
      "[13]\tvalid_0's rmse: 2480.19\tvalid_0's l2: 6.15132e+06\n",
      "[14]\tvalid_0's rmse: 2423.33\tvalid_0's l2: 5.87252e+06\n",
      "[15]\tvalid_0's rmse: 2374.48\tvalid_0's l2: 5.63816e+06\n",
      "[16]\tvalid_0's rmse: 2328.46\tvalid_0's l2: 5.42172e+06\n",
      "[17]\tvalid_0's rmse: 2289.07\tvalid_0's l2: 5.23982e+06\n",
      "[18]\tvalid_0's rmse: 2254.8\tvalid_0's l2: 5.08413e+06\n",
      "[19]\tvalid_0's rmse: 2221.88\tvalid_0's l2: 4.93673e+06\n",
      "[20]\tvalid_0's rmse: 2191.1\tvalid_0's l2: 4.80091e+06\n",
      "[21]\tvalid_0's rmse: 2161.06\tvalid_0's l2: 4.67017e+06\n",
      "[22]\tvalid_0's rmse: 2135.96\tvalid_0's l2: 4.56234e+06\n",
      "[23]\tvalid_0's rmse: 2107.82\tvalid_0's l2: 4.44289e+06\n",
      "[24]\tvalid_0's rmse: 2087.88\tvalid_0's l2: 4.35926e+06\n",
      "[25]\tvalid_0's rmse: 2069.73\tvalid_0's l2: 4.28379e+06\n",
      "[26]\tvalid_0's rmse: 2052.42\tvalid_0's l2: 4.21244e+06\n",
      "[27]\tvalid_0's rmse: 2036.62\tvalid_0's l2: 4.1478e+06\n",
      "[28]\tvalid_0's rmse: 2023.16\tvalid_0's l2: 4.09317e+06\n",
      "[29]\tvalid_0's rmse: 2009.27\tvalid_0's l2: 4.03718e+06\n",
      "[30]\tvalid_0's rmse: 1996.16\tvalid_0's l2: 3.98465e+06\n",
      "[31]\tvalid_0's rmse: 1983.77\tvalid_0's l2: 3.93534e+06\n",
      "[32]\tvalid_0's rmse: 1973.77\tvalid_0's l2: 3.89575e+06\n",
      "[33]\tvalid_0's rmse: 1962.87\tvalid_0's l2: 3.85287e+06\n",
      "[34]\tvalid_0's rmse: 1951.82\tvalid_0's l2: 3.80959e+06\n",
      "[35]\tvalid_0's rmse: 1943.81\tvalid_0's l2: 3.77841e+06\n",
      "[36]\tvalid_0's rmse: 1934.73\tvalid_0's l2: 3.74319e+06\n",
      "[37]\tvalid_0's rmse: 1928.01\tvalid_0's l2: 3.71723e+06\n",
      "[38]\tvalid_0's rmse: 1920.9\tvalid_0's l2: 3.68986e+06\n",
      "[39]\tvalid_0's rmse: 1912.27\tvalid_0's l2: 3.65678e+06\n",
      "[40]\tvalid_0's rmse: 1905.92\tvalid_0's l2: 3.63251e+06\n",
      "CPU times: user 2.98 s, sys: 127 ms, total: 3.11 s\n",
      "Wall time: 3.14 s\n"
     ]
    },
    {
     "data": {
      "text/plain": [
       "LGBMModel(n_estimators=40, num_leaves=20, objective='regression')"
      ]
     },
     "execution_count": 57,
     "metadata": {},
     "output_type": "execute_result"
    }
   ],
   "source": [
    "%%time\n",
    "\n",
    "# обучим модель градиентного бустинга\n",
    "\n",
    "# инициализируем модель, укажем число деревьев и максимальное число листьев\n",
    "\n",
    "booster = lgb.LGBMModel(objective=\"regression\", n_estimators=40, num_leaves=20)\n",
    "\n",
    "# обучим модель\n",
    "\n",
    "booster.fit(features_train, target_train, eval_set=[(features_valid, target_valid),], eval_metric=\"rmse\")\n",
    "\n"
   ]
  },
  {
   "cell_type": "code",
   "execution_count": 58,
   "metadata": {},
   "outputs": [
    {
     "name": "stdout",
     "output_type": "stream",
     "text": [
      "CPU times: user 220 ms, sys: 10.9 ms, total: 231 ms\n",
      "Wall time: 203 ms\n"
     ]
    }
   ],
   "source": [
    "%%time\n",
    "\n",
    "# получим предсказания\n",
    "\n",
    "predictions_valid_booster = booster.predict(features_valid)"
   ]
  },
  {
   "cell_type": "code",
   "execution_count": 59,
   "metadata": {},
   "outputs": [
    {
     "name": "stdout",
     "output_type": "stream",
     "text": [
      "RMSE модели градиентного бустера с алгоритмом LightGBM с количеством деревьев 40 и максимальным количеством листьев 20 cоставляет: 1905.9156823319302\n",
      "CPU times: user 2.38 ms, sys: 215 µs, total: 2.59 ms\n",
      "Wall time: 1.39 ms\n"
     ]
    }
   ],
   "source": [
    "%%time\n",
    "\n",
    "result_valid_booster = mean_squared_error(target_valid, predictions_valid_booster) ** 0.5\n",
    "\n",
    "print('RMSE модели градиентного бустера с алгоритмом LightGBM с количеством деревьев 40 и максимальным количеством листьев 20 cоставляет:', result_valid_booster)"
   ]
  },
  {
   "cell_type": "markdown",
   "metadata": {},
   "source": [
    "**Показатель RMSE составил 1905, время предсказания 291 мсек, а время обучения алгоритма 3,1 сек. Кроме этого видим, что функция потерь уменьшается от шага к шагу, как и должно быть**."
   ]
  },
  {
   "cell_type": "markdown",
   "metadata": {},
   "source": [
    "Лучшие показатели RMSE показала модель градиентного бустинга, при этом показатель времени предсказания незначительно хуже, а времени обучения лучше, чем у модели случайного леса.\n"
   ]
  },
  {
   "cell_type": "markdown",
   "metadata": {},
   "source": [
    "## Анализ моделей"
   ]
  },
  {
   "cell_type": "markdown",
   "metadata": {},
   "source": [
    "На тестовой выборке проверим модели."
   ]
  },
  {
   "cell_type": "code",
   "execution_count": 60,
   "metadata": {
    "scrolled": true
   },
   "outputs": [
    {
     "name": "stdout",
     "output_type": "stream",
     "text": [
      "RMSE модели случайного леса с количеством деревьев 15 и максимальной высотой дерева 5 на тестовой выборке составляет: 2370.0448086778038\n"
     ]
    }
   ],
   "source": [
    "# модель случайного леса\n",
    "\n",
    "predictions_test_rfr = model_rfr.predict(features_test)\n",
    "\n",
    "result_test_rfr = mean_squared_error(target_test, predictions_test_rfr) ** 0.5\n",
    "\n",
    "print('RMSE модели случайного леса с количеством деревьев 15 и максимальной высотой дерева 5 на тестовой выборке составляет:', result_test_rfr)"
   ]
  },
  {
   "cell_type": "code",
   "execution_count": 61,
   "metadata": {},
   "outputs": [
    {
     "name": "stdout",
     "output_type": "stream",
     "text": [
      "RMSE модели LightGBM cоставляет: 1885.3976663223361\n"
     ]
    }
   ],
   "source": [
    "predictions_test_booster = booster.predict(features_test)\n",
    "\n",
    "result_test_booster = mean_squared_error(target_test, predictions_test_booster) ** 0.5\n",
    "\n",
    "print('RMSE модели LightGBM cоставляет:', result_test_booster)"
   ]
  },
  {
   "cell_type": "markdown",
   "metadata": {},
   "source": [
    "## Вывод"
   ]
  },
  {
   "cell_type": "markdown",
   "metadata": {},
   "source": [
    "Для определения алгоритма предсказания цены автомобиля в проекте были использованы две модели регрессии: модель случайного леса и модель градиентного бустинга.\n",
    "К каждой модели мы применили по 2 гиперпараметра, проверили время обучения и время предсказания.\n",
    "Показатели, по которым проходила оценка следующие:\n",
    "- качество предсказания;\n",
    "- скорость предсказания;\n",
    "- время обучения.\n",
    "\n",
    "Обе модели обучились хорошо, переобучения и недообучения нет.\n",
    "\n",
    "Показатели качества модели случайного леса составили: RMSE 2375, время предсказания 62,1 мсек, а \n",
    "время обучения алгоритма составляет 4,61 сек.\n",
    "\n",
    "Показатели качества модели градиентного бустинга составили: RMSE 1905, время предсказания 291 мсек, а время обучения алгоритма 3,1 сек. \n",
    "\n",
    "Таким образом, лучшие показатели RMSE показала модель градиентного бустинга, обученная на алгоритме LightGBM, при этом показатель времени предсказания незначительно хуже, а времени обучения лучше, чем у модели случайного леса.\n",
    "\n",
    "Предлагаем заказчику использовать при разработке приложения модель градиентного бустинга."
   ]
  }
 ],
 "metadata": {
  "ExecuteTimeLog": [
   {
    "duration": 357,
    "start_time": "2023-11-20T07:33:53.765Z"
   },
   {
    "duration": 1120,
    "start_time": "2023-11-20T07:33:55.425Z"
   },
   {
    "duration": 154,
    "start_time": "2023-11-20T07:37:09.191Z"
   },
   {
    "duration": 1403,
    "start_time": "2023-11-20T07:42:37.319Z"
   },
   {
    "duration": 35,
    "start_time": "2023-11-20T08:04:10.737Z"
   },
   {
    "duration": 430,
    "start_time": "2023-11-20T08:05:27.637Z"
   },
   {
    "duration": 485,
    "start_time": "2023-11-20T08:06:38.335Z"
   },
   {
    "duration": 410,
    "start_time": "2023-11-20T08:07:34.200Z"
   },
   {
    "duration": 36,
    "start_time": "2023-11-20T08:16:51.336Z"
   },
   {
    "duration": 22,
    "start_time": "2023-11-20T08:19:20.954Z"
   },
   {
    "duration": 21,
    "start_time": "2023-11-20T08:19:40.256Z"
   },
   {
    "duration": 38,
    "start_time": "2023-11-20T08:20:18.575Z"
   },
   {
    "duration": 21,
    "start_time": "2023-11-20T08:21:26.413Z"
   },
   {
    "duration": 38,
    "start_time": "2023-11-20T08:22:29.889Z"
   },
   {
    "duration": 19,
    "start_time": "2023-11-20T08:23:30.511Z"
   },
   {
    "duration": 44,
    "start_time": "2023-11-20T08:23:42.327Z"
   },
   {
    "duration": 20,
    "start_time": "2023-11-20T08:25:31.164Z"
   },
   {
    "duration": 1791,
    "start_time": "2023-11-20T08:26:12.570Z"
   },
   {
    "duration": 38,
    "start_time": "2023-11-20T08:26:28.458Z"
   },
   {
    "duration": 22,
    "start_time": "2023-11-20T08:27:02.908Z"
   },
   {
    "duration": 36,
    "start_time": "2023-11-20T08:27:40.830Z"
   },
   {
    "duration": 23,
    "start_time": "2023-11-20T08:28:58.968Z"
   },
   {
    "duration": 7,
    "start_time": "2023-11-20T08:29:34.125Z"
   },
   {
    "duration": 32,
    "start_time": "2023-11-20T08:30:52.043Z"
   },
   {
    "duration": 140,
    "start_time": "2023-11-20T08:31:22.881Z"
   },
   {
    "duration": 147,
    "start_time": "2023-11-20T08:31:33.438Z"
   },
   {
    "duration": 14,
    "start_time": "2023-11-20T08:33:49.566Z"
   },
   {
    "duration": 10,
    "start_time": "2023-11-20T08:34:04.871Z"
   },
   {
    "duration": 7,
    "start_time": "2023-11-20T08:34:37.839Z"
   },
   {
    "duration": 10,
    "start_time": "2023-11-20T08:36:41.117Z"
   },
   {
    "duration": 2,
    "start_time": "2023-11-20T08:37:04.775Z"
   },
   {
    "duration": 859,
    "start_time": "2023-11-20T08:37:04.791Z"
   },
   {
    "duration": 150,
    "start_time": "2023-11-20T08:37:05.652Z"
   },
   {
    "duration": 491,
    "start_time": "2023-11-20T08:37:05.804Z"
   },
   {
    "duration": 473,
    "start_time": "2023-11-20T08:37:06.296Z"
   },
   {
    "duration": 47,
    "start_time": "2023-11-20T08:37:06.771Z"
   },
   {
    "duration": 26,
    "start_time": "2023-11-20T08:37:06.820Z"
   },
   {
    "duration": 49,
    "start_time": "2023-11-20T08:37:06.848Z"
   },
   {
    "duration": 26,
    "start_time": "2023-11-20T08:37:06.915Z"
   },
   {
    "duration": 37,
    "start_time": "2023-11-20T08:37:06.942Z"
   },
   {
    "duration": 62,
    "start_time": "2023-11-20T08:37:06.980Z"
   },
   {
    "duration": 24,
    "start_time": "2023-11-20T08:37:07.043Z"
   },
   {
    "duration": 55,
    "start_time": "2023-11-20T08:37:07.068Z"
   },
   {
    "duration": 40,
    "start_time": "2023-11-20T08:37:07.125Z"
   },
   {
    "duration": 36,
    "start_time": "2023-11-20T08:37:07.167Z"
   },
   {
    "duration": 41,
    "start_time": "2023-11-20T08:37:07.204Z"
   },
   {
    "duration": 7,
    "start_time": "2023-11-20T08:37:07.247Z"
   },
   {
    "duration": 45,
    "start_time": "2023-11-20T08:37:07.256Z"
   },
   {
    "duration": 9,
    "start_time": "2023-11-20T08:37:07.302Z"
   },
   {
    "duration": 7,
    "start_time": "2023-11-20T08:37:45.355Z"
   },
   {
    "duration": 3,
    "start_time": "2023-11-20T08:37:58.239Z"
   },
   {
    "duration": 6,
    "start_time": "2023-11-20T08:38:07.639Z"
   },
   {
    "duration": 367,
    "start_time": "2023-11-20T08:39:14.359Z"
   },
   {
    "duration": 850,
    "start_time": "2023-11-20T08:39:14.728Z"
   },
   {
    "duration": 150,
    "start_time": "2023-11-20T08:39:15.579Z"
   },
   {
    "duration": 461,
    "start_time": "2023-11-20T08:39:15.732Z"
   },
   {
    "duration": 442,
    "start_time": "2023-11-20T08:39:16.195Z"
   },
   {
    "duration": 38,
    "start_time": "2023-11-20T08:39:16.639Z"
   },
   {
    "duration": 38,
    "start_time": "2023-11-20T08:39:16.678Z"
   },
   {
    "duration": 36,
    "start_time": "2023-11-20T08:39:16.717Z"
   },
   {
    "duration": 23,
    "start_time": "2023-11-20T08:39:16.755Z"
   },
   {
    "duration": 64,
    "start_time": "2023-11-20T08:39:16.780Z"
   },
   {
    "duration": 46,
    "start_time": "2023-11-20T08:39:16.846Z"
   },
   {
    "duration": 22,
    "start_time": "2023-11-20T08:39:16.914Z"
   },
   {
    "duration": 37,
    "start_time": "2023-11-20T08:39:16.937Z"
   },
   {
    "duration": 44,
    "start_time": "2023-11-20T08:39:16.976Z"
   },
   {
    "duration": 34,
    "start_time": "2023-11-20T08:39:17.021Z"
   },
   {
    "duration": 22,
    "start_time": "2023-11-20T08:39:17.057Z"
   },
   {
    "duration": 6,
    "start_time": "2023-11-20T08:39:17.081Z"
   },
   {
    "duration": 52,
    "start_time": "2023-11-20T08:39:17.089Z"
   },
   {
    "duration": 75,
    "start_time": "2023-11-20T08:39:17.143Z"
   },
   {
    "duration": 7,
    "start_time": "2023-11-20T08:39:47.464Z"
   },
   {
    "duration": 6,
    "start_time": "2023-11-20T08:39:52.524Z"
   },
   {
    "duration": 3,
    "start_time": "2023-11-20T08:42:05.296Z"
   },
   {
    "duration": 822,
    "start_time": "2023-11-20T08:42:05.307Z"
   },
   {
    "duration": 144,
    "start_time": "2023-11-20T08:42:06.131Z"
   },
   {
    "duration": 398,
    "start_time": "2023-11-20T08:42:06.276Z"
   },
   {
    "duration": 416,
    "start_time": "2023-11-20T08:42:06.675Z"
   },
   {
    "duration": 40,
    "start_time": "2023-11-20T08:42:07.093Z"
   },
   {
    "duration": 25,
    "start_time": "2023-11-20T08:42:07.135Z"
   },
   {
    "duration": 39,
    "start_time": "2023-11-20T08:42:07.162Z"
   },
   {
    "duration": 33,
    "start_time": "2023-11-20T08:42:07.202Z"
   },
   {
    "duration": 51,
    "start_time": "2023-11-20T08:42:07.236Z"
   },
   {
    "duration": 51,
    "start_time": "2023-11-20T08:42:07.289Z"
   },
   {
    "duration": 21,
    "start_time": "2023-11-20T08:42:07.342Z"
   },
   {
    "duration": 54,
    "start_time": "2023-11-20T08:42:07.364Z"
   },
   {
    "duration": 23,
    "start_time": "2023-11-20T08:42:07.419Z"
   },
   {
    "duration": 36,
    "start_time": "2023-11-20T08:42:07.444Z"
   },
   {
    "duration": 43,
    "start_time": "2023-11-20T08:42:07.481Z"
   },
   {
    "duration": 6,
    "start_time": "2023-11-20T08:42:07.526Z"
   },
   {
    "duration": 19,
    "start_time": "2023-11-20T08:42:07.534Z"
   },
   {
    "duration": 11,
    "start_time": "2023-11-20T08:42:07.554Z"
   },
   {
    "duration": 15,
    "start_time": "2023-11-20T08:42:43.732Z"
   },
   {
    "duration": 2,
    "start_time": "2023-11-20T08:42:52.188Z"
   },
   {
    "duration": 824,
    "start_time": "2023-11-20T08:42:52.199Z"
   },
   {
    "duration": 144,
    "start_time": "2023-11-20T08:42:53.024Z"
   },
   {
    "duration": 442,
    "start_time": "2023-11-20T08:42:53.169Z"
   },
   {
    "duration": 411,
    "start_time": "2023-11-20T08:42:53.615Z"
   },
   {
    "duration": 37,
    "start_time": "2023-11-20T08:42:54.028Z"
   },
   {
    "duration": 29,
    "start_time": "2023-11-20T08:42:54.066Z"
   },
   {
    "duration": 49,
    "start_time": "2023-11-20T08:42:54.097Z"
   },
   {
    "duration": 23,
    "start_time": "2023-11-20T08:42:54.148Z"
   },
   {
    "duration": 54,
    "start_time": "2023-11-20T08:42:54.172Z"
   },
   {
    "duration": 42,
    "start_time": "2023-11-20T08:42:54.227Z"
   },
   {
    "duration": 20,
    "start_time": "2023-11-20T08:42:54.270Z"
   },
   {
    "duration": 61,
    "start_time": "2023-11-20T08:42:54.292Z"
   },
   {
    "duration": 30,
    "start_time": "2023-11-20T08:42:54.354Z"
   },
   {
    "duration": 45,
    "start_time": "2023-11-20T08:42:54.386Z"
   },
   {
    "duration": 22,
    "start_time": "2023-11-20T08:42:54.432Z"
   },
   {
    "duration": 15,
    "start_time": "2023-11-20T08:42:54.455Z"
   },
   {
    "duration": 16,
    "start_time": "2023-11-20T08:42:54.472Z"
   },
   {
    "duration": 30,
    "start_time": "2023-11-20T08:42:54.489Z"
   },
   {
    "duration": 100,
    "start_time": "2023-11-20T08:43:19.074Z"
   },
   {
    "duration": 7,
    "start_time": "2023-11-20T08:45:16.396Z"
   },
   {
    "duration": 852,
    "start_time": "2023-11-20T08:45:37.775Z"
   },
   {
    "duration": 20,
    "start_time": "2023-11-20T08:47:36.795Z"
   },
   {
    "duration": 9,
    "start_time": "2023-11-20T08:49:27.475Z"
   },
   {
    "duration": 1435,
    "start_time": "2023-11-20T08:49:34.083Z"
   },
   {
    "duration": 1893,
    "start_time": "2023-11-20T08:50:12.705Z"
   },
   {
    "duration": 1447,
    "start_time": "2023-11-20T08:51:20.363Z"
   },
   {
    "duration": 1765,
    "start_time": "2023-11-20T08:52:12.959Z"
   },
   {
    "duration": 3,
    "start_time": "2023-11-20T08:52:34.115Z"
   },
   {
    "duration": 811,
    "start_time": "2023-11-20T08:52:34.131Z"
   },
   {
    "duration": 144,
    "start_time": "2023-11-20T08:52:34.945Z"
   },
   {
    "duration": 410,
    "start_time": "2023-11-20T08:52:35.091Z"
   },
   {
    "duration": 455,
    "start_time": "2023-11-20T08:52:35.503Z"
   },
   {
    "duration": 37,
    "start_time": "2023-11-20T08:52:35.961Z"
   },
   {
    "duration": 34,
    "start_time": "2023-11-20T08:52:36.000Z"
   },
   {
    "duration": 42,
    "start_time": "2023-11-20T08:52:36.035Z"
   },
   {
    "duration": 42,
    "start_time": "2023-11-20T08:52:36.079Z"
   },
   {
    "duration": 39,
    "start_time": "2023-11-20T08:52:36.122Z"
   },
   {
    "duration": 59,
    "start_time": "2023-11-20T08:52:36.162Z"
   },
   {
    "duration": 23,
    "start_time": "2023-11-20T08:52:36.223Z"
   },
   {
    "duration": 40,
    "start_time": "2023-11-20T08:52:36.247Z"
   },
   {
    "duration": 41,
    "start_time": "2023-11-20T08:52:36.289Z"
   },
   {
    "duration": 38,
    "start_time": "2023-11-20T08:52:36.333Z"
   },
   {
    "duration": 35,
    "start_time": "2023-11-20T08:52:36.372Z"
   },
   {
    "duration": 7,
    "start_time": "2023-11-20T08:52:36.415Z"
   },
   {
    "duration": 46,
    "start_time": "2023-11-20T08:52:36.423Z"
   },
   {
    "duration": 10,
    "start_time": "2023-11-20T08:52:36.471Z"
   },
   {
    "duration": 110,
    "start_time": "2023-11-20T08:52:36.483Z"
   },
   {
    "duration": 435,
    "start_time": "2023-11-20T08:52:36.595Z"
   },
   {
    "duration": 1452,
    "start_time": "2023-11-20T08:52:37.032Z"
   },
   {
    "duration": 150,
    "start_time": "2023-11-20T08:52:46.141Z"
   },
   {
    "duration": 2,
    "start_time": "2023-11-20T08:55:27.292Z"
   },
   {
    "duration": 188,
    "start_time": "2023-11-20T08:58:20.332Z"
   },
   {
    "duration": 228,
    "start_time": "2023-11-20T09:04:15.951Z"
   },
   {
    "duration": 179,
    "start_time": "2023-11-20T09:05:21.855Z"
   },
   {
    "duration": 180,
    "start_time": "2023-11-20T09:06:23.910Z"
   },
   {
    "duration": 178,
    "start_time": "2023-11-20T09:06:33.427Z"
   },
   {
    "duration": 170,
    "start_time": "2023-11-20T09:07:09.783Z"
   },
   {
    "duration": 181,
    "start_time": "2023-11-20T09:08:01.261Z"
   },
   {
    "duration": 53,
    "start_time": "2023-11-20T09:08:21.444Z"
   },
   {
    "duration": 433,
    "start_time": "2023-11-20T09:16:00.588Z"
   },
   {
    "duration": 23,
    "start_time": "2023-11-20T09:18:28.070Z"
   },
   {
    "duration": 26,
    "start_time": "2023-11-20T09:19:56.068Z"
   },
   {
    "duration": 193,
    "start_time": "2023-11-20T09:20:01.636Z"
   },
   {
    "duration": 7,
    "start_time": "2023-11-20T09:20:26.446Z"
   },
   {
    "duration": 406,
    "start_time": "2023-11-20T09:20:42.342Z"
   },
   {
    "duration": 15,
    "start_time": "2023-11-20T09:21:17.591Z"
   },
   {
    "duration": 16,
    "start_time": "2023-11-20T09:21:38.594Z"
   },
   {
    "duration": 14,
    "start_time": "2023-11-20T09:22:25.939Z"
   },
   {
    "duration": 35,
    "start_time": "2023-11-20T09:23:40.503Z"
   },
   {
    "duration": 17,
    "start_time": "2023-11-20T09:25:20.710Z"
   },
   {
    "duration": 18,
    "start_time": "2023-11-20T09:25:29.379Z"
   },
   {
    "duration": 178,
    "start_time": "2023-11-20T09:26:22.361Z"
   },
   {
    "duration": 203,
    "start_time": "2023-11-20T09:26:44.804Z"
   },
   {
    "duration": 358,
    "start_time": "2023-11-20T09:27:10.712Z"
   },
   {
    "duration": 217,
    "start_time": "2023-11-20T09:27:24.771Z"
   },
   {
    "duration": 213,
    "start_time": "2023-11-20T09:27:43.547Z"
   },
   {
    "duration": 216,
    "start_time": "2023-11-20T09:28:08.479Z"
   },
   {
    "duration": 222,
    "start_time": "2023-11-20T09:28:17.598Z"
   },
   {
    "duration": 19,
    "start_time": "2023-11-20T09:31:09.918Z"
   },
   {
    "duration": 26,
    "start_time": "2023-11-20T09:35:39.025Z"
   },
   {
    "duration": 16,
    "start_time": "2023-11-20T09:36:05.127Z"
   },
   {
    "duration": 16,
    "start_time": "2023-11-20T09:36:33.047Z"
   },
   {
    "duration": 27,
    "start_time": "2023-11-20T09:39:02.373Z"
   },
   {
    "duration": 16,
    "start_time": "2023-11-20T09:39:18.947Z"
   },
   {
    "duration": 16,
    "start_time": "2023-11-20T09:40:22.008Z"
   },
   {
    "duration": 17,
    "start_time": "2023-11-20T09:44:48.687Z"
   },
   {
    "duration": 19,
    "start_time": "2023-11-20T09:45:05.707Z"
   },
   {
    "duration": 17,
    "start_time": "2023-11-20T09:45:48.417Z"
   },
   {
    "duration": 19,
    "start_time": "2023-11-20T09:46:20.829Z"
   },
   {
    "duration": 17,
    "start_time": "2023-11-20T09:47:05.606Z"
   },
   {
    "duration": 16,
    "start_time": "2023-11-20T09:47:48.675Z"
   },
   {
    "duration": 21,
    "start_time": "2023-11-20T09:48:27.620Z"
   },
   {
    "duration": 22,
    "start_time": "2023-11-20T09:52:19.999Z"
   },
   {
    "duration": 348,
    "start_time": "2023-11-20T09:53:01.868Z"
   },
   {
    "duration": 228,
    "start_time": "2023-11-20T09:53:55.074Z"
   },
   {
    "duration": 33,
    "start_time": "2023-11-20T09:55:17.646Z"
   },
   {
    "duration": 16,
    "start_time": "2023-11-20T09:55:32.779Z"
   },
   {
    "duration": 30,
    "start_time": "2023-11-20T10:32:11.460Z"
   },
   {
    "duration": 342,
    "start_time": "2023-11-20T10:32:24.732Z"
   },
   {
    "duration": 220,
    "start_time": "2023-11-20T10:33:12.057Z"
   },
   {
    "duration": 30,
    "start_time": "2023-11-20T10:34:23.669Z"
   },
   {
    "duration": 441,
    "start_time": "2023-11-20T10:35:26.867Z"
   },
   {
    "duration": 221,
    "start_time": "2023-11-20T10:37:19.827Z"
   },
   {
    "duration": 291,
    "start_time": "2023-11-20T10:37:55.814Z"
   },
   {
    "duration": 663,
    "start_time": "2023-11-20T10:41:33.170Z"
   },
   {
    "duration": 14,
    "start_time": "2023-11-20T10:46:41.088Z"
   },
   {
    "duration": 4,
    "start_time": "2023-11-20T10:47:07.087Z"
   },
   {
    "duration": 60,
    "start_time": "2023-11-20T10:52:04.255Z"
   },
   {
    "duration": 77,
    "start_time": "2023-11-20T10:53:12.301Z"
   },
   {
    "duration": 25,
    "start_time": "2023-11-20T10:55:36.209Z"
   },
   {
    "duration": 32,
    "start_time": "2023-11-20T10:57:01.094Z"
   },
   {
    "duration": 3,
    "start_time": "2023-11-20T10:58:27.962Z"
   },
   {
    "duration": 3,
    "start_time": "2023-11-20T10:59:00.575Z"
   },
   {
    "duration": 41,
    "start_time": "2023-11-20T11:01:16.344Z"
   },
   {
    "duration": 3,
    "start_time": "2023-11-20T11:09:23.497Z"
   },
   {
    "duration": 3,
    "start_time": "2023-11-20T11:10:59.130Z"
   },
   {
    "duration": 4,
    "start_time": "2023-11-20T11:13:47.483Z"
   },
   {
    "duration": 206,
    "start_time": "2023-11-20T11:14:00.194Z"
   },
   {
    "duration": 3,
    "start_time": "2023-11-20T11:15:51.406Z"
   },
   {
    "duration": 166,
    "start_time": "2023-11-20T11:16:00.766Z"
   },
   {
    "duration": 116,
    "start_time": "2023-11-20T11:16:43.414Z"
   },
   {
    "duration": 145,
    "start_time": "2023-11-20T11:17:39.941Z"
   },
   {
    "duration": 120,
    "start_time": "2023-11-20T11:18:23.920Z"
   },
   {
    "duration": 124,
    "start_time": "2023-11-20T11:19:59.613Z"
   },
   {
    "duration": 147,
    "start_time": "2023-11-20T11:21:53.688Z"
   },
   {
    "duration": 121,
    "start_time": "2023-11-20T11:23:36.603Z"
   },
   {
    "duration": 97,
    "start_time": "2023-11-20T11:31:59.142Z"
   },
   {
    "duration": 1724,
    "start_time": "2023-11-20T11:32:20.883Z"
   },
   {
    "duration": 1654,
    "start_time": "2023-11-20T11:32:54.649Z"
   },
   {
    "duration": 8,
    "start_time": "2023-11-20T11:33:13.183Z"
   },
   {
    "duration": 8,
    "start_time": "2023-11-20T11:33:29.163Z"
   },
   {
    "duration": 95,
    "start_time": "2023-11-20T11:33:50.646Z"
   },
   {
    "duration": 8,
    "start_time": "2023-11-20T11:34:05.246Z"
   },
   {
    "duration": 613,
    "start_time": "2023-11-20T11:37:51.380Z"
   },
   {
    "duration": 202,
    "start_time": "2023-11-20T11:38:09.092Z"
   },
   {
    "duration": 3,
    "start_time": "2023-11-20T11:38:46.909Z"
   },
   {
    "duration": 823,
    "start_time": "2023-11-20T11:38:46.917Z"
   },
   {
    "duration": 147,
    "start_time": "2023-11-20T11:38:47.741Z"
   },
   {
    "duration": 400,
    "start_time": "2023-11-20T11:38:47.889Z"
   },
   {
    "duration": 369,
    "start_time": "2023-11-20T11:38:48.291Z"
   },
   {
    "duration": 36,
    "start_time": "2023-11-20T11:38:48.662Z"
   },
   {
    "duration": 33,
    "start_time": "2023-11-20T11:38:48.700Z"
   },
   {
    "duration": 37,
    "start_time": "2023-11-20T11:38:48.735Z"
   },
   {
    "duration": 41,
    "start_time": "2023-11-20T11:38:48.774Z"
   },
   {
    "duration": 44,
    "start_time": "2023-11-20T11:38:48.817Z"
   },
   {
    "duration": 54,
    "start_time": "2023-11-20T11:38:48.863Z"
   },
   {
    "duration": 21,
    "start_time": "2023-11-20T11:38:48.919Z"
   },
   {
    "duration": 36,
    "start_time": "2023-11-20T11:38:48.942Z"
   },
   {
    "duration": 41,
    "start_time": "2023-11-20T11:38:48.980Z"
   },
   {
    "duration": 35,
    "start_time": "2023-11-20T11:38:49.025Z"
   },
   {
    "duration": 26,
    "start_time": "2023-11-20T11:38:49.062Z"
   },
   {
    "duration": 24,
    "start_time": "2023-11-20T11:38:49.090Z"
   },
   {
    "duration": 19,
    "start_time": "2023-11-20T11:38:49.116Z"
   },
   {
    "duration": 10,
    "start_time": "2023-11-20T11:38:49.137Z"
   },
   {
    "duration": 114,
    "start_time": "2023-11-20T11:38:49.148Z"
   },
   {
    "duration": 59,
    "start_time": "2023-11-20T11:38:49.263Z"
   },
   {
    "duration": 539,
    "start_time": "2023-11-20T11:38:49.324Z"
   },
   {
    "duration": 21,
    "start_time": "2023-11-20T11:38:49.865Z"
   },
   {
    "duration": 36,
    "start_time": "2023-11-20T11:38:49.887Z"
   },
   {
    "duration": 235,
    "start_time": "2023-11-20T11:38:49.924Z"
   },
   {
    "duration": 14,
    "start_time": "2023-11-20T11:38:50.160Z"
   },
   {
    "duration": 27,
    "start_time": "2023-11-20T11:38:50.175Z"
   },
   {
    "duration": 16,
    "start_time": "2023-11-20T11:38:50.214Z"
   },
   {
    "duration": 24,
    "start_time": "2023-11-20T11:38:50.232Z"
   },
   {
    "duration": 20,
    "start_time": "2023-11-20T11:38:50.258Z"
   },
   {
    "duration": 42,
    "start_time": "2023-11-20T11:38:50.280Z"
   },
   {
    "duration": 23,
    "start_time": "2023-11-20T11:38:50.324Z"
   },
   {
    "duration": 27,
    "start_time": "2023-11-20T11:38:50.349Z"
   },
   {
    "duration": 353,
    "start_time": "2023-11-20T11:38:50.378Z"
   },
   {
    "duration": 256,
    "start_time": "2023-11-20T11:38:50.733Z"
   },
   {
    "duration": 25,
    "start_time": "2023-11-20T11:38:50.991Z"
   },
   {
    "duration": 28,
    "start_time": "2023-11-20T11:38:51.017Z"
   },
   {
    "duration": 358,
    "start_time": "2023-11-20T11:38:51.046Z"
   },
   {
    "duration": 228,
    "start_time": "2023-11-20T11:38:51.406Z"
   },
   {
    "duration": 26,
    "start_time": "2023-11-20T11:38:51.636Z"
   },
   {
    "duration": 445,
    "start_time": "2023-11-20T11:38:51.663Z"
   },
   {
    "duration": 228,
    "start_time": "2023-11-20T11:38:52.114Z"
   },
   {
    "duration": 4,
    "start_time": "2023-11-20T11:38:52.343Z"
   },
   {
    "duration": 627,
    "start_time": "2023-11-20T11:38:52.348Z"
   },
   {
    "duration": 202,
    "start_time": "2023-11-20T11:38:52.977Z"
   },
   {
    "duration": 315,
    "start_time": "2023-11-20T11:38:53.181Z"
   },
   {
    "duration": 99,
    "start_time": "2023-11-20T11:38:53.498Z"
   },
   {
    "duration": 4,
    "start_time": "2023-11-20T11:38:53.598Z"
   },
   {
    "duration": 3741,
    "start_time": "2023-11-20T11:38:53.615Z"
   },
   {
    "duration": 56713,
    "start_time": "2023-11-20T11:39:57.541Z"
   },
   {
    "duration": 1507,
    "start_time": "2023-11-21T07:16:31.114Z"
   },
   {
    "duration": 1059,
    "start_time": "2023-11-21T07:16:32.622Z"
   },
   {
    "duration": 143,
    "start_time": "2023-11-21T07:16:33.682Z"
   },
   {
    "duration": 450,
    "start_time": "2023-11-21T07:16:33.827Z"
   },
   {
    "duration": 447,
    "start_time": "2023-11-21T07:16:34.278Z"
   },
   {
    "duration": 39,
    "start_time": "2023-11-21T07:16:34.726Z"
   },
   {
    "duration": 27,
    "start_time": "2023-11-21T07:16:34.767Z"
   },
   {
    "duration": 36,
    "start_time": "2023-11-21T07:16:34.795Z"
   },
   {
    "duration": 24,
    "start_time": "2023-11-21T07:16:34.845Z"
   },
   {
    "duration": 37,
    "start_time": "2023-11-21T07:16:34.871Z"
   },
   {
    "duration": 57,
    "start_time": "2023-11-21T07:16:34.910Z"
   },
   {
    "duration": 24,
    "start_time": "2023-11-21T07:16:34.969Z"
   },
   {
    "duration": 51,
    "start_time": "2023-11-21T07:16:34.994Z"
   },
   {
    "duration": 26,
    "start_time": "2023-11-21T07:16:35.046Z"
   },
   {
    "duration": 35,
    "start_time": "2023-11-21T07:16:35.073Z"
   },
   {
    "duration": 42,
    "start_time": "2023-11-21T07:16:35.109Z"
   },
   {
    "duration": 7,
    "start_time": "2023-11-21T07:16:35.153Z"
   },
   {
    "duration": 26,
    "start_time": "2023-11-21T07:16:35.161Z"
   },
   {
    "duration": 22,
    "start_time": "2023-11-21T07:16:35.188Z"
   },
   {
    "duration": 103,
    "start_time": "2023-11-21T07:16:35.212Z"
   },
   {
    "duration": 62,
    "start_time": "2023-11-21T07:16:35.317Z"
   },
   {
    "duration": 436,
    "start_time": "2023-11-21T07:16:35.380Z"
   },
   {
    "duration": 28,
    "start_time": "2023-11-21T07:16:35.818Z"
   },
   {
    "duration": 26,
    "start_time": "2023-11-21T07:16:35.847Z"
   },
   {
    "duration": 241,
    "start_time": "2023-11-21T07:16:35.875Z"
   },
   {
    "duration": 13,
    "start_time": "2023-11-21T07:16:36.117Z"
   },
   {
    "duration": 54,
    "start_time": "2023-11-21T07:16:36.132Z"
   },
   {
    "duration": 16,
    "start_time": "2023-11-21T07:16:36.189Z"
   },
   {
    "duration": 28,
    "start_time": "2023-11-21T07:16:36.206Z"
   },
   {
    "duration": 32,
    "start_time": "2023-11-21T07:16:36.236Z"
   },
   {
    "duration": 15,
    "start_time": "2023-11-21T07:16:36.270Z"
   },
   {
    "duration": 29,
    "start_time": "2023-11-21T07:16:36.286Z"
   },
   {
    "duration": 28,
    "start_time": "2023-11-21T07:16:36.317Z"
   },
   {
    "duration": 350,
    "start_time": "2023-11-21T07:16:36.347Z"
   },
   {
    "duration": 256,
    "start_time": "2023-11-21T07:16:36.699Z"
   },
   {
    "duration": 17,
    "start_time": "2023-11-21T07:16:36.957Z"
   },
   {
    "duration": 42,
    "start_time": "2023-11-21T07:16:36.976Z"
   },
   {
    "duration": 379,
    "start_time": "2023-11-21T07:16:37.019Z"
   },
   {
    "duration": 301,
    "start_time": "2023-11-21T07:16:37.400Z"
   },
   {
    "duration": 21,
    "start_time": "2023-11-21T07:16:37.703Z"
   },
   {
    "duration": 439,
    "start_time": "2023-11-21T07:16:37.725Z"
   },
   {
    "duration": 236,
    "start_time": "2023-11-21T07:16:38.166Z"
   },
   {
    "duration": 4,
    "start_time": "2023-11-21T07:16:38.404Z"
   },
   {
    "duration": 640,
    "start_time": "2023-11-21T07:16:38.410Z"
   },
   {
    "duration": 201,
    "start_time": "2023-11-21T07:16:39.051Z"
   },
   {
    "duration": 306,
    "start_time": "2023-11-21T07:16:39.254Z"
   },
   {
    "duration": 110,
    "start_time": "2023-11-21T07:16:39.562Z"
   },
   {
    "duration": 4,
    "start_time": "2023-11-21T07:16:39.674Z"
   },
   {
    "duration": 57165,
    "start_time": "2023-11-21T07:16:39.680Z"
   },
   {
    "duration": 1240,
    "start_time": "2023-11-21T11:30:13.078Z"
   },
   {
    "duration": 427,
    "start_time": "2023-11-21T11:30:20.540Z"
   },
   {
    "duration": 1060,
    "start_time": "2023-11-21T11:30:20.969Z"
   },
   {
    "duration": 148,
    "start_time": "2023-11-21T11:30:22.031Z"
   },
   {
    "duration": 468,
    "start_time": "2023-11-21T11:30:22.181Z"
   },
   {
    "duration": 433,
    "start_time": "2023-11-21T11:30:22.650Z"
   },
   {
    "duration": 36,
    "start_time": "2023-11-21T11:30:23.085Z"
   },
   {
    "duration": 37,
    "start_time": "2023-11-21T11:30:23.123Z"
   },
   {
    "duration": 45,
    "start_time": "2023-11-21T11:30:23.161Z"
   },
   {
    "duration": 28,
    "start_time": "2023-11-21T11:30:23.207Z"
   },
   {
    "duration": 51,
    "start_time": "2023-11-21T11:30:23.237Z"
   },
   {
    "duration": 67,
    "start_time": "2023-11-21T11:30:23.289Z"
   },
   {
    "duration": 21,
    "start_time": "2023-11-21T11:30:23.358Z"
   },
   {
    "duration": 39,
    "start_time": "2023-11-21T11:30:23.381Z"
   },
   {
    "duration": 54,
    "start_time": "2023-11-21T11:30:23.421Z"
   },
   {
    "duration": 40,
    "start_time": "2023-11-21T11:30:23.477Z"
   },
   {
    "duration": 22,
    "start_time": "2023-11-21T11:30:23.518Z"
   },
   {
    "duration": 19,
    "start_time": "2023-11-21T11:30:23.541Z"
   },
   {
    "duration": 48,
    "start_time": "2023-11-21T11:30:23.561Z"
   },
   {
    "duration": 26,
    "start_time": "2023-11-21T11:30:23.610Z"
   },
   {
    "duration": 107,
    "start_time": "2023-11-21T11:30:23.638Z"
   },
   {
    "duration": 68,
    "start_time": "2023-11-21T11:30:23.746Z"
   },
   {
    "duration": 456,
    "start_time": "2023-11-21T11:30:23.815Z"
   },
   {
    "duration": 21,
    "start_time": "2023-11-21T11:30:24.272Z"
   },
   {
    "duration": 34,
    "start_time": "2023-11-21T11:30:24.295Z"
   },
   {
    "duration": 253,
    "start_time": "2023-11-21T11:30:24.331Z"
   },
   {
    "duration": 13,
    "start_time": "2023-11-21T11:30:24.585Z"
   },
   {
    "duration": 111,
    "start_time": "2023-11-21T11:30:24.600Z"
   },
   {
    "duration": 71,
    "start_time": "2023-11-21T11:30:24.714Z"
   },
   {
    "duration": 16,
    "start_time": "2023-11-21T11:30:24.787Z"
   },
   {
    "duration": 30,
    "start_time": "2023-11-21T11:30:24.805Z"
   },
   {
    "duration": 35,
    "start_time": "2023-11-21T11:30:24.837Z"
   },
   {
    "duration": 81,
    "start_time": "2023-11-21T11:30:24.874Z"
   },
   {
    "duration": 29,
    "start_time": "2023-11-21T11:30:24.956Z"
   },
   {
    "duration": 381,
    "start_time": "2023-11-21T11:30:24.986Z"
   },
   {
    "duration": 323,
    "start_time": "2023-11-21T11:30:25.368Z"
   },
   {
    "duration": 18,
    "start_time": "2023-11-21T11:30:25.692Z"
   },
   {
    "duration": 34,
    "start_time": "2023-11-21T11:30:25.711Z"
   },
   {
    "duration": 346,
    "start_time": "2023-11-21T11:30:25.747Z"
   },
   {
    "duration": 228,
    "start_time": "2023-11-21T11:30:26.095Z"
   },
   {
    "duration": 31,
    "start_time": "2023-11-21T11:30:26.325Z"
   },
   {
    "duration": 410,
    "start_time": "2023-11-21T11:30:26.357Z"
   },
   {
    "duration": 225,
    "start_time": "2023-11-21T11:30:26.769Z"
   },
   {
    "duration": 10,
    "start_time": "2023-11-21T11:30:26.996Z"
   },
   {
    "duration": 651,
    "start_time": "2023-11-21T11:30:27.008Z"
   },
   {
    "duration": 208,
    "start_time": "2023-11-21T11:30:27.661Z"
   },
   {
    "duration": 300,
    "start_time": "2023-11-21T11:30:27.871Z"
   },
   {
    "duration": 114,
    "start_time": "2023-11-21T11:30:28.173Z"
   },
   {
    "duration": 5,
    "start_time": "2023-11-21T11:30:28.288Z"
   },
   {
    "duration": 57941,
    "start_time": "2023-11-21T11:30:28.294Z"
   },
   {
    "duration": 0,
    "start_time": "2023-11-21T11:34:40.264Z"
   },
   {
    "duration": 0,
    "start_time": "2023-11-21T11:37:45.849Z"
   },
   {
    "duration": 3,
    "start_time": "2023-11-21T11:38:18.702Z"
   },
   {
    "duration": 10,
    "start_time": "2023-11-21T11:38:29.736Z"
   },
   {
    "duration": 10,
    "start_time": "2023-11-21T11:38:35.833Z"
   },
   {
    "duration": 13,
    "start_time": "2023-11-21T11:56:36.002Z"
   },
   {
    "duration": 0,
    "start_time": "2023-11-21T12:04:43.978Z"
   },
   {
    "duration": 50227,
    "start_time": "2023-11-21T12:05:15.536Z"
   },
   {
    "duration": 49225,
    "start_time": "2023-11-21T12:09:53.029Z"
   },
   {
    "duration": 66216,
    "start_time": "2023-11-21T12:26:48.942Z"
   },
   {
    "duration": 4407,
    "start_time": "2023-11-21T12:36:44.250Z"
   },
   {
    "duration": 23637,
    "start_time": "2023-11-21T12:38:21.320Z"
   },
   {
    "duration": 6577,
    "start_time": "2023-11-21T12:38:57.878Z"
   },
   {
    "duration": 3,
    "start_time": "2023-11-21T12:39:55.939Z"
   },
   {
    "duration": 263,
    "start_time": "2023-11-21T12:42:32.935Z"
   },
   {
    "duration": 276,
    "start_time": "2023-11-21T12:42:46.883Z"
   },
   {
    "duration": 333,
    "start_time": "2023-11-21T12:44:12.524Z"
   },
   {
    "duration": 403,
    "start_time": "2023-11-21T12:44:29.343Z"
   },
   {
    "duration": 288,
    "start_time": "2023-11-21T12:46:57.635Z"
   },
   {
    "duration": 57033,
    "start_time": "2023-11-21T12:47:44.551Z"
   },
   {
    "duration": 92,
    "start_time": "2023-11-21T12:54:20.698Z"
   },
   {
    "duration": 114,
    "start_time": "2023-11-21T13:11:06.521Z"
   },
   {
    "duration": 96,
    "start_time": "2023-11-21T13:15:10.915Z"
   },
   {
    "duration": 119,
    "start_time": "2023-11-21T13:16:01.091Z"
   },
   {
    "duration": 95,
    "start_time": "2023-11-21T13:16:20.078Z"
   },
   {
    "duration": 99,
    "start_time": "2023-11-21T13:16:37.014Z"
   },
   {
    "duration": 3,
    "start_time": "2023-11-21T13:16:45.426Z"
   },
   {
    "duration": 812,
    "start_time": "2023-11-21T13:16:45.439Z"
   },
   {
    "duration": 143,
    "start_time": "2023-11-21T13:16:46.253Z"
   },
   {
    "duration": 388,
    "start_time": "2023-11-21T13:16:46.398Z"
   },
   {
    "duration": 391,
    "start_time": "2023-11-21T13:16:46.788Z"
   },
   {
    "duration": 65,
    "start_time": "2023-11-21T13:16:47.181Z"
   },
   {
    "duration": 36,
    "start_time": "2023-11-21T13:16:47.248Z"
   },
   {
    "duration": 60,
    "start_time": "2023-11-21T13:16:47.285Z"
   },
   {
    "duration": 26,
    "start_time": "2023-11-21T13:16:47.346Z"
   },
   {
    "duration": 52,
    "start_time": "2023-11-21T13:16:47.373Z"
   },
   {
    "duration": 66,
    "start_time": "2023-11-21T13:16:47.427Z"
   },
   {
    "duration": 21,
    "start_time": "2023-11-21T13:16:47.494Z"
   },
   {
    "duration": 39,
    "start_time": "2023-11-21T13:16:47.516Z"
   },
   {
    "duration": 26,
    "start_time": "2023-11-21T13:16:47.557Z"
   },
   {
    "duration": 49,
    "start_time": "2023-11-21T13:16:47.586Z"
   },
   {
    "duration": 40,
    "start_time": "2023-11-21T13:16:47.637Z"
   },
   {
    "duration": 9,
    "start_time": "2023-11-21T13:16:47.679Z"
   },
   {
    "duration": 16,
    "start_time": "2023-11-21T13:16:47.691Z"
   },
   {
    "duration": 12,
    "start_time": "2023-11-21T13:16:47.709Z"
   },
   {
    "duration": 125,
    "start_time": "2023-11-21T13:16:47.723Z"
   },
   {
    "duration": 50,
    "start_time": "2023-11-21T13:16:47.850Z"
   },
   {
    "duration": 493,
    "start_time": "2023-11-21T13:16:47.902Z"
   },
   {
    "duration": 18,
    "start_time": "2023-11-21T13:16:48.397Z"
   },
   {
    "duration": 33,
    "start_time": "2023-11-21T13:16:48.417Z"
   },
   {
    "duration": 237,
    "start_time": "2023-11-21T13:16:48.452Z"
   },
   {
    "duration": 12,
    "start_time": "2023-11-21T13:16:48.691Z"
   },
   {
    "duration": 44,
    "start_time": "2023-11-21T13:16:48.704Z"
   },
   {
    "duration": 15,
    "start_time": "2023-11-21T13:16:48.750Z"
   },
   {
    "duration": 16,
    "start_time": "2023-11-21T13:16:48.766Z"
   },
   {
    "duration": 25,
    "start_time": "2023-11-21T13:16:48.784Z"
   },
   {
    "duration": 39,
    "start_time": "2023-11-21T13:16:48.810Z"
   },
   {
    "duration": 18,
    "start_time": "2023-11-21T13:16:48.850Z"
   },
   {
    "duration": 20,
    "start_time": "2023-11-21T13:16:48.869Z"
   },
   {
    "duration": 367,
    "start_time": "2023-11-21T13:16:48.890Z"
   },
   {
    "duration": 261,
    "start_time": "2023-11-21T13:16:49.259Z"
   },
   {
    "duration": 25,
    "start_time": "2023-11-21T13:16:49.522Z"
   },
   {
    "duration": 26,
    "start_time": "2023-11-21T13:16:49.549Z"
   },
   {
    "duration": 352,
    "start_time": "2023-11-21T13:16:49.577Z"
   },
   {
    "duration": 303,
    "start_time": "2023-11-21T13:16:49.931Z"
   },
   {
    "duration": 28,
    "start_time": "2023-11-21T13:16:50.236Z"
   },
   {
    "duration": 431,
    "start_time": "2023-11-21T13:16:50.265Z"
   },
   {
    "duration": 251,
    "start_time": "2023-11-21T13:16:50.699Z"
   },
   {
    "duration": 4,
    "start_time": "2023-11-21T13:16:50.952Z"
   },
   {
    "duration": 631,
    "start_time": "2023-11-21T13:16:50.957Z"
   },
   {
    "duration": 201,
    "start_time": "2023-11-21T13:16:51.589Z"
   },
   {
    "duration": 309,
    "start_time": "2023-11-21T13:16:51.791Z"
   },
   {
    "duration": 103,
    "start_time": "2023-11-21T13:16:52.102Z"
   },
   {
    "duration": 4,
    "start_time": "2023-11-21T13:16:52.206Z"
   },
   {
    "duration": 56354,
    "start_time": "2023-11-21T13:16:52.211Z"
   },
   {
    "duration": 88,
    "start_time": "2023-11-21T13:17:48.567Z"
   },
   {
    "duration": 66,
    "start_time": "2023-11-21T13:17:48.656Z"
   },
   {
    "duration": 101,
    "start_time": "2023-11-21T13:22:51.661Z"
   },
   {
    "duration": 89,
    "start_time": "2023-11-21T13:28:23.591Z"
   },
   {
    "duration": 94,
    "start_time": "2023-11-21T13:28:40.231Z"
   },
   {
    "duration": 4438,
    "start_time": "2023-11-21T13:29:44.527Z"
   },
   {
    "duration": 2,
    "start_time": "2023-11-21T13:56:25.134Z"
   },
   {
    "duration": 751,
    "start_time": "2023-11-21T13:57:41.024Z"
   },
   {
    "duration": 132,
    "start_time": "2023-11-21T13:58:36.470Z"
   },
   {
    "duration": 33,
    "start_time": "2023-11-21T13:59:59.117Z"
   },
   {
    "duration": 19,
    "start_time": "2023-11-21T14:00:52.283Z"
   },
   {
    "duration": 33,
    "start_time": "2023-11-21T14:01:17.901Z"
   },
   {
    "duration": 20,
    "start_time": "2023-11-21T14:01:49.092Z"
   },
   {
    "duration": 36,
    "start_time": "2023-11-21T14:02:53.475Z"
   },
   {
    "duration": 17,
    "start_time": "2023-11-21T14:03:40.705Z"
   },
   {
    "duration": 18,
    "start_time": "2023-11-21T14:03:57.944Z"
   },
   {
    "duration": 19,
    "start_time": "2023-11-21T14:04:22.804Z"
   },
   {
    "duration": 18,
    "start_time": "2023-11-21T14:06:27.143Z"
   },
   {
    "duration": 36,
    "start_time": "2023-11-21T14:07:14.203Z"
   },
   {
    "duration": 20,
    "start_time": "2023-11-21T14:08:26.133Z"
   },
   {
    "duration": 37,
    "start_time": "2023-11-21T14:08:40.235Z"
   },
   {
    "duration": 22,
    "start_time": "2023-11-21T14:09:27.139Z"
   },
   {
    "duration": 136,
    "start_time": "2023-11-21T14:10:09.812Z"
   },
   {
    "duration": 6,
    "start_time": "2023-11-21T14:11:36.639Z"
   },
   {
    "duration": 14,
    "start_time": "2023-11-21T14:13:47.902Z"
   },
   {
    "duration": 9,
    "start_time": "2023-11-21T14:14:09.703Z"
   },
   {
    "duration": 89,
    "start_time": "2023-11-21T14:14:54.775Z"
   },
   {
    "duration": 49,
    "start_time": "2023-11-21T14:15:16.505Z"
   },
   {
    "duration": 412,
    "start_time": "2023-11-21T14:16:39.074Z"
   },
   {
    "duration": 20,
    "start_time": "2023-11-21T14:17:15.590Z"
   },
   {
    "duration": 228,
    "start_time": "2023-11-21T14:18:10.133Z"
   },
   {
    "duration": 232,
    "start_time": "2023-11-21T14:18:51.424Z"
   },
   {
    "duration": 226,
    "start_time": "2023-11-21T14:19:05.982Z"
   },
   {
    "duration": 14,
    "start_time": "2023-11-21T14:22:19.886Z"
   },
   {
    "duration": 10,
    "start_time": "2023-11-21T14:22:38.976Z"
   },
   {
    "duration": 7,
    "start_time": "2023-11-21T14:22:50.310Z"
   },
   {
    "duration": 72,
    "start_time": "2023-11-21T14:23:12.161Z"
   },
   {
    "duration": 5,
    "start_time": "2023-11-21T14:23:21.346Z"
   },
   {
    "duration": 14,
    "start_time": "2023-11-21T14:24:02.640Z"
   },
   {
    "duration": 18,
    "start_time": "2023-11-21T14:24:25.823Z"
   },
   {
    "duration": 16,
    "start_time": "2023-11-21T14:24:53.828Z"
   },
   {
    "duration": 16,
    "start_time": "2023-11-21T14:27:46.045Z"
   },
   {
    "duration": 27,
    "start_time": "2023-11-21T14:27:57.916Z"
   },
   {
    "duration": 335,
    "start_time": "2023-11-21T14:28:38.594Z"
   },
   {
    "duration": 237,
    "start_time": "2023-11-21T14:29:07.479Z"
   },
   {
    "duration": 82,
    "start_time": "2023-11-21T14:29:53.255Z"
   },
   {
    "duration": 6,
    "start_time": "2023-11-21T14:31:21.156Z"
   },
   {
    "duration": 21,
    "start_time": "2023-11-21T14:31:26.043Z"
   },
   {
    "duration": 341,
    "start_time": "2023-11-21T14:31:53.519Z"
   },
   {
    "duration": 220,
    "start_time": "2023-11-21T14:32:12.722Z"
   },
   {
    "duration": 28,
    "start_time": "2023-11-21T14:32:48.539Z"
   },
   {
    "duration": 445,
    "start_time": "2023-11-21T14:33:11.607Z"
   },
   {
    "duration": 319,
    "start_time": "2023-11-21T14:33:45.820Z"
   },
   {
    "duration": 4,
    "start_time": "2023-11-21T14:34:52.759Z"
   },
   {
    "duration": 636,
    "start_time": "2023-11-21T14:37:57.279Z"
   },
   {
    "duration": 206,
    "start_time": "2023-11-21T14:38:30.401Z"
   },
   {
    "duration": 302,
    "start_time": "2023-11-21T14:39:31.306Z"
   },
   {
    "duration": 298,
    "start_time": "2023-11-21T14:39:58.330Z"
   },
   {
    "duration": 107,
    "start_time": "2023-11-21T14:40:15.651Z"
   },
   {
    "duration": 107,
    "start_time": "2023-11-21T14:40:27.603Z"
   },
   {
    "duration": 3,
    "start_time": "2023-11-21T14:40:51.663Z"
   },
   {
    "duration": 2,
    "start_time": "2023-11-21T14:43:13.039Z"
   },
   {
    "duration": 4,
    "start_time": "2023-11-21T14:46:11.218Z"
   },
   {
    "duration": 57597,
    "start_time": "2023-11-21T14:46:17.549Z"
   },
   {
    "duration": 57521,
    "start_time": "2023-11-21T14:51:16.169Z"
   },
   {
    "duration": 4495,
    "start_time": "2023-11-21T15:05:06.459Z"
   },
   {
    "duration": 4660,
    "start_time": "2023-11-21T15:11:32.898Z"
   },
   {
    "duration": 9167,
    "start_time": "2023-11-21T15:11:50.080Z"
   },
   {
    "duration": 21491,
    "start_time": "2023-11-21T15:12:12.461Z"
   },
   {
    "duration": 7772,
    "start_time": "2023-11-21T15:13:01.180Z"
   },
   {
    "duration": 5671,
    "start_time": "2023-11-21T15:14:07.690Z"
   },
   {
    "duration": 268,
    "start_time": "2023-11-21T15:15:48.659Z"
   },
   {
    "duration": 3,
    "start_time": "2023-11-21T15:16:24.516Z"
   },
   {
    "duration": 3,
    "start_time": "2023-11-21T15:16:39.875Z"
   },
   {
    "duration": 4,
    "start_time": "2023-11-21T15:16:43.521Z"
   },
   {
    "duration": 713,
    "start_time": "2023-11-21T15:16:43.536Z"
   },
   {
    "duration": 144,
    "start_time": "2023-11-21T15:16:44.251Z"
   },
   {
    "duration": 35,
    "start_time": "2023-11-21T15:16:44.397Z"
   },
   {
    "duration": 21,
    "start_time": "2023-11-21T15:16:44.445Z"
   },
   {
    "duration": 35,
    "start_time": "2023-11-21T15:16:44.468Z"
   },
   {
    "duration": 43,
    "start_time": "2023-11-21T15:16:44.505Z"
   },
   {
    "duration": 38,
    "start_time": "2023-11-21T15:16:44.550Z"
   },
   {
    "duration": 84,
    "start_time": "2023-11-21T15:16:44.589Z"
   },
   {
    "duration": 0,
    "start_time": "2023-11-21T15:16:44.676Z"
   },
   {
    "duration": 0,
    "start_time": "2023-11-21T15:16:44.677Z"
   },
   {
    "duration": 0,
    "start_time": "2023-11-21T15:16:44.678Z"
   },
   {
    "duration": 0,
    "start_time": "2023-11-21T15:16:44.679Z"
   },
   {
    "duration": 0,
    "start_time": "2023-11-21T15:16:44.680Z"
   },
   {
    "duration": 0,
    "start_time": "2023-11-21T15:16:44.681Z"
   },
   {
    "duration": 0,
    "start_time": "2023-11-21T15:16:44.682Z"
   },
   {
    "duration": 0,
    "start_time": "2023-11-21T15:16:44.683Z"
   },
   {
    "duration": 0,
    "start_time": "2023-11-21T15:16:44.684Z"
   },
   {
    "duration": 0,
    "start_time": "2023-11-21T15:16:44.685Z"
   },
   {
    "duration": 0,
    "start_time": "2023-11-21T15:16:44.687Z"
   },
   {
    "duration": 0,
    "start_time": "2023-11-21T15:16:44.687Z"
   },
   {
    "duration": 0,
    "start_time": "2023-11-21T15:16:44.689Z"
   },
   {
    "duration": 0,
    "start_time": "2023-11-21T15:16:44.689Z"
   },
   {
    "duration": 0,
    "start_time": "2023-11-21T15:16:44.690Z"
   },
   {
    "duration": 0,
    "start_time": "2023-11-21T15:16:44.691Z"
   },
   {
    "duration": 0,
    "start_time": "2023-11-21T15:16:44.692Z"
   },
   {
    "duration": 0,
    "start_time": "2023-11-21T15:16:44.693Z"
   },
   {
    "duration": 0,
    "start_time": "2023-11-21T15:16:44.694Z"
   },
   {
    "duration": 0,
    "start_time": "2023-11-21T15:16:44.695Z"
   },
   {
    "duration": 0,
    "start_time": "2023-11-21T15:16:44.696Z"
   },
   {
    "duration": 0,
    "start_time": "2023-11-21T15:16:44.697Z"
   },
   {
    "duration": 0,
    "start_time": "2023-11-21T15:16:44.698Z"
   },
   {
    "duration": 0,
    "start_time": "2023-11-21T15:16:44.699Z"
   },
   {
    "duration": 0,
    "start_time": "2023-11-21T15:16:44.700Z"
   },
   {
    "duration": 0,
    "start_time": "2023-11-21T15:16:44.701Z"
   },
   {
    "duration": 0,
    "start_time": "2023-11-21T15:16:44.702Z"
   },
   {
    "duration": 0,
    "start_time": "2023-11-21T15:16:44.703Z"
   },
   {
    "duration": 0,
    "start_time": "2023-11-21T15:16:44.704Z"
   },
   {
    "duration": 0,
    "start_time": "2023-11-21T15:16:44.704Z"
   },
   {
    "duration": 0,
    "start_time": "2023-11-21T15:16:44.705Z"
   },
   {
    "duration": 0,
    "start_time": "2023-11-21T15:16:44.706Z"
   },
   {
    "duration": 0,
    "start_time": "2023-11-21T15:16:44.707Z"
   },
   {
    "duration": 0,
    "start_time": "2023-11-21T15:16:44.708Z"
   },
   {
    "duration": 0,
    "start_time": "2023-11-21T15:16:44.709Z"
   },
   {
    "duration": 0,
    "start_time": "2023-11-21T15:16:44.710Z"
   },
   {
    "duration": 0,
    "start_time": "2023-11-21T15:16:44.710Z"
   },
   {
    "duration": 0,
    "start_time": "2023-11-21T15:16:44.711Z"
   },
   {
    "duration": 0,
    "start_time": "2023-11-21T15:16:44.712Z"
   },
   {
    "duration": 0,
    "start_time": "2023-11-21T15:16:44.713Z"
   },
   {
    "duration": 0,
    "start_time": "2023-11-21T15:16:44.745Z"
   },
   {
    "duration": 0,
    "start_time": "2023-11-21T15:16:44.746Z"
   },
   {
    "duration": 482,
    "start_time": "2023-11-21T15:18:03.276Z"
   },
   {
    "duration": 1343,
    "start_time": "2023-11-21T15:18:12.517Z"
   },
   {
    "duration": 807,
    "start_time": "2023-11-21T15:18:13.862Z"
   },
   {
    "duration": 158,
    "start_time": "2023-11-21T15:18:14.671Z"
   },
   {
    "duration": 42,
    "start_time": "2023-11-21T15:18:14.831Z"
   },
   {
    "duration": 91,
    "start_time": "2023-11-21T15:18:14.874Z"
   },
   {
    "duration": 55,
    "start_time": "2023-11-21T15:18:14.967Z"
   },
   {
    "duration": 63,
    "start_time": "2023-11-21T15:18:15.024Z"
   },
   {
    "duration": 52,
    "start_time": "2023-11-21T15:18:15.088Z"
   },
   {
    "duration": 24,
    "start_time": "2023-11-21T15:18:15.142Z"
   },
   {
    "duration": 25,
    "start_time": "2023-11-21T15:18:15.168Z"
   },
   {
    "duration": 38,
    "start_time": "2023-11-21T15:18:15.194Z"
   },
   {
    "duration": 36,
    "start_time": "2023-11-21T15:18:15.233Z"
   },
   {
    "duration": 34,
    "start_time": "2023-11-21T15:18:15.271Z"
   },
   {
    "duration": 38,
    "start_time": "2023-11-21T15:18:15.307Z"
   },
   {
    "duration": 149,
    "start_time": "2023-11-21T15:18:15.346Z"
   },
   {
    "duration": 7,
    "start_time": "2023-11-21T15:18:15.496Z"
   },
   {
    "duration": 35,
    "start_time": "2023-11-21T15:18:15.504Z"
   },
   {
    "duration": 26,
    "start_time": "2023-11-21T15:18:15.545Z"
   },
   {
    "duration": 110,
    "start_time": "2023-11-21T15:18:15.573Z"
   },
   {
    "duration": 60,
    "start_time": "2023-11-21T15:18:15.685Z"
   },
   {
    "duration": 446,
    "start_time": "2023-11-21T15:18:15.747Z"
   },
   {
    "duration": 21,
    "start_time": "2023-11-21T15:18:16.195Z"
   },
   {
    "duration": 42,
    "start_time": "2023-11-21T15:18:16.217Z"
   },
   {
    "duration": 242,
    "start_time": "2023-11-21T15:18:16.260Z"
   },
   {
    "duration": 5,
    "start_time": "2023-11-21T15:18:16.503Z"
   },
   {
    "duration": 16,
    "start_time": "2023-11-21T15:18:16.510Z"
   },
   {
    "duration": 44,
    "start_time": "2023-11-21T15:18:16.527Z"
   },
   {
    "duration": 17,
    "start_time": "2023-11-21T15:18:16.574Z"
   },
   {
    "duration": 15,
    "start_time": "2023-11-21T15:18:16.593Z"
   },
   {
    "duration": 46,
    "start_time": "2023-11-21T15:18:16.609Z"
   },
   {
    "duration": 24,
    "start_time": "2023-11-21T15:18:16.657Z"
   },
   {
    "duration": 349,
    "start_time": "2023-11-21T15:18:16.683Z"
   },
   {
    "duration": 134,
    "start_time": "2023-11-21T15:18:17.044Z"
   },
   {
    "duration": 0,
    "start_time": "2023-11-21T15:18:17.179Z"
   },
   {
    "duration": 0,
    "start_time": "2023-11-21T15:18:17.181Z"
   },
   {
    "duration": 0,
    "start_time": "2023-11-21T15:18:17.182Z"
   },
   {
    "duration": 0,
    "start_time": "2023-11-21T15:18:17.182Z"
   },
   {
    "duration": 0,
    "start_time": "2023-11-21T15:18:17.183Z"
   },
   {
    "duration": 0,
    "start_time": "2023-11-21T15:18:17.185Z"
   },
   {
    "duration": 0,
    "start_time": "2023-11-21T15:18:17.185Z"
   },
   {
    "duration": 0,
    "start_time": "2023-11-21T15:18:17.187Z"
   },
   {
    "duration": 0,
    "start_time": "2023-11-21T15:18:17.188Z"
   },
   {
    "duration": 0,
    "start_time": "2023-11-21T15:18:17.189Z"
   },
   {
    "duration": 0,
    "start_time": "2023-11-21T15:18:17.190Z"
   },
   {
    "duration": 0,
    "start_time": "2023-11-21T15:18:17.191Z"
   },
   {
    "duration": 0,
    "start_time": "2023-11-21T15:18:17.192Z"
   },
   {
    "duration": 0,
    "start_time": "2023-11-21T15:18:17.193Z"
   },
   {
    "duration": 0,
    "start_time": "2023-11-21T15:18:17.195Z"
   },
   {
    "duration": 0,
    "start_time": "2023-11-21T15:18:17.196Z"
   },
   {
    "duration": 0,
    "start_time": "2023-11-21T15:18:17.198Z"
   },
   {
    "duration": 0,
    "start_time": "2023-11-21T15:18:17.199Z"
   },
   {
    "duration": 1410,
    "start_time": "2023-11-21T15:34:11.912Z"
   },
   {
    "duration": 803,
    "start_time": "2023-11-21T15:34:13.324Z"
   },
   {
    "duration": 140,
    "start_time": "2023-11-21T15:34:14.129Z"
   },
   {
    "duration": 47,
    "start_time": "2023-11-21T15:34:14.271Z"
   },
   {
    "duration": 47,
    "start_time": "2023-11-21T15:34:14.320Z"
   },
   {
    "duration": 46,
    "start_time": "2023-11-21T15:34:14.368Z"
   },
   {
    "duration": 47,
    "start_time": "2023-11-21T15:34:14.415Z"
   },
   {
    "duration": 45,
    "start_time": "2023-11-21T15:34:14.463Z"
   },
   {
    "duration": 33,
    "start_time": "2023-11-21T15:34:14.510Z"
   },
   {
    "duration": 44,
    "start_time": "2023-11-21T15:34:14.545Z"
   },
   {
    "duration": 60,
    "start_time": "2023-11-21T15:34:14.591Z"
   },
   {
    "duration": 43,
    "start_time": "2023-11-21T15:34:14.652Z"
   },
   {
    "duration": 48,
    "start_time": "2023-11-21T15:34:14.696Z"
   },
   {
    "duration": 50,
    "start_time": "2023-11-21T15:34:14.745Z"
   },
   {
    "duration": 153,
    "start_time": "2023-11-21T15:34:14.796Z"
   },
   {
    "duration": 14,
    "start_time": "2023-11-21T15:34:14.950Z"
   },
   {
    "duration": 51,
    "start_time": "2023-11-21T15:34:14.966Z"
   },
   {
    "duration": 76,
    "start_time": "2023-11-21T15:34:15.018Z"
   },
   {
    "duration": 174,
    "start_time": "2023-11-21T15:34:15.095Z"
   },
   {
    "duration": 63,
    "start_time": "2023-11-21T15:34:15.270Z"
   },
   {
    "duration": 421,
    "start_time": "2023-11-21T15:34:15.334Z"
   },
   {
    "duration": 20,
    "start_time": "2023-11-21T15:34:15.756Z"
   },
   {
    "duration": 29,
    "start_time": "2023-11-21T15:34:15.777Z"
   },
   {
    "duration": 231,
    "start_time": "2023-11-21T15:34:15.808Z"
   },
   {
    "duration": 7,
    "start_time": "2023-11-21T15:34:16.040Z"
   },
   {
    "duration": 45,
    "start_time": "2023-11-21T15:34:16.049Z"
   },
   {
    "duration": 33,
    "start_time": "2023-11-21T15:34:16.095Z"
   },
   {
    "duration": 16,
    "start_time": "2023-11-21T15:34:16.131Z"
   },
   {
    "duration": 32,
    "start_time": "2023-11-21T15:34:16.148Z"
   },
   {
    "duration": 64,
    "start_time": "2023-11-21T15:34:16.182Z"
   },
   {
    "duration": 31,
    "start_time": "2023-11-21T15:34:16.248Z"
   },
   {
    "duration": 336,
    "start_time": "2023-11-21T15:34:16.281Z"
   },
   {
    "duration": 234,
    "start_time": "2023-11-21T15:34:16.618Z"
   },
   {
    "duration": 4,
    "start_time": "2023-11-21T15:34:16.854Z"
   },
   {
    "duration": 25,
    "start_time": "2023-11-21T15:34:16.859Z"
   },
   {
    "duration": 398,
    "start_time": "2023-11-21T15:34:16.886Z"
   },
   {
    "duration": 221,
    "start_time": "2023-11-21T15:34:17.285Z"
   },
   {
    "duration": 20,
    "start_time": "2023-11-21T15:34:17.507Z"
   },
   {
    "duration": 440,
    "start_time": "2023-11-21T15:34:17.528Z"
   },
   {
    "duration": 230,
    "start_time": "2023-11-21T15:34:17.969Z"
   },
   {
    "duration": 3,
    "start_time": "2023-11-21T15:34:18.201Z"
   },
   {
    "duration": 739,
    "start_time": "2023-11-21T15:34:18.211Z"
   },
   {
    "duration": 212,
    "start_time": "2023-11-21T15:34:18.952Z"
   },
   {
    "duration": 302,
    "start_time": "2023-11-21T15:34:19.166Z"
   },
   {
    "duration": 108,
    "start_time": "2023-11-21T15:34:19.469Z"
   },
   {
    "duration": 3,
    "start_time": "2023-11-21T15:34:19.579Z"
   },
   {
    "duration": 54978,
    "start_time": "2023-11-21T15:34:19.583Z"
   },
   {
    "duration": 6296,
    "start_time": "2023-11-21T15:35:14.563Z"
   },
   {
    "duration": 3,
    "start_time": "2023-11-21T15:35:20.861Z"
   },
   {
    "duration": 0,
    "start_time": "2023-11-21T15:35:20.945Z"
   },
   {
    "duration": 236,
    "start_time": "2023-11-21T15:35:49.915Z"
   },
   {
    "duration": 383,
    "start_time": "2023-11-21T15:36:10.490Z"
   },
   {
    "duration": 1379,
    "start_time": "2023-11-21T15:50:01.351Z"
   },
   {
    "duration": 828,
    "start_time": "2023-11-21T15:50:02.732Z"
   },
   {
    "duration": 141,
    "start_time": "2023-11-21T15:50:03.561Z"
   },
   {
    "duration": 52,
    "start_time": "2023-11-21T15:50:03.704Z"
   },
   {
    "duration": 27,
    "start_time": "2023-11-21T15:50:03.757Z"
   },
   {
    "duration": 44,
    "start_time": "2023-11-21T15:50:03.785Z"
   },
   {
    "duration": 24,
    "start_time": "2023-11-21T15:50:03.831Z"
   },
   {
    "duration": 59,
    "start_time": "2023-11-21T15:50:03.857Z"
   },
   {
    "duration": 41,
    "start_time": "2023-11-21T15:50:03.918Z"
   },
   {
    "duration": 30,
    "start_time": "2023-11-21T15:50:03.962Z"
   },
   {
    "duration": 63,
    "start_time": "2023-11-21T15:50:03.993Z"
   },
   {
    "duration": 36,
    "start_time": "2023-11-21T15:50:04.058Z"
   },
   {
    "duration": 50,
    "start_time": "2023-11-21T15:50:04.096Z"
   },
   {
    "duration": 43,
    "start_time": "2023-11-21T15:50:04.148Z"
   },
   {
    "duration": 135,
    "start_time": "2023-11-21T15:50:04.193Z"
   },
   {
    "duration": 52,
    "start_time": "2023-11-21T15:50:04.329Z"
   },
   {
    "duration": 41,
    "start_time": "2023-11-21T15:50:04.383Z"
   },
   {
    "duration": 33,
    "start_time": "2023-11-21T15:50:04.426Z"
   },
   {
    "duration": 101,
    "start_time": "2023-11-21T15:50:04.461Z"
   },
   {
    "duration": 53,
    "start_time": "2023-11-21T15:50:04.564Z"
   },
   {
    "duration": 418,
    "start_time": "2023-11-21T15:50:04.618Z"
   },
   {
    "duration": 24,
    "start_time": "2023-11-21T15:50:05.038Z"
   },
   {
    "duration": 26,
    "start_time": "2023-11-21T15:50:05.063Z"
   },
   {
    "duration": 244,
    "start_time": "2023-11-21T15:50:05.090Z"
   },
   {
    "duration": 4,
    "start_time": "2023-11-21T15:50:05.335Z"
   },
   {
    "duration": 19,
    "start_time": "2023-11-21T15:50:05.345Z"
   },
   {
    "duration": 34,
    "start_time": "2023-11-21T15:50:05.365Z"
   },
   {
    "duration": 16,
    "start_time": "2023-11-21T15:50:05.403Z"
   },
   {
    "duration": 25,
    "start_time": "2023-11-21T15:50:05.420Z"
   },
   {
    "duration": 30,
    "start_time": "2023-11-21T15:50:05.447Z"
   },
   {
    "duration": 25,
    "start_time": "2023-11-21T15:50:05.478Z"
   },
   {
    "duration": 346,
    "start_time": "2023-11-21T15:50:05.504Z"
   },
   {
    "duration": 240,
    "start_time": "2023-11-21T15:50:05.852Z"
   },
   {
    "duration": 6,
    "start_time": "2023-11-21T15:50:06.093Z"
   },
   {
    "duration": 51,
    "start_time": "2023-11-21T15:50:06.100Z"
   },
   {
    "duration": 387,
    "start_time": "2023-11-21T15:50:06.152Z"
   },
   {
    "duration": 221,
    "start_time": "2023-11-21T15:50:06.545Z"
   },
   {
    "duration": 20,
    "start_time": "2023-11-21T15:50:06.768Z"
   },
   {
    "duration": 446,
    "start_time": "2023-11-21T15:50:06.789Z"
   },
   {
    "duration": 218,
    "start_time": "2023-11-21T15:50:07.236Z"
   },
   {
    "duration": 4,
    "start_time": "2023-11-21T15:50:07.456Z"
   },
   {
    "duration": 617,
    "start_time": "2023-11-21T15:50:07.462Z"
   },
   {
    "duration": 203,
    "start_time": "2023-11-21T15:50:08.080Z"
   },
   {
    "duration": 295,
    "start_time": "2023-11-21T15:50:08.284Z"
   },
   {
    "duration": 110,
    "start_time": "2023-11-21T15:50:08.581Z"
   },
   {
    "duration": 4,
    "start_time": "2023-11-21T15:50:08.692Z"
   },
   {
    "duration": 55687,
    "start_time": "2023-11-21T15:50:08.698Z"
   },
   {
    "duration": 83572,
    "start_time": "2023-11-21T15:51:04.386Z"
   },
   {
    "duration": 321,
    "start_time": "2023-11-21T15:52:27.959Z"
   },
   {
    "duration": 380,
    "start_time": "2023-11-21T15:52:28.282Z"
   },
   {
    "duration": 46,
    "start_time": "2023-11-28T12:12:06.237Z"
   },
   {
    "duration": 1555,
    "start_time": "2023-11-28T12:12:11.677Z"
   },
   {
    "duration": 1107,
    "start_time": "2023-11-28T12:12:13.234Z"
   },
   {
    "duration": 149,
    "start_time": "2023-11-28T12:12:14.342Z"
   },
   {
    "duration": 84,
    "start_time": "2023-11-28T12:12:14.492Z"
   },
   {
    "duration": 11,
    "start_time": "2023-11-28T12:12:52.937Z"
   },
   {
    "duration": 11,
    "start_time": "2023-11-28T12:15:22.161Z"
   },
   {
    "duration": 275,
    "start_time": "2023-11-28T12:17:21.720Z"
   },
   {
    "duration": 74,
    "start_time": "2023-11-28T12:19:43.498Z"
   },
   {
    "duration": 66,
    "start_time": "2023-11-28T12:20:28.307Z"
   },
   {
    "duration": 62,
    "start_time": "2023-11-28T12:20:54.987Z"
   },
   {
    "duration": 3,
    "start_time": "2023-11-28T12:20:59.456Z"
   },
   {
    "duration": 847,
    "start_time": "2023-11-28T12:20:59.464Z"
   },
   {
    "duration": 150,
    "start_time": "2023-11-28T12:21:00.313Z"
   },
   {
    "duration": 215,
    "start_time": "2023-11-28T12:21:00.465Z"
   },
   {
    "duration": 117,
    "start_time": "2023-11-28T12:21:43.917Z"
   },
   {
    "duration": 47,
    "start_time": "2023-11-28T12:22:09.496Z"
   },
   {
    "duration": 14,
    "start_time": "2023-11-28T12:24:06.830Z"
   },
   {
    "duration": 3,
    "start_time": "2023-11-28T12:24:22.016Z"
   },
   {
    "duration": 812,
    "start_time": "2023-11-28T12:24:22.024Z"
   },
   {
    "duration": 148,
    "start_time": "2023-11-28T12:24:22.838Z"
   },
   {
    "duration": 19,
    "start_time": "2023-11-28T12:24:22.987Z"
   },
   {
    "duration": 0,
    "start_time": "2023-11-28T12:24:23.007Z"
   },
   {
    "duration": 183,
    "start_time": "2023-11-28T12:24:45.605Z"
   },
   {
    "duration": 129,
    "start_time": "2023-11-28T12:24:49.220Z"
   },
   {
    "duration": 3,
    "start_time": "2023-11-28T12:44:06.004Z"
   },
   {
    "duration": 776,
    "start_time": "2023-11-28T12:44:06.070Z"
   },
   {
    "duration": 145,
    "start_time": "2023-11-28T12:44:06.848Z"
   },
   {
    "duration": 204,
    "start_time": "2023-11-28T12:44:06.994Z"
   },
   {
    "duration": 126,
    "start_time": "2023-11-28T12:44:07.200Z"
   },
   {
    "duration": 37,
    "start_time": "2023-11-28T12:44:07.328Z"
   },
   {
    "duration": 33,
    "start_time": "2023-11-28T12:44:07.366Z"
   },
   {
    "duration": 48,
    "start_time": "2023-11-28T12:44:07.401Z"
   },
   {
    "duration": 36,
    "start_time": "2023-11-28T12:44:07.450Z"
   },
   {
    "duration": 45,
    "start_time": "2023-11-28T12:44:07.487Z"
   },
   {
    "duration": 32,
    "start_time": "2023-11-28T12:44:07.534Z"
   },
   {
    "duration": 36,
    "start_time": "2023-11-28T12:44:07.568Z"
   },
   {
    "duration": 38,
    "start_time": "2023-11-28T12:44:07.605Z"
   },
   {
    "duration": 27,
    "start_time": "2023-11-28T12:44:07.645Z"
   },
   {
    "duration": 35,
    "start_time": "2023-11-28T12:44:07.675Z"
   },
   {
    "duration": 29,
    "start_time": "2023-11-28T12:44:07.712Z"
   },
   {
    "duration": 128,
    "start_time": "2023-11-28T12:44:07.743Z"
   },
   {
    "duration": 6,
    "start_time": "2023-11-28T12:44:07.872Z"
   },
   {
    "duration": 22,
    "start_time": "2023-11-28T12:44:07.879Z"
   },
   {
    "duration": 19,
    "start_time": "2023-11-28T12:44:07.903Z"
   },
   {
    "duration": 102,
    "start_time": "2023-11-28T12:44:07.923Z"
   },
   {
    "duration": 65,
    "start_time": "2023-11-28T12:44:08.026Z"
   },
   {
    "duration": 523,
    "start_time": "2023-11-28T12:44:08.093Z"
   },
   {
    "duration": 21,
    "start_time": "2023-11-28T12:44:08.618Z"
   },
   {
    "duration": 19,
    "start_time": "2023-11-28T12:44:08.640Z"
   },
   {
    "duration": 241,
    "start_time": "2023-11-28T12:44:08.661Z"
   },
   {
    "duration": 4,
    "start_time": "2023-11-28T12:44:08.904Z"
   },
   {
    "duration": 30,
    "start_time": "2023-11-28T12:44:08.910Z"
   },
   {
    "duration": 23,
    "start_time": "2023-11-28T12:44:08.942Z"
   },
   {
    "duration": 25,
    "start_time": "2023-11-28T12:44:08.967Z"
   },
   {
    "duration": 37,
    "start_time": "2023-11-28T12:44:08.993Z"
   },
   {
    "duration": 33,
    "start_time": "2023-11-28T12:44:09.032Z"
   },
   {
    "duration": 22,
    "start_time": "2023-11-28T12:44:09.066Z"
   },
   {
    "duration": 361,
    "start_time": "2023-11-28T12:44:09.090Z"
   },
   {
    "duration": 319,
    "start_time": "2023-11-28T12:44:09.453Z"
   },
   {
    "duration": 5,
    "start_time": "2023-11-28T12:44:09.773Z"
   },
   {
    "duration": 57,
    "start_time": "2023-11-28T12:44:09.780Z"
   },
   {
    "duration": 340,
    "start_time": "2023-11-28T12:44:09.838Z"
   },
   {
    "duration": 246,
    "start_time": "2023-11-28T12:44:10.180Z"
   },
   {
    "duration": 22,
    "start_time": "2023-11-28T12:44:10.428Z"
   },
   {
    "duration": 479,
    "start_time": "2023-11-28T12:44:10.452Z"
   },
   {
    "duration": 236,
    "start_time": "2023-11-28T12:44:10.935Z"
   },
   {
    "duration": 4,
    "start_time": "2023-11-28T12:44:11.173Z"
   },
   {
    "duration": 65,
    "start_time": "2023-11-28T12:45:22.913Z"
   },
   {
    "duration": 26,
    "start_time": "2023-11-28T12:46:53.353Z"
   },
   {
    "duration": 61,
    "start_time": "2023-11-28T12:46:55.901Z"
   },
   {
    "duration": 312,
    "start_time": "2023-11-28T12:47:02.683Z"
   },
   {
    "duration": 214,
    "start_time": "2023-11-28T12:47:06.894Z"
   },
   {
    "duration": 4,
    "start_time": "2023-11-28T12:47:08.722Z"
   },
   {
    "duration": 28,
    "start_time": "2023-11-28T12:47:09.728Z"
   },
   {
    "duration": 331,
    "start_time": "2023-11-28T12:47:10.435Z"
   },
   {
    "duration": 216,
    "start_time": "2023-11-28T12:47:10.994Z"
   },
   {
    "duration": 31,
    "start_time": "2023-11-28T12:47:12.003Z"
   },
   {
    "duration": 410,
    "start_time": "2023-11-28T12:47:13.554Z"
   },
   {
    "duration": 222,
    "start_time": "2023-11-28T12:47:14.239Z"
   },
   {
    "duration": 145,
    "start_time": "2023-11-28T12:47:53.737Z"
   },
   {
    "duration": 185,
    "start_time": "2023-11-28T12:49:00.609Z"
   },
   {
    "duration": 148,
    "start_time": "2023-11-28T12:49:22.033Z"
   },
   {
    "duration": 10,
    "start_time": "2023-11-28T12:52:20.421Z"
   },
   {
    "duration": 163,
    "start_time": "2023-11-28T12:52:40.459Z"
   },
   {
    "duration": 9,
    "start_time": "2023-11-28T12:55:38.328Z"
   },
   {
    "duration": 2055,
    "start_time": "2023-11-28T12:56:15.690Z"
   },
   {
    "duration": 148,
    "start_time": "2023-11-28T12:56:47.901Z"
   },
   {
    "duration": 8,
    "start_time": "2023-11-28T12:58:49.299Z"
   },
   {
    "duration": 9,
    "start_time": "2023-11-28T12:58:55.449Z"
   },
   {
    "duration": 152,
    "start_time": "2023-11-28T12:59:10.464Z"
   },
   {
    "duration": 1042,
    "start_time": "2023-11-28T13:00:03.750Z"
   },
   {
    "duration": 159,
    "start_time": "2023-11-28T13:01:04.915Z"
   },
   {
    "duration": 1586,
    "start_time": "2023-11-29T10:50:43.012Z"
   },
   {
    "duration": 6,
    "start_time": "2023-11-29T10:51:13.893Z"
   },
   {
    "duration": 2999,
    "start_time": "2023-11-29T10:51:13.949Z"
   },
   {
    "duration": 158,
    "start_time": "2023-11-29T10:51:16.950Z"
   },
   {
    "duration": 244,
    "start_time": "2023-11-29T10:51:17.109Z"
   },
   {
    "duration": 141,
    "start_time": "2023-11-29T10:51:17.354Z"
   },
   {
    "duration": 46,
    "start_time": "2023-11-29T10:51:17.498Z"
   },
   {
    "duration": 27,
    "start_time": "2023-11-29T10:51:17.546Z"
   },
   {
    "duration": 49,
    "start_time": "2023-11-29T10:51:17.574Z"
   },
   {
    "duration": 35,
    "start_time": "2023-11-29T10:51:17.624Z"
   },
   {
    "duration": 57,
    "start_time": "2023-11-29T10:51:17.660Z"
   },
   {
    "duration": 19,
    "start_time": "2023-11-29T10:51:17.718Z"
   },
   {
    "duration": 33,
    "start_time": "2023-11-29T10:51:17.738Z"
   },
   {
    "duration": 54,
    "start_time": "2023-11-29T10:51:17.772Z"
   },
   {
    "duration": 27,
    "start_time": "2023-11-29T10:51:17.827Z"
   },
   {
    "duration": 49,
    "start_time": "2023-11-29T10:51:17.857Z"
   },
   {
    "duration": 36,
    "start_time": "2023-11-29T10:51:17.907Z"
   },
   {
    "duration": 113,
    "start_time": "2023-11-29T10:51:17.945Z"
   },
   {
    "duration": 6,
    "start_time": "2023-11-29T10:51:18.060Z"
   },
   {
    "duration": 29,
    "start_time": "2023-11-29T10:51:18.068Z"
   },
   {
    "duration": 17,
    "start_time": "2023-11-29T10:51:18.099Z"
   },
   {
    "duration": 126,
    "start_time": "2023-11-29T10:51:18.118Z"
   },
   {
    "duration": 76,
    "start_time": "2023-11-29T10:51:18.246Z"
   },
   {
    "duration": 464,
    "start_time": "2023-11-29T10:51:18.323Z"
   },
   {
    "duration": 29,
    "start_time": "2023-11-29T10:51:18.789Z"
   },
   {
    "duration": 35,
    "start_time": "2023-11-29T10:51:18.821Z"
   },
   {
    "duration": 268,
    "start_time": "2023-11-29T10:51:18.858Z"
   },
   {
    "duration": 5,
    "start_time": "2023-11-29T10:51:19.127Z"
   },
   {
    "duration": 23,
    "start_time": "2023-11-29T10:51:19.133Z"
   },
   {
    "duration": 36,
    "start_time": "2023-11-29T10:51:19.157Z"
   },
   {
    "duration": 31,
    "start_time": "2023-11-29T10:51:19.195Z"
   },
   {
    "duration": 16,
    "start_time": "2023-11-29T10:51:19.228Z"
   },
   {
    "duration": 35,
    "start_time": "2023-11-29T10:51:19.245Z"
   },
   {
    "duration": 33,
    "start_time": "2023-11-29T10:51:19.282Z"
   },
   {
    "duration": 25,
    "start_time": "2023-11-29T10:51:19.317Z"
   },
   {
    "duration": 72,
    "start_time": "2023-11-29T10:51:19.344Z"
   },
   {
    "duration": 346,
    "start_time": "2023-11-29T10:51:19.417Z"
   },
   {
    "duration": 252,
    "start_time": "2023-11-29T10:51:19.765Z"
   },
   {
    "duration": 5,
    "start_time": "2023-11-29T10:51:20.018Z"
   },
   {
    "duration": 47,
    "start_time": "2023-11-29T10:51:20.024Z"
   },
   {
    "duration": 413,
    "start_time": "2023-11-29T10:51:20.072Z"
   },
   {
    "duration": 231,
    "start_time": "2023-11-29T10:51:20.486Z"
   },
   {
    "duration": 21,
    "start_time": "2023-11-29T10:51:20.720Z"
   },
   {
    "duration": 445,
    "start_time": "2023-11-29T10:51:20.743Z"
   },
   {
    "duration": 223,
    "start_time": "2023-11-29T10:51:21.189Z"
   },
   {
    "duration": 3,
    "start_time": "2023-11-29T10:51:21.415Z"
   },
   {
    "duration": 156,
    "start_time": "2023-11-29T10:51:21.420Z"
   },
   {
    "duration": 195,
    "start_time": "2023-11-29T10:51:21.578Z"
   },
   {
    "duration": 601,
    "start_time": "2023-11-29T10:51:21.775Z"
   },
   {
    "duration": 11167,
    "start_time": "2023-11-29T10:55:36.912Z"
   },
   {
    "duration": 10745,
    "start_time": "2023-11-29T11:00:50.465Z"
   },
   {
    "duration": 10998,
    "start_time": "2023-11-29T11:03:02.658Z"
   },
   {
    "duration": 10,
    "start_time": "2023-11-29T11:08:32.687Z"
   },
   {
    "duration": 93,
    "start_time": "2023-11-29T11:10:26.672Z"
   },
   {
    "duration": 3614,
    "start_time": "2023-11-29T11:10:35.741Z"
   },
   {
    "duration": 3513,
    "start_time": "2023-11-29T11:12:12.653Z"
   },
   {
    "duration": 4,
    "start_time": "2023-11-29T11:12:41.752Z"
   },
   {
    "duration": 3382,
    "start_time": "2023-11-29T11:12:51.048Z"
   },
   {
    "duration": 99,
    "start_time": "2023-11-29T11:13:19.323Z"
   },
   {
    "duration": 3553,
    "start_time": "2023-11-29T11:13:35.225Z"
   },
   {
    "duration": 46,
    "start_time": "2023-11-29T11:14:18.976Z"
   },
   {
    "duration": 7,
    "start_time": "2023-11-29T11:14:24.193Z"
   },
   {
    "duration": 1445,
    "start_time": "2023-11-29T11:14:33.742Z"
   },
   {
    "duration": 2961,
    "start_time": "2023-11-29T11:14:35.189Z"
   },
   {
    "duration": 141,
    "start_time": "2023-11-29T11:14:38.151Z"
   },
   {
    "duration": 235,
    "start_time": "2023-11-29T11:14:38.294Z"
   },
   {
    "duration": 137,
    "start_time": "2023-11-29T11:14:38.530Z"
   },
   {
    "duration": 36,
    "start_time": "2023-11-29T11:14:38.669Z"
   },
   {
    "duration": 29,
    "start_time": "2023-11-29T11:14:38.715Z"
   },
   {
    "duration": 57,
    "start_time": "2023-11-29T11:14:38.745Z"
   },
   {
    "duration": 29,
    "start_time": "2023-11-29T11:14:38.805Z"
   },
   {
    "duration": 63,
    "start_time": "2023-11-29T11:14:38.837Z"
   },
   {
    "duration": 51,
    "start_time": "2023-11-29T11:14:38.902Z"
   },
   {
    "duration": 33,
    "start_time": "2023-11-29T11:14:38.954Z"
   },
   {
    "duration": 43,
    "start_time": "2023-11-29T11:14:38.989Z"
   },
   {
    "duration": 22,
    "start_time": "2023-11-29T11:14:39.033Z"
   },
   {
    "duration": 40,
    "start_time": "2023-11-29T11:14:39.057Z"
   },
   {
    "duration": 33,
    "start_time": "2023-11-29T11:14:39.098Z"
   },
   {
    "duration": 124,
    "start_time": "2023-11-29T11:14:39.133Z"
   },
   {
    "duration": 8,
    "start_time": "2023-11-29T11:14:39.259Z"
   },
   {
    "duration": 43,
    "start_time": "2023-11-29T11:14:39.269Z"
   },
   {
    "duration": 11,
    "start_time": "2023-11-29T11:14:39.313Z"
   },
   {
    "duration": 105,
    "start_time": "2023-11-29T11:14:39.325Z"
   },
   {
    "duration": 73,
    "start_time": "2023-11-29T11:14:39.432Z"
   },
   {
    "duration": 466,
    "start_time": "2023-11-29T11:14:39.506Z"
   },
   {
    "duration": 20,
    "start_time": "2023-11-29T11:14:39.973Z"
   },
   {
    "duration": 44,
    "start_time": "2023-11-29T11:14:39.995Z"
   },
   {
    "duration": 242,
    "start_time": "2023-11-29T11:14:40.041Z"
   },
   {
    "duration": 4,
    "start_time": "2023-11-29T11:14:40.285Z"
   },
   {
    "duration": 31,
    "start_time": "2023-11-29T11:14:40.292Z"
   },
   {
    "duration": 30,
    "start_time": "2023-11-29T11:14:40.325Z"
   },
   {
    "duration": 16,
    "start_time": "2023-11-29T11:14:40.356Z"
   },
   {
    "duration": 17,
    "start_time": "2023-11-29T11:14:40.373Z"
   },
   {
    "duration": 49,
    "start_time": "2023-11-29T11:14:40.392Z"
   },
   {
    "duration": 22,
    "start_time": "2023-11-29T11:14:40.442Z"
   },
   {
    "duration": 21,
    "start_time": "2023-11-29T11:14:40.466Z"
   },
   {
    "duration": 81,
    "start_time": "2023-11-29T11:14:40.488Z"
   },
   {
    "duration": 352,
    "start_time": "2023-11-29T11:14:40.570Z"
   },
   {
    "duration": 241,
    "start_time": "2023-11-29T11:14:40.924Z"
   },
   {
    "duration": 5,
    "start_time": "2023-11-29T11:14:41.167Z"
   },
   {
    "duration": 42,
    "start_time": "2023-11-29T11:14:41.173Z"
   },
   {
    "duration": 392,
    "start_time": "2023-11-29T11:14:41.217Z"
   },
   {
    "duration": 217,
    "start_time": "2023-11-29T11:14:41.615Z"
   },
   {
    "duration": 19,
    "start_time": "2023-11-29T11:14:41.834Z"
   },
   {
    "duration": 418,
    "start_time": "2023-11-29T11:14:41.855Z"
   },
   {
    "duration": 217,
    "start_time": "2023-11-29T11:14:42.274Z"
   },
   {
    "duration": 3,
    "start_time": "2023-11-29T11:14:42.493Z"
   },
   {
    "duration": 165,
    "start_time": "2023-11-29T11:14:42.498Z"
   },
   {
    "duration": 177,
    "start_time": "2023-11-29T11:14:42.665Z"
   },
   {
    "duration": 10,
    "start_time": "2023-11-29T11:14:42.844Z"
   },
   {
    "duration": 3796,
    "start_time": "2023-11-29T11:14:42.856Z"
   },
   {
    "duration": 3851,
    "start_time": "2023-11-29T11:15:36.099Z"
   },
   {
    "duration": 3,
    "start_time": "2023-11-29T11:16:15.130Z"
   },
   {
    "duration": 829,
    "start_time": "2023-11-29T11:16:15.141Z"
   },
   {
    "duration": 153,
    "start_time": "2023-11-29T11:16:15.972Z"
   },
   {
    "duration": 201,
    "start_time": "2023-11-29T11:16:16.127Z"
   },
   {
    "duration": 130,
    "start_time": "2023-11-29T11:16:16.329Z"
   },
   {
    "duration": 37,
    "start_time": "2023-11-29T11:16:16.461Z"
   },
   {
    "duration": 33,
    "start_time": "2023-11-29T11:16:16.500Z"
   },
   {
    "duration": 69,
    "start_time": "2023-11-29T11:16:16.534Z"
   },
   {
    "duration": 35,
    "start_time": "2023-11-29T11:16:16.605Z"
   },
   {
    "duration": 40,
    "start_time": "2023-11-29T11:16:16.642Z"
   },
   {
    "duration": 27,
    "start_time": "2023-11-29T11:16:16.684Z"
   },
   {
    "duration": 21,
    "start_time": "2023-11-29T11:16:16.713Z"
   },
   {
    "duration": 35,
    "start_time": "2023-11-29T11:16:16.736Z"
   },
   {
    "duration": 22,
    "start_time": "2023-11-29T11:16:16.773Z"
   },
   {
    "duration": 62,
    "start_time": "2023-11-29T11:16:16.798Z"
   },
   {
    "duration": 27,
    "start_time": "2023-11-29T11:16:16.862Z"
   },
   {
    "duration": 115,
    "start_time": "2023-11-29T11:16:16.891Z"
   },
   {
    "duration": 8,
    "start_time": "2023-11-29T11:16:17.015Z"
   },
   {
    "duration": 27,
    "start_time": "2023-11-29T11:16:17.025Z"
   },
   {
    "duration": 10,
    "start_time": "2023-11-29T11:16:17.054Z"
   },
   {
    "duration": 111,
    "start_time": "2023-11-29T11:16:17.066Z"
   },
   {
    "duration": 74,
    "start_time": "2023-11-29T11:16:17.178Z"
   },
   {
    "duration": 454,
    "start_time": "2023-11-29T11:16:17.253Z"
   },
   {
    "duration": 20,
    "start_time": "2023-11-29T11:16:17.714Z"
   },
   {
    "duration": 25,
    "start_time": "2023-11-29T11:16:17.736Z"
   },
   {
    "duration": 232,
    "start_time": "2023-11-29T11:16:17.762Z"
   },
   {
    "duration": 5,
    "start_time": "2023-11-29T11:16:17.995Z"
   },
   {
    "duration": 23,
    "start_time": "2023-11-29T11:16:18.001Z"
   },
   {
    "duration": 30,
    "start_time": "2023-11-29T11:16:18.026Z"
   },
   {
    "duration": 15,
    "start_time": "2023-11-29T11:16:18.058Z"
   },
   {
    "duration": 25,
    "start_time": "2023-11-29T11:16:18.074Z"
   },
   {
    "duration": 28,
    "start_time": "2023-11-29T11:16:18.114Z"
   },
   {
    "duration": 22,
    "start_time": "2023-11-29T11:16:18.143Z"
   },
   {
    "duration": 21,
    "start_time": "2023-11-29T11:16:18.166Z"
   },
   {
    "duration": 73,
    "start_time": "2023-11-29T11:16:18.189Z"
   },
   {
    "duration": 342,
    "start_time": "2023-11-29T11:16:18.264Z"
   },
   {
    "duration": 249,
    "start_time": "2023-11-29T11:16:18.614Z"
   },
   {
    "duration": 5,
    "start_time": "2023-11-29T11:16:18.865Z"
   },
   {
    "duration": 35,
    "start_time": "2023-11-29T11:16:18.872Z"
   },
   {
    "duration": 316,
    "start_time": "2023-11-29T11:16:18.909Z"
   },
   {
    "duration": 223,
    "start_time": "2023-11-29T11:16:19.226Z"
   },
   {
    "duration": 23,
    "start_time": "2023-11-29T11:16:19.452Z"
   },
   {
    "duration": 431,
    "start_time": "2023-11-29T11:16:19.477Z"
   },
   {
    "duration": 294,
    "start_time": "2023-11-29T11:16:19.914Z"
   },
   {
    "duration": 6,
    "start_time": "2023-11-29T11:16:20.209Z"
   },
   {
    "duration": 182,
    "start_time": "2023-11-29T11:16:20.217Z"
   },
   {
    "duration": 163,
    "start_time": "2023-11-29T11:16:20.400Z"
   },
   {
    "duration": 10,
    "start_time": "2023-11-29T11:16:20.565Z"
   },
   {
    "duration": 3611,
    "start_time": "2023-11-29T11:16:20.576Z"
   },
   {
    "duration": 3796,
    "start_time": "2023-11-29T11:17:03.885Z"
   },
   {
    "duration": 1277,
    "start_time": "2023-11-29T11:18:18.101Z"
   },
   {
    "duration": 10,
    "start_time": "2023-11-29T11:19:29.599Z"
   },
   {
    "duration": 10,
    "start_time": "2023-11-29T11:19:49.542Z"
   },
   {
    "duration": 11,
    "start_time": "2023-11-29T11:20:11.530Z"
   },
   {
    "duration": 1319,
    "start_time": "2023-11-29T11:20:50.369Z"
   },
   {
    "duration": 82,
    "start_time": "2023-11-29T11:27:58.993Z"
   },
   {
    "duration": 21,
    "start_time": "2023-11-29T11:28:17.156Z"
   },
   {
    "duration": 10887,
    "start_time": "2023-11-29T11:30:01.577Z"
   },
   {
    "duration": 10826,
    "start_time": "2023-11-29T11:30:33.256Z"
   },
   {
    "duration": 10,
    "start_time": "2023-11-29T11:33:59.093Z"
   },
   {
    "duration": 11,
    "start_time": "2023-11-29T11:34:13.640Z"
   },
   {
    "duration": 18,
    "start_time": "2023-11-29T11:34:29.703Z"
   },
   {
    "duration": 24,
    "start_time": "2023-11-29T11:34:36.186Z"
   },
   {
    "duration": 30,
    "start_time": "2023-11-29T11:38:50.652Z"
   },
   {
    "duration": 3630,
    "start_time": "2023-11-29T11:39:44.279Z"
   },
   {
    "duration": 298,
    "start_time": "2023-11-29T11:41:21.158Z"
   },
   {
    "duration": 9,
    "start_time": "2023-11-29T11:42:26.693Z"
   },
   {
    "duration": 3521,
    "start_time": "2023-11-29T11:45:23.907Z"
   },
   {
    "duration": 3605,
    "start_time": "2023-11-29T11:45:33.876Z"
   },
   {
    "duration": 49,
    "start_time": "2023-11-29T11:45:58.566Z"
   },
   {
    "duration": 7,
    "start_time": "2023-11-29T11:46:00.762Z"
   },
   {
    "duration": 1427,
    "start_time": "2023-11-29T11:46:15.744Z"
   },
   {
    "duration": 2927,
    "start_time": "2023-11-29T11:46:17.173Z"
   },
   {
    "duration": 146,
    "start_time": "2023-11-29T11:46:20.102Z"
   },
   {
    "duration": 252,
    "start_time": "2023-11-29T11:46:20.250Z"
   },
   {
    "duration": 136,
    "start_time": "2023-11-29T11:46:20.503Z"
   },
   {
    "duration": 34,
    "start_time": "2023-11-29T11:46:20.641Z"
   },
   {
    "duration": 40,
    "start_time": "2023-11-29T11:46:20.677Z"
   },
   {
    "duration": 42,
    "start_time": "2023-11-29T11:46:20.719Z"
   },
   {
    "duration": 47,
    "start_time": "2023-11-29T11:46:20.762Z"
   },
   {
    "duration": 51,
    "start_time": "2023-11-29T11:46:20.812Z"
   },
   {
    "duration": 48,
    "start_time": "2023-11-29T11:46:20.865Z"
   },
   {
    "duration": 73,
    "start_time": "2023-11-29T11:46:20.915Z"
   },
   {
    "duration": 46,
    "start_time": "2023-11-29T11:46:20.990Z"
   },
   {
    "duration": 43,
    "start_time": "2023-11-29T11:46:21.037Z"
   },
   {
    "duration": 44,
    "start_time": "2023-11-29T11:46:21.082Z"
   },
   {
    "duration": 45,
    "start_time": "2023-11-29T11:46:21.128Z"
   },
   {
    "duration": 125,
    "start_time": "2023-11-29T11:46:21.175Z"
   },
   {
    "duration": 7,
    "start_time": "2023-11-29T11:46:21.302Z"
   },
   {
    "duration": 24,
    "start_time": "2023-11-29T11:46:21.315Z"
   },
   {
    "duration": 11,
    "start_time": "2023-11-29T11:46:21.340Z"
   },
   {
    "duration": 141,
    "start_time": "2023-11-29T11:46:21.352Z"
   },
   {
    "duration": 71,
    "start_time": "2023-11-29T11:46:21.495Z"
   },
   {
    "duration": 433,
    "start_time": "2023-11-29T11:46:21.568Z"
   },
   {
    "duration": 28,
    "start_time": "2023-11-29T11:46:22.002Z"
   },
   {
    "duration": 28,
    "start_time": "2023-11-29T11:46:22.032Z"
   },
   {
    "duration": 256,
    "start_time": "2023-11-29T11:46:22.061Z"
   },
   {
    "duration": 5,
    "start_time": "2023-11-29T11:46:22.318Z"
   },
   {
    "duration": 14,
    "start_time": "2023-11-29T11:46:22.326Z"
   },
   {
    "duration": 32,
    "start_time": "2023-11-29T11:46:22.341Z"
   },
   {
    "duration": 16,
    "start_time": "2023-11-29T11:46:22.374Z"
   },
   {
    "duration": 17,
    "start_time": "2023-11-29T11:46:22.416Z"
   },
   {
    "duration": 34,
    "start_time": "2023-11-29T11:46:22.434Z"
   },
   {
    "duration": 23,
    "start_time": "2023-11-29T11:46:22.469Z"
   },
   {
    "duration": 40,
    "start_time": "2023-11-29T11:46:22.494Z"
   },
   {
    "duration": 72,
    "start_time": "2023-11-29T11:46:22.536Z"
   },
   {
    "duration": 333,
    "start_time": "2023-11-29T11:46:22.610Z"
   },
   {
    "duration": 242,
    "start_time": "2023-11-29T11:46:22.945Z"
   },
   {
    "duration": 4,
    "start_time": "2023-11-29T11:46:23.189Z"
   },
   {
    "duration": 38,
    "start_time": "2023-11-29T11:46:23.194Z"
   },
   {
    "duration": 410,
    "start_time": "2023-11-29T11:46:23.233Z"
   },
   {
    "duration": 223,
    "start_time": "2023-11-29T11:46:23.644Z"
   },
   {
    "duration": 20,
    "start_time": "2023-11-29T11:46:23.868Z"
   },
   {
    "duration": 412,
    "start_time": "2023-11-29T11:46:23.890Z"
   },
   {
    "duration": 228,
    "start_time": "2023-11-29T11:46:24.304Z"
   },
   {
    "duration": 3,
    "start_time": "2023-11-29T11:46:24.534Z"
   },
   {
    "duration": 156,
    "start_time": "2023-11-29T11:46:24.539Z"
   },
   {
    "duration": 188,
    "start_time": "2023-11-29T11:46:24.696Z"
   },
   {
    "duration": 12,
    "start_time": "2023-11-29T11:46:24.886Z"
   },
   {
    "duration": 3422,
    "start_time": "2023-11-29T11:46:24.899Z"
   },
   {
    "duration": 300,
    "start_time": "2023-11-29T11:46:35.315Z"
   },
   {
    "duration": 77,
    "start_time": "2023-11-29T11:46:44.781Z"
   },
   {
    "duration": 259,
    "start_time": "2023-11-29T11:47:10.133Z"
   },
   {
    "duration": 763,
    "start_time": "2023-11-29T11:47:17.493Z"
   },
   {
    "duration": 303,
    "start_time": "2023-11-29T11:47:18.475Z"
   },
   {
    "duration": 4,
    "start_time": "2023-11-29T11:47:20.779Z"
   },
   {
    "duration": 10,
    "start_time": "2023-11-29T11:48:07.502Z"
   },
   {
    "duration": 50239,
    "start_time": "2023-11-29T11:48:49.318Z"
   },
   {
    "duration": 268,
    "start_time": "2023-11-29T11:49:46.822Z"
   },
   {
    "duration": 6,
    "start_time": "2023-11-29T11:49:48.924Z"
   },
   {
    "duration": 254,
    "start_time": "2023-11-29T11:51:34.095Z"
   },
   {
    "duration": 9,
    "start_time": "2023-11-29T11:51:35.146Z"
   },
   {
    "duration": 1449,
    "start_time": "2023-11-29T11:51:58.423Z"
   },
   {
    "duration": 924,
    "start_time": "2023-11-29T11:51:59.874Z"
   },
   {
    "duration": 167,
    "start_time": "2023-11-29T11:52:00.799Z"
   },
   {
    "duration": 265,
    "start_time": "2023-11-29T11:52:00.968Z"
   },
   {
    "duration": 138,
    "start_time": "2023-11-29T11:52:01.235Z"
   },
   {
    "duration": 46,
    "start_time": "2023-11-29T11:52:01.375Z"
   },
   {
    "duration": 113,
    "start_time": "2023-11-29T11:52:01.423Z"
   },
   {
    "duration": 113,
    "start_time": "2023-11-29T11:52:01.538Z"
   },
   {
    "duration": 65,
    "start_time": "2023-11-29T11:52:01.653Z"
   },
   {
    "duration": 52,
    "start_time": "2023-11-29T11:52:01.720Z"
   },
   {
    "duration": 35,
    "start_time": "2023-11-29T11:52:01.773Z"
   },
   {
    "duration": 39,
    "start_time": "2023-11-29T11:52:01.809Z"
   },
   {
    "duration": 51,
    "start_time": "2023-11-29T11:52:01.849Z"
   },
   {
    "duration": 36,
    "start_time": "2023-11-29T11:52:01.901Z"
   },
   {
    "duration": 60,
    "start_time": "2023-11-29T11:52:01.939Z"
   },
   {
    "duration": 29,
    "start_time": "2023-11-29T11:52:02.000Z"
   },
   {
    "duration": 125,
    "start_time": "2023-11-29T11:52:02.031Z"
   },
   {
    "duration": 8,
    "start_time": "2023-11-29T11:52:02.158Z"
   },
   {
    "duration": 27,
    "start_time": "2023-11-29T11:52:02.168Z"
   },
   {
    "duration": 25,
    "start_time": "2023-11-29T11:52:02.197Z"
   },
   {
    "duration": 104,
    "start_time": "2023-11-29T11:52:02.224Z"
   },
   {
    "duration": 66,
    "start_time": "2023-11-29T11:52:02.330Z"
   },
   {
    "duration": 468,
    "start_time": "2023-11-29T11:52:02.398Z"
   },
   {
    "duration": 21,
    "start_time": "2023-11-29T11:52:02.867Z"
   },
   {
    "duration": 40,
    "start_time": "2023-11-29T11:52:02.889Z"
   },
   {
    "duration": 246,
    "start_time": "2023-11-29T11:52:02.930Z"
   },
   {
    "duration": 5,
    "start_time": "2023-11-29T11:52:03.177Z"
   },
   {
    "duration": 29,
    "start_time": "2023-11-29T11:52:03.186Z"
   },
   {
    "duration": 36,
    "start_time": "2023-11-29T11:52:03.217Z"
   },
   {
    "duration": 17,
    "start_time": "2023-11-29T11:52:03.254Z"
   },
   {
    "duration": 19,
    "start_time": "2023-11-29T11:52:03.273Z"
   },
   {
    "duration": 51,
    "start_time": "2023-11-29T11:52:03.294Z"
   },
   {
    "duration": 29,
    "start_time": "2023-11-29T11:52:03.346Z"
   },
   {
    "duration": 39,
    "start_time": "2023-11-29T11:52:03.376Z"
   },
   {
    "duration": 62,
    "start_time": "2023-11-29T11:52:03.416Z"
   },
   {
    "duration": 354,
    "start_time": "2023-11-29T11:52:03.480Z"
   },
   {
    "duration": 245,
    "start_time": "2023-11-29T11:52:03.836Z"
   },
   {
    "duration": 6,
    "start_time": "2023-11-29T11:52:04.083Z"
   },
   {
    "duration": 61,
    "start_time": "2023-11-29T11:52:04.090Z"
   },
   {
    "duration": 410,
    "start_time": "2023-11-29T11:52:04.153Z"
   },
   {
    "duration": 215,
    "start_time": "2023-11-29T11:52:04.565Z"
   },
   {
    "duration": 21,
    "start_time": "2023-11-29T11:52:04.781Z"
   },
   {
    "duration": 460,
    "start_time": "2023-11-29T11:52:04.804Z"
   },
   {
    "duration": 227,
    "start_time": "2023-11-29T11:52:05.265Z"
   },
   {
    "duration": 3,
    "start_time": "2023-11-29T11:52:05.494Z"
   },
   {
    "duration": 149,
    "start_time": "2023-11-29T11:52:05.499Z"
   },
   {
    "duration": 183,
    "start_time": "2023-11-29T11:52:05.649Z"
   },
   {
    "duration": 11,
    "start_time": "2023-11-29T11:52:05.833Z"
   },
   {
    "duration": 3656,
    "start_time": "2023-11-29T11:52:05.846Z"
   },
   {
    "duration": 312,
    "start_time": "2023-11-29T11:52:09.503Z"
   },
   {
    "duration": 271,
    "start_time": "2023-11-29T11:52:09.817Z"
   },
   {
    "duration": 784,
    "start_time": "2023-11-29T11:52:10.090Z"
   },
   {
    "duration": 312,
    "start_time": "2023-11-29T11:52:10.876Z"
   },
   {
    "duration": 5,
    "start_time": "2023-11-29T11:52:11.189Z"
   },
   {
    "duration": 50755,
    "start_time": "2023-11-29T11:52:11.196Z"
   },
   {
    "duration": 277,
    "start_time": "2023-11-29T11:53:01.953Z"
   },
   {
    "duration": 5,
    "start_time": "2023-11-29T11:53:02.232Z"
   },
   {
    "duration": 51,
    "start_time": "2023-11-29T11:59:04.105Z"
   },
   {
    "duration": 1445,
    "start_time": "2023-11-29T11:59:18.452Z"
   },
   {
    "duration": 2961,
    "start_time": "2023-11-29T11:59:19.899Z"
   },
   {
    "duration": 153,
    "start_time": "2023-11-29T11:59:22.862Z"
   },
   {
    "duration": 258,
    "start_time": "2023-11-29T11:59:23.018Z"
   },
   {
    "duration": 136,
    "start_time": "2023-11-29T11:59:54.619Z"
   },
   {
    "duration": 105,
    "start_time": "2023-11-29T12:01:18.466Z"
   },
   {
    "duration": 122,
    "start_time": "2023-11-29T12:01:19.417Z"
   },
   {
    "duration": 37,
    "start_time": "2023-11-29T12:04:34.406Z"
   },
   {
    "duration": 22,
    "start_time": "2023-11-29T12:04:37.550Z"
   },
   {
    "duration": 37,
    "start_time": "2023-11-29T12:04:38.388Z"
   },
   {
    "duration": 23,
    "start_time": "2023-11-29T12:04:38.904Z"
   },
   {
    "duration": 42,
    "start_time": "2023-11-29T12:04:39.408Z"
   },
   {
    "duration": 17,
    "start_time": "2023-11-29T12:04:43.195Z"
   },
   {
    "duration": 22,
    "start_time": "2023-11-29T12:04:45.571Z"
   },
   {
    "duration": 38,
    "start_time": "2023-11-29T12:04:46.710Z"
   },
   {
    "duration": 22,
    "start_time": "2023-11-29T12:04:47.232Z"
   },
   {
    "duration": 35,
    "start_time": "2023-11-29T12:04:47.904Z"
   },
   {
    "duration": 23,
    "start_time": "2023-11-29T12:04:50.952Z"
   },
   {
    "duration": 118,
    "start_time": "2023-11-29T12:04:51.600Z"
   },
   {
    "duration": 90,
    "start_time": "2023-11-29T12:08:45.645Z"
   },
   {
    "duration": 95,
    "start_time": "2023-11-29T12:09:02.861Z"
   },
   {
    "duration": 23,
    "start_time": "2023-11-29T12:09:26.170Z"
   },
   {
    "duration": 39,
    "start_time": "2023-11-29T12:12:03.472Z"
   },
   {
    "duration": 38,
    "start_time": "2023-11-29T12:12:30.778Z"
   },
   {
    "duration": 487,
    "start_time": "2023-11-29T12:12:42.878Z"
   },
   {
    "duration": 20,
    "start_time": "2023-11-29T12:12:45.304Z"
   },
   {
    "duration": 33,
    "start_time": "2023-11-29T12:12:47.983Z"
   },
   {
    "duration": 246,
    "start_time": "2023-11-29T12:12:50.342Z"
   },
   {
    "duration": 5,
    "start_time": "2023-11-29T12:12:51.247Z"
   },
   {
    "duration": 20,
    "start_time": "2023-11-29T12:12:51.614Z"
   },
   {
    "duration": 28,
    "start_time": "2023-11-29T12:12:52.661Z"
   },
   {
    "duration": 17,
    "start_time": "2023-11-29T12:12:54.865Z"
   },
   {
    "duration": 18,
    "start_time": "2023-11-29T12:12:56.514Z"
   },
   {
    "duration": 29,
    "start_time": "2023-11-29T12:13:02.989Z"
   },
   {
    "duration": 35,
    "start_time": "2023-11-29T12:15:05.409Z"
   },
   {
    "duration": 61,
    "start_time": "2023-11-29T12:16:08.166Z"
   },
   {
    "duration": 65,
    "start_time": "2023-11-29T12:16:34.199Z"
   },
   {
    "duration": 4,
    "start_time": "2023-11-29T12:17:25.710Z"
   },
   {
    "duration": 901,
    "start_time": "2023-11-29T12:17:25.727Z"
   },
   {
    "duration": 144,
    "start_time": "2023-11-29T12:17:26.630Z"
   },
   {
    "duration": 190,
    "start_time": "2023-11-29T12:17:26.776Z"
   },
   {
    "duration": 136,
    "start_time": "2023-11-29T12:17:26.968Z"
   },
   {
    "duration": 53,
    "start_time": "2023-11-29T12:17:27.106Z"
   },
   {
    "duration": 21,
    "start_time": "2023-11-29T12:17:27.161Z"
   },
   {
    "duration": 51,
    "start_time": "2023-11-29T12:17:27.184Z"
   },
   {
    "duration": 25,
    "start_time": "2023-11-29T12:17:27.236Z"
   },
   {
    "duration": 52,
    "start_time": "2023-11-29T12:17:27.263Z"
   },
   {
    "duration": 18,
    "start_time": "2023-11-29T12:17:27.317Z"
   },
   {
    "duration": 23,
    "start_time": "2023-11-29T12:17:27.337Z"
   },
   {
    "duration": 54,
    "start_time": "2023-11-29T12:17:27.362Z"
   },
   {
    "duration": 24,
    "start_time": "2023-11-29T12:17:27.417Z"
   },
   {
    "duration": 39,
    "start_time": "2023-11-29T12:17:27.444Z"
   },
   {
    "duration": 43,
    "start_time": "2023-11-29T12:17:27.485Z"
   },
   {
    "duration": 124,
    "start_time": "2023-11-29T12:17:27.530Z"
   },
   {
    "duration": 474,
    "start_time": "2023-11-29T12:17:27.656Z"
   },
   {
    "duration": 27,
    "start_time": "2023-11-29T12:17:28.132Z"
   },
   {
    "duration": 33,
    "start_time": "2023-11-29T12:17:28.161Z"
   },
   {
    "duration": 243,
    "start_time": "2023-11-29T12:17:28.214Z"
   },
   {
    "duration": 5,
    "start_time": "2023-11-29T12:17:28.458Z"
   },
   {
    "duration": 29,
    "start_time": "2023-11-29T12:17:28.464Z"
   },
   {
    "duration": 44,
    "start_time": "2023-11-29T12:17:28.495Z"
   },
   {
    "duration": 16,
    "start_time": "2023-11-29T12:17:28.541Z"
   },
   {
    "duration": 22,
    "start_time": "2023-11-29T12:17:28.559Z"
   },
   {
    "duration": 65,
    "start_time": "2023-11-29T12:17:28.583Z"
   },
   {
    "duration": 33,
    "start_time": "2023-11-29T12:17:28.649Z"
   },
   {
    "duration": 46,
    "start_time": "2023-11-29T12:17:28.684Z"
   },
   {
    "duration": 446,
    "start_time": "2023-11-29T12:17:28.732Z"
   },
   {
    "duration": 256,
    "start_time": "2023-11-29T12:17:29.180Z"
   },
   {
    "duration": 5,
    "start_time": "2023-11-29T12:17:29.438Z"
   },
   {
    "duration": 40,
    "start_time": "2023-11-29T12:17:29.444Z"
   },
   {
    "duration": 352,
    "start_time": "2023-11-29T12:17:29.486Z"
   },
   {
    "duration": 224,
    "start_time": "2023-11-29T12:17:29.839Z"
   },
   {
    "duration": 32,
    "start_time": "2023-11-29T12:17:30.065Z"
   },
   {
    "duration": 443,
    "start_time": "2023-11-29T12:17:30.098Z"
   },
   {
    "duration": 229,
    "start_time": "2023-11-29T12:17:30.542Z"
   },
   {
    "duration": 115,
    "start_time": "2023-11-29T12:17:30.772Z"
   },
   {
    "duration": 7,
    "start_time": "2023-11-29T12:19:04.135Z"
   },
   {
    "duration": 85,
    "start_time": "2023-11-29T12:19:05.705Z"
   },
   {
    "duration": 90,
    "start_time": "2023-11-29T12:19:18.393Z"
   },
   {
    "duration": 19,
    "start_time": "2023-11-29T12:19:40.064Z"
   },
   {
    "duration": 139,
    "start_time": "2023-11-29T12:20:54.051Z"
   },
   {
    "duration": 174,
    "start_time": "2023-11-29T12:21:13.641Z"
   },
   {
    "duration": 4,
    "start_time": "2023-11-29T12:21:17.021Z"
   },
   {
    "duration": 81,
    "start_time": "2023-11-29T12:22:56.258Z"
   },
   {
    "duration": 12,
    "start_time": "2023-11-29T12:24:27.761Z"
   },
   {
    "duration": 3610,
    "start_time": "2023-11-29T12:25:21.333Z"
   },
   {
    "duration": 318,
    "start_time": "2023-11-29T12:25:40.599Z"
   },
   {
    "duration": 82,
    "start_time": "2023-11-29T12:26:09.661Z"
   },
   {
    "duration": 267,
    "start_time": "2023-11-29T12:26:19.056Z"
   },
   {
    "duration": 764,
    "start_time": "2023-11-29T12:26:19.744Z"
   },
   {
    "duration": 46,
    "start_time": "2023-11-29T12:26:25.443Z"
   },
   {
    "duration": 7,
    "start_time": "2023-11-29T12:27:01.285Z"
   },
   {
    "duration": 1440,
    "start_time": "2023-11-29T12:27:16.163Z"
   },
   {
    "duration": 2994,
    "start_time": "2023-11-29T12:27:17.605Z"
   },
   {
    "duration": 152,
    "start_time": "2023-11-29T12:27:20.601Z"
   },
   {
    "duration": 260,
    "start_time": "2023-11-29T12:27:20.755Z"
   },
   {
    "duration": 155,
    "start_time": "2023-11-29T12:27:21.017Z"
   },
   {
    "duration": 44,
    "start_time": "2023-11-29T12:27:21.174Z"
   },
   {
    "duration": 35,
    "start_time": "2023-11-29T12:27:21.220Z"
   },
   {
    "duration": 48,
    "start_time": "2023-11-29T12:27:21.257Z"
   },
   {
    "duration": 37,
    "start_time": "2023-11-29T12:27:21.307Z"
   },
   {
    "duration": 43,
    "start_time": "2023-11-29T12:27:21.347Z"
   },
   {
    "duration": 33,
    "start_time": "2023-11-29T12:27:21.392Z"
   },
   {
    "duration": 32,
    "start_time": "2023-11-29T12:27:21.427Z"
   },
   {
    "duration": 60,
    "start_time": "2023-11-29T12:27:21.461Z"
   },
   {
    "duration": 44,
    "start_time": "2023-11-29T12:27:21.523Z"
   },
   {
    "duration": 49,
    "start_time": "2023-11-29T12:27:21.568Z"
   },
   {
    "duration": 37,
    "start_time": "2023-11-29T12:27:21.618Z"
   },
   {
    "duration": 131,
    "start_time": "2023-11-29T12:27:21.657Z"
   },
   {
    "duration": 492,
    "start_time": "2023-11-29T12:27:21.789Z"
   },
   {
    "duration": 36,
    "start_time": "2023-11-29T12:27:22.283Z"
   },
   {
    "duration": 43,
    "start_time": "2023-11-29T12:27:22.321Z"
   },
   {
    "duration": 259,
    "start_time": "2023-11-29T12:27:22.366Z"
   },
   {
    "duration": 6,
    "start_time": "2023-11-29T12:27:22.626Z"
   },
   {
    "duration": 23,
    "start_time": "2023-11-29T12:27:22.634Z"
   },
   {
    "duration": 69,
    "start_time": "2023-11-29T12:27:22.659Z"
   },
   {
    "duration": 16,
    "start_time": "2023-11-29T12:27:22.730Z"
   },
   {
    "duration": 23,
    "start_time": "2023-11-29T12:27:22.748Z"
   },
   {
    "duration": 74,
    "start_time": "2023-11-29T12:27:22.773Z"
   },
   {
    "duration": 35,
    "start_time": "2023-11-29T12:27:22.850Z"
   },
   {
    "duration": 53,
    "start_time": "2023-11-29T12:27:22.886Z"
   },
   {
    "duration": 376,
    "start_time": "2023-11-29T12:27:22.940Z"
   },
   {
    "duration": 251,
    "start_time": "2023-11-29T12:27:23.318Z"
   },
   {
    "duration": 5,
    "start_time": "2023-11-29T12:27:23.571Z"
   },
   {
    "duration": 54,
    "start_time": "2023-11-29T12:27:23.577Z"
   },
   {
    "duration": 423,
    "start_time": "2023-11-29T12:27:23.633Z"
   },
   {
    "duration": 226,
    "start_time": "2023-11-29T12:27:24.057Z"
   },
   {
    "duration": 42,
    "start_time": "2023-11-29T12:27:24.284Z"
   },
   {
    "duration": 431,
    "start_time": "2023-11-29T12:27:24.327Z"
   },
   {
    "duration": 262,
    "start_time": "2023-11-29T12:27:24.759Z"
   },
   {
    "duration": 118,
    "start_time": "2023-11-29T12:27:25.022Z"
   },
   {
    "duration": 7,
    "start_time": "2023-11-29T12:27:25.141Z"
   },
   {
    "duration": 49,
    "start_time": "2023-11-29T12:27:25.150Z"
   },
   {
    "duration": 152,
    "start_time": "2023-11-29T12:27:25.200Z"
   },
   {
    "duration": 189,
    "start_time": "2023-11-29T12:27:25.354Z"
   },
   {
    "duration": 3,
    "start_time": "2023-11-29T12:27:25.545Z"
   },
   {
    "duration": 90,
    "start_time": "2023-11-29T12:27:25.550Z"
   },
   {
    "duration": 59,
    "start_time": "2023-11-29T12:27:25.641Z"
   },
   {
    "duration": 3533,
    "start_time": "2023-11-29T12:27:25.701Z"
   },
   {
    "duration": 317,
    "start_time": "2023-11-29T12:27:29.235Z"
   },
   {
    "duration": 271,
    "start_time": "2023-11-29T12:27:29.554Z"
   },
   {
    "duration": 800,
    "start_time": "2023-11-29T12:27:29.826Z"
   },
   {
    "duration": 326,
    "start_time": "2023-11-29T12:27:30.628Z"
   },
   {
    "duration": 4,
    "start_time": "2023-11-29T12:27:30.956Z"
   },
   {
    "duration": 119,
    "start_time": "2023-11-29T12:29:24.405Z"
   },
   {
    "duration": 1445,
    "start_time": "2023-11-29T12:29:35.482Z"
   },
   {
    "duration": 2972,
    "start_time": "2023-11-29T12:29:36.929Z"
   },
   {
    "duration": 151,
    "start_time": "2023-11-29T12:29:39.903Z"
   },
   {
    "duration": 258,
    "start_time": "2023-11-29T12:29:40.057Z"
   },
   {
    "duration": 144,
    "start_time": "2023-11-29T12:29:40.316Z"
   },
   {
    "duration": 37,
    "start_time": "2023-11-29T12:29:40.461Z"
   },
   {
    "duration": 34,
    "start_time": "2023-11-29T12:29:40.500Z"
   },
   {
    "duration": 53,
    "start_time": "2023-11-29T12:29:40.536Z"
   },
   {
    "duration": 38,
    "start_time": "2023-11-29T12:29:40.591Z"
   },
   {
    "duration": 39,
    "start_time": "2023-11-29T12:29:40.631Z"
   },
   {
    "duration": 19,
    "start_time": "2023-11-29T12:29:40.671Z"
   },
   {
    "duration": 21,
    "start_time": "2023-11-29T12:29:40.714Z"
   },
   {
    "duration": 36,
    "start_time": "2023-11-29T12:29:40.736Z"
   },
   {
    "duration": 42,
    "start_time": "2023-11-29T12:29:40.774Z"
   },
   {
    "duration": 35,
    "start_time": "2023-11-29T12:29:40.818Z"
   },
   {
    "duration": 38,
    "start_time": "2023-11-29T12:29:40.855Z"
   },
   {
    "duration": 124,
    "start_time": "2023-11-29T12:29:40.894Z"
   },
   {
    "duration": 507,
    "start_time": "2023-11-29T12:29:41.020Z"
   },
   {
    "duration": 29,
    "start_time": "2023-11-29T12:29:41.529Z"
   },
   {
    "duration": 63,
    "start_time": "2023-11-29T12:29:41.560Z"
   },
   {
    "duration": 249,
    "start_time": "2023-11-29T12:29:41.624Z"
   },
   {
    "duration": 5,
    "start_time": "2023-11-29T12:29:41.874Z"
   },
   {
    "duration": 34,
    "start_time": "2023-11-29T12:29:41.881Z"
   },
   {
    "duration": 45,
    "start_time": "2023-11-29T12:29:41.916Z"
   },
   {
    "duration": 16,
    "start_time": "2023-11-29T12:29:41.963Z"
   },
   {
    "duration": 41,
    "start_time": "2023-11-29T12:29:41.980Z"
   },
   {
    "duration": 46,
    "start_time": "2023-11-29T12:29:42.022Z"
   },
   {
    "duration": 54,
    "start_time": "2023-11-29T12:29:42.072Z"
   },
   {
    "duration": 44,
    "start_time": "2023-11-29T12:29:42.128Z"
   },
   {
    "duration": 356,
    "start_time": "2023-11-29T12:29:42.174Z"
   },
   {
    "duration": 245,
    "start_time": "2023-11-29T12:29:42.532Z"
   },
   {
    "duration": 5,
    "start_time": "2023-11-29T12:29:42.779Z"
   },
   {
    "duration": 56,
    "start_time": "2023-11-29T12:29:42.785Z"
   },
   {
    "duration": 432,
    "start_time": "2023-11-29T12:29:42.843Z"
   },
   {
    "duration": 229,
    "start_time": "2023-11-29T12:29:43.277Z"
   },
   {
    "duration": 37,
    "start_time": "2023-11-29T12:29:43.507Z"
   },
   {
    "duration": 445,
    "start_time": "2023-11-29T12:29:43.546Z"
   },
   {
    "duration": 241,
    "start_time": "2023-11-29T12:29:43.993Z"
   },
   {
    "duration": 109,
    "start_time": "2023-11-29T12:29:44.236Z"
   },
   {
    "duration": 7,
    "start_time": "2023-11-29T12:29:44.347Z"
   },
   {
    "duration": 24,
    "start_time": "2023-11-29T12:29:44.356Z"
   },
   {
    "duration": 162,
    "start_time": "2023-11-29T12:29:44.381Z"
   },
   {
    "duration": 188,
    "start_time": "2023-11-29T12:29:44.545Z"
   },
   {
    "duration": 5,
    "start_time": "2023-11-29T12:29:44.734Z"
   },
   {
    "duration": 91,
    "start_time": "2023-11-29T12:29:44.741Z"
   },
   {
    "duration": 22,
    "start_time": "2023-11-29T12:29:44.835Z"
   },
   {
    "duration": 3504,
    "start_time": "2023-11-29T12:29:44.859Z"
   },
   {
    "duration": 315,
    "start_time": "2023-11-29T12:29:48.365Z"
   },
   {
    "duration": 275,
    "start_time": "2023-11-29T12:29:48.682Z"
   },
   {
    "duration": 786,
    "start_time": "2023-11-29T12:29:48.959Z"
   },
   {
    "duration": 325,
    "start_time": "2023-11-29T12:29:49.747Z"
   },
   {
    "duration": 5,
    "start_time": "2023-11-29T12:29:50.074Z"
   },
   {
    "duration": 121,
    "start_time": "2023-11-29T12:30:04.382Z"
   },
   {
    "duration": 1476,
    "start_time": "2023-11-29T12:30:12.123Z"
   },
   {
    "duration": 2984,
    "start_time": "2023-11-29T12:30:13.601Z"
   },
   {
    "duration": 151,
    "start_time": "2023-11-29T12:30:16.587Z"
   },
   {
    "duration": 260,
    "start_time": "2023-11-29T12:30:16.740Z"
   },
   {
    "duration": 150,
    "start_time": "2023-11-29T12:30:17.001Z"
   },
   {
    "duration": 37,
    "start_time": "2023-11-29T12:30:17.152Z"
   },
   {
    "duration": 34,
    "start_time": "2023-11-29T12:30:17.191Z"
   },
   {
    "duration": 39,
    "start_time": "2023-11-29T12:30:17.226Z"
   },
   {
    "duration": 22,
    "start_time": "2023-11-29T12:30:17.267Z"
   },
   {
    "duration": 54,
    "start_time": "2023-11-29T12:30:17.292Z"
   },
   {
    "duration": 38,
    "start_time": "2023-11-29T12:30:17.348Z"
   },
   {
    "duration": 34,
    "start_time": "2023-11-29T12:30:17.388Z"
   },
   {
    "duration": 44,
    "start_time": "2023-11-29T12:30:17.424Z"
   },
   {
    "duration": 37,
    "start_time": "2023-11-29T12:30:17.470Z"
   },
   {
    "duration": 42,
    "start_time": "2023-11-29T12:30:17.509Z"
   },
   {
    "duration": 33,
    "start_time": "2023-11-29T12:30:17.553Z"
   },
   {
    "duration": 122,
    "start_time": "2023-11-29T12:30:17.587Z"
   },
   {
    "duration": 490,
    "start_time": "2023-11-29T12:30:17.710Z"
   },
   {
    "duration": 34,
    "start_time": "2023-11-29T12:30:18.202Z"
   },
   {
    "duration": 44,
    "start_time": "2023-11-29T12:30:18.238Z"
   },
   {
    "duration": 256,
    "start_time": "2023-11-29T12:30:18.283Z"
   },
   {
    "duration": 6,
    "start_time": "2023-11-29T12:30:18.540Z"
   },
   {
    "duration": 24,
    "start_time": "2023-11-29T12:30:18.547Z"
   },
   {
    "duration": 91,
    "start_time": "2023-11-29T12:30:18.573Z"
   },
   {
    "duration": 16,
    "start_time": "2023-11-29T12:30:18.665Z"
   },
   {
    "duration": 39,
    "start_time": "2023-11-29T12:30:18.683Z"
   },
   {
    "duration": 47,
    "start_time": "2023-11-29T12:30:18.724Z"
   },
   {
    "duration": 48,
    "start_time": "2023-11-29T12:30:18.775Z"
   },
   {
    "duration": 46,
    "start_time": "2023-11-29T12:30:18.825Z"
   },
   {
    "duration": 360,
    "start_time": "2023-11-29T12:30:18.872Z"
   },
   {
    "duration": 246,
    "start_time": "2023-11-29T12:30:19.233Z"
   },
   {
    "duration": 5,
    "start_time": "2023-11-29T12:30:19.481Z"
   },
   {
    "duration": 56,
    "start_time": "2023-11-29T12:30:19.488Z"
   },
   {
    "duration": 418,
    "start_time": "2023-11-29T12:30:19.545Z"
   },
   {
    "duration": 236,
    "start_time": "2023-11-29T12:30:19.965Z"
   },
   {
    "duration": 42,
    "start_time": "2023-11-29T12:30:20.203Z"
   },
   {
    "duration": 438,
    "start_time": "2023-11-29T12:30:20.247Z"
   },
   {
    "duration": 240,
    "start_time": "2023-11-29T12:30:20.686Z"
   },
   {
    "duration": 118,
    "start_time": "2023-11-29T12:30:20.928Z"
   },
   {
    "duration": 10,
    "start_time": "2023-11-29T12:30:21.048Z"
   },
   {
    "duration": 23,
    "start_time": "2023-11-29T12:30:21.059Z"
   },
   {
    "duration": 176,
    "start_time": "2023-11-29T12:30:21.084Z"
   },
   {
    "duration": 185,
    "start_time": "2023-11-29T12:30:21.261Z"
   },
   {
    "duration": 4,
    "start_time": "2023-11-29T12:30:21.448Z"
   },
   {
    "duration": 88,
    "start_time": "2023-11-29T12:30:21.454Z"
   },
   {
    "duration": 12,
    "start_time": "2023-11-29T12:30:21.544Z"
   },
   {
    "duration": 3496,
    "start_time": "2023-11-29T12:30:21.558Z"
   },
   {
    "duration": 323,
    "start_time": "2023-11-29T12:30:25.056Z"
   },
   {
    "duration": 273,
    "start_time": "2023-11-29T12:30:25.380Z"
   },
   {
    "duration": 779,
    "start_time": "2023-11-29T12:30:25.654Z"
   },
   {
    "duration": 48,
    "start_time": "2023-11-29T12:30:57.937Z"
   },
   {
    "duration": 1437,
    "start_time": "2023-11-29T12:31:07.565Z"
   },
   {
    "duration": 2974,
    "start_time": "2023-11-29T12:31:09.005Z"
   },
   {
    "duration": 151,
    "start_time": "2023-11-29T12:31:11.980Z"
   },
   {
    "duration": 259,
    "start_time": "2023-11-29T12:31:12.133Z"
   },
   {
    "duration": 144,
    "start_time": "2023-11-29T12:31:12.393Z"
   },
   {
    "duration": 36,
    "start_time": "2023-11-29T12:31:12.539Z"
   },
   {
    "duration": 62,
    "start_time": "2023-11-29T12:31:12.577Z"
   },
   {
    "duration": 48,
    "start_time": "2023-11-29T12:31:12.640Z"
   },
   {
    "duration": 30,
    "start_time": "2023-11-29T12:31:12.689Z"
   },
   {
    "duration": 38,
    "start_time": "2023-11-29T12:31:12.722Z"
   },
   {
    "duration": 30,
    "start_time": "2023-11-29T12:31:12.762Z"
   },
   {
    "duration": 33,
    "start_time": "2023-11-29T12:31:12.793Z"
   },
   {
    "duration": 44,
    "start_time": "2023-11-29T12:31:12.828Z"
   },
   {
    "duration": 29,
    "start_time": "2023-11-29T12:31:12.874Z"
   },
   {
    "duration": 35,
    "start_time": "2023-11-29T12:31:12.904Z"
   },
   {
    "duration": 27,
    "start_time": "2023-11-29T12:31:12.941Z"
   },
   {
    "duration": 139,
    "start_time": "2023-11-29T12:31:12.970Z"
   },
   {
    "duration": 486,
    "start_time": "2023-11-29T12:31:13.110Z"
   },
   {
    "duration": 35,
    "start_time": "2023-11-29T12:31:13.597Z"
   },
   {
    "duration": 43,
    "start_time": "2023-11-29T12:31:13.633Z"
   },
   {
    "duration": 268,
    "start_time": "2023-11-29T12:31:13.678Z"
   },
   {
    "duration": 5,
    "start_time": "2023-11-29T12:31:13.948Z"
   },
   {
    "duration": 31,
    "start_time": "2023-11-29T12:31:13.954Z"
   },
   {
    "duration": 55,
    "start_time": "2023-11-29T12:31:13.986Z"
   },
   {
    "duration": 17,
    "start_time": "2023-11-29T12:31:14.042Z"
   },
   {
    "duration": 24,
    "start_time": "2023-11-29T12:31:14.060Z"
   },
   {
    "duration": 64,
    "start_time": "2023-11-29T12:31:14.086Z"
   },
   {
    "duration": 46,
    "start_time": "2023-11-29T12:31:14.155Z"
   },
   {
    "duration": 53,
    "start_time": "2023-11-29T12:31:14.203Z"
   },
   {
    "duration": 360,
    "start_time": "2023-11-29T12:31:14.258Z"
   },
   {
    "duration": 245,
    "start_time": "2023-11-29T12:31:14.621Z"
   },
   {
    "duration": 6,
    "start_time": "2023-11-29T12:31:14.868Z"
   },
   {
    "duration": 52,
    "start_time": "2023-11-29T12:31:14.875Z"
   },
   {
    "duration": 432,
    "start_time": "2023-11-29T12:31:14.929Z"
   },
   {
    "duration": 250,
    "start_time": "2023-11-29T12:31:15.363Z"
   },
   {
    "duration": 34,
    "start_time": "2023-11-29T12:31:15.615Z"
   },
   {
    "duration": 438,
    "start_time": "2023-11-29T12:31:15.650Z"
   },
   {
    "duration": 234,
    "start_time": "2023-11-29T12:31:16.089Z"
   },
   {
    "duration": 115,
    "start_time": "2023-11-29T12:31:16.325Z"
   },
   {
    "duration": 6,
    "start_time": "2023-11-29T12:31:16.442Z"
   },
   {
    "duration": 23,
    "start_time": "2023-11-29T12:31:16.450Z"
   },
   {
    "duration": 168,
    "start_time": "2023-11-29T12:31:16.474Z"
   },
   {
    "duration": 185,
    "start_time": "2023-11-29T12:31:16.643Z"
   },
   {
    "duration": 4,
    "start_time": "2023-11-29T12:31:16.829Z"
   },
   {
    "duration": 90,
    "start_time": "2023-11-29T12:31:16.835Z"
   },
   {
    "duration": 10,
    "start_time": "2023-11-29T12:31:16.927Z"
   },
   {
    "duration": 3644,
    "start_time": "2023-11-29T12:31:16.939Z"
   },
   {
    "duration": 320,
    "start_time": "2023-11-29T12:31:20.585Z"
   },
   {
    "duration": 276,
    "start_time": "2023-11-29T12:31:20.906Z"
   },
   {
    "duration": 780,
    "start_time": "2023-11-29T12:31:21.183Z"
   },
   {
    "duration": 1490,
    "start_time": "2023-11-29T12:32:24.801Z"
   },
   {
    "duration": 2996,
    "start_time": "2023-11-29T12:32:26.293Z"
   },
   {
    "duration": 153,
    "start_time": "2023-11-29T12:32:29.290Z"
   },
   {
    "duration": 250,
    "start_time": "2023-11-29T12:32:29.445Z"
   },
   {
    "duration": 145,
    "start_time": "2023-11-29T12:32:29.696Z"
   },
   {
    "duration": 37,
    "start_time": "2023-11-29T12:32:29.842Z"
   },
   {
    "duration": 46,
    "start_time": "2023-11-29T12:32:29.881Z"
   },
   {
    "duration": 47,
    "start_time": "2023-11-29T12:32:29.929Z"
   },
   {
    "duration": 73,
    "start_time": "2023-11-29T12:32:29.978Z"
   },
   {
    "duration": 83,
    "start_time": "2023-11-29T12:32:30.054Z"
   },
   {
    "duration": 48,
    "start_time": "2023-11-29T12:32:30.138Z"
   },
   {
    "duration": 69,
    "start_time": "2023-11-29T12:32:30.187Z"
   },
   {
    "duration": 116,
    "start_time": "2023-11-29T12:32:30.258Z"
   },
   {
    "duration": 145,
    "start_time": "2023-11-29T12:32:30.376Z"
   },
   {
    "duration": 78,
    "start_time": "2023-11-29T12:32:30.523Z"
   },
   {
    "duration": 120,
    "start_time": "2023-11-29T12:32:30.602Z"
   },
   {
    "duration": 209,
    "start_time": "2023-11-29T12:32:30.724Z"
   },
   {
    "duration": 507,
    "start_time": "2023-11-29T12:32:30.935Z"
   },
   {
    "duration": 32,
    "start_time": "2023-11-29T12:32:31.444Z"
   },
   {
    "duration": 135,
    "start_time": "2023-11-29T12:32:31.479Z"
   },
   {
    "duration": 329,
    "start_time": "2023-11-29T12:32:31.617Z"
   },
   {
    "duration": 6,
    "start_time": "2023-11-29T12:32:31.948Z"
   },
   {
    "duration": 115,
    "start_time": "2023-11-29T12:32:31.955Z"
   },
   {
    "duration": 82,
    "start_time": "2023-11-29T12:32:32.072Z"
   },
   {
    "duration": 17,
    "start_time": "2023-11-29T12:32:32.155Z"
   },
   {
    "duration": 49,
    "start_time": "2023-11-29T12:32:32.173Z"
   },
   {
    "duration": 46,
    "start_time": "2023-11-29T12:32:32.223Z"
   },
   {
    "duration": 50,
    "start_time": "2023-11-29T12:32:32.272Z"
   },
   {
    "duration": 45,
    "start_time": "2023-11-29T12:32:32.324Z"
   },
   {
    "duration": 364,
    "start_time": "2023-11-29T12:32:32.371Z"
   },
   {
    "duration": 240,
    "start_time": "2023-11-29T12:32:32.736Z"
   },
   {
    "duration": 5,
    "start_time": "2023-11-29T12:32:32.977Z"
   },
   {
    "duration": 53,
    "start_time": "2023-11-29T12:32:32.983Z"
   },
   {
    "duration": 429,
    "start_time": "2023-11-29T12:32:33.037Z"
   },
   {
    "duration": 240,
    "start_time": "2023-11-29T12:32:33.468Z"
   },
   {
    "duration": 34,
    "start_time": "2023-11-29T12:32:33.714Z"
   },
   {
    "duration": 457,
    "start_time": "2023-11-29T12:32:33.750Z"
   },
   {
    "duration": 231,
    "start_time": "2023-11-29T12:32:34.214Z"
   },
   {
    "duration": 116,
    "start_time": "2023-11-29T12:32:34.446Z"
   },
   {
    "duration": 7,
    "start_time": "2023-11-29T12:32:34.564Z"
   },
   {
    "duration": 47,
    "start_time": "2023-11-29T12:32:34.572Z"
   },
   {
    "duration": 166,
    "start_time": "2023-11-29T12:32:34.621Z"
   },
   {
    "duration": 199,
    "start_time": "2023-11-29T12:32:34.789Z"
   },
   {
    "duration": 6,
    "start_time": "2023-11-29T12:32:34.990Z"
   },
   {
    "duration": 89,
    "start_time": "2023-11-29T12:32:34.998Z"
   },
   {
    "duration": 10,
    "start_time": "2023-11-29T12:32:35.089Z"
   },
   {
    "duration": 3635,
    "start_time": "2023-11-29T12:32:35.115Z"
   },
   {
    "duration": 326,
    "start_time": "2023-11-29T12:32:38.751Z"
   },
   {
    "duration": 273,
    "start_time": "2023-11-29T12:32:39.079Z"
   },
   {
    "duration": 813,
    "start_time": "2023-11-29T12:32:39.354Z"
   },
   {
    "duration": 58,
    "start_time": "2023-11-29T12:32:46.554Z"
   },
   {
    "duration": 7,
    "start_time": "2023-11-29T12:32:48.035Z"
   },
   {
    "duration": 81,
    "start_time": "2023-11-29T12:32:50.518Z"
   },
   {
    "duration": 1493,
    "start_time": "2023-11-29T12:34:53.408Z"
   },
   {
    "duration": 2958,
    "start_time": "2023-11-29T12:34:54.904Z"
   },
   {
    "duration": 151,
    "start_time": "2023-11-29T12:34:57.863Z"
   },
   {
    "duration": 257,
    "start_time": "2023-11-29T12:34:58.017Z"
   },
   {
    "duration": 153,
    "start_time": "2023-11-29T12:34:58.276Z"
   },
   {
    "duration": 38,
    "start_time": "2023-11-29T12:34:58.430Z"
   },
   {
    "duration": 40,
    "start_time": "2023-11-29T12:34:58.470Z"
   },
   {
    "duration": 45,
    "start_time": "2023-11-29T12:34:58.512Z"
   },
   {
    "duration": 29,
    "start_time": "2023-11-29T12:34:58.559Z"
   },
   {
    "duration": 43,
    "start_time": "2023-11-29T12:34:58.591Z"
   },
   {
    "duration": 29,
    "start_time": "2023-11-29T12:34:58.636Z"
   },
   {
    "duration": 29,
    "start_time": "2023-11-29T12:34:58.667Z"
   },
   {
    "duration": 36,
    "start_time": "2023-11-29T12:34:58.698Z"
   },
   {
    "duration": 24,
    "start_time": "2023-11-29T12:34:58.736Z"
   },
   {
    "duration": 55,
    "start_time": "2023-11-29T12:34:58.762Z"
   },
   {
    "duration": 37,
    "start_time": "2023-11-29T12:34:58.819Z"
   },
   {
    "duration": 132,
    "start_time": "2023-11-29T12:34:58.858Z"
   },
   {
    "duration": 471,
    "start_time": "2023-11-29T12:34:58.992Z"
   },
   {
    "duration": 28,
    "start_time": "2023-11-29T12:34:59.465Z"
   },
   {
    "duration": 59,
    "start_time": "2023-11-29T12:34:59.494Z"
   },
   {
    "duration": 256,
    "start_time": "2023-11-29T12:34:59.554Z"
   },
   {
    "duration": 5,
    "start_time": "2023-11-29T12:34:59.812Z"
   },
   {
    "duration": 18,
    "start_time": "2023-11-29T12:34:59.818Z"
   },
   {
    "duration": 46,
    "start_time": "2023-11-29T12:34:59.838Z"
   },
   {
    "duration": 40,
    "start_time": "2023-11-29T12:34:59.885Z"
   },
   {
    "duration": 22,
    "start_time": "2023-11-29T12:34:59.927Z"
   },
   {
    "duration": 46,
    "start_time": "2023-11-29T12:34:59.950Z"
   },
   {
    "duration": 36,
    "start_time": "2023-11-29T12:35:00.015Z"
   },
   {
    "duration": 79,
    "start_time": "2023-11-29T12:35:00.052Z"
   },
   {
    "duration": 359,
    "start_time": "2023-11-29T12:35:00.133Z"
   },
   {
    "duration": 253,
    "start_time": "2023-11-29T12:35:00.494Z"
   },
   {
    "duration": 5,
    "start_time": "2023-11-29T12:35:00.748Z"
   },
   {
    "duration": 79,
    "start_time": "2023-11-29T12:35:00.755Z"
   },
   {
    "duration": 424,
    "start_time": "2023-11-29T12:35:00.835Z"
   },
   {
    "duration": 232,
    "start_time": "2023-11-29T12:35:01.261Z"
   },
   {
    "duration": 42,
    "start_time": "2023-11-29T12:35:01.495Z"
   },
   {
    "duration": 439,
    "start_time": "2023-11-29T12:35:01.538Z"
   },
   {
    "duration": 236,
    "start_time": "2023-11-29T12:35:01.979Z"
   },
   {
    "duration": 118,
    "start_time": "2023-11-29T12:35:02.217Z"
   },
   {
    "duration": 7,
    "start_time": "2023-11-29T12:35:02.336Z"
   },
   {
    "duration": 25,
    "start_time": "2023-11-29T12:35:02.344Z"
   },
   {
    "duration": 167,
    "start_time": "2023-11-29T12:35:02.371Z"
   },
   {
    "duration": 183,
    "start_time": "2023-11-29T12:35:02.539Z"
   },
   {
    "duration": 3,
    "start_time": "2023-11-29T12:35:02.724Z"
   },
   {
    "duration": 89,
    "start_time": "2023-11-29T12:35:02.729Z"
   },
   {
    "duration": 10,
    "start_time": "2023-11-29T12:35:02.820Z"
   },
   {
    "duration": 3498,
    "start_time": "2023-11-29T12:35:02.831Z"
   },
   {
    "duration": 321,
    "start_time": "2023-11-29T12:35:06.330Z"
   },
   {
    "duration": 274,
    "start_time": "2023-11-29T12:35:06.653Z"
   },
   {
    "duration": 777,
    "start_time": "2023-11-29T12:35:06.929Z"
   },
   {
    "duration": 325,
    "start_time": "2023-11-29T12:35:07.715Z"
   },
   {
    "duration": 3,
    "start_time": "2023-11-29T12:35:08.042Z"
   },
   {
    "duration": 844,
    "start_time": "2023-11-29T12:35:28.962Z"
   },
   {
    "duration": 1459,
    "start_time": "2023-11-29T12:37:47.093Z"
   },
   {
    "duration": 2955,
    "start_time": "2023-11-29T12:37:48.554Z"
   },
   {
    "duration": 157,
    "start_time": "2023-11-29T12:37:51.511Z"
   },
   {
    "duration": 234,
    "start_time": "2023-11-29T12:37:51.670Z"
   },
   {
    "duration": 139,
    "start_time": "2023-11-29T12:37:51.906Z"
   },
   {
    "duration": 35,
    "start_time": "2023-11-29T12:37:52.047Z"
   },
   {
    "duration": 34,
    "start_time": "2023-11-29T12:37:52.084Z"
   },
   {
    "duration": 38,
    "start_time": "2023-11-29T12:37:52.119Z"
   },
   {
    "duration": 22,
    "start_time": "2023-11-29T12:37:52.158Z"
   },
   {
    "duration": 57,
    "start_time": "2023-11-29T12:37:52.182Z"
   },
   {
    "duration": 23,
    "start_time": "2023-11-29T12:37:52.240Z"
   },
   {
    "duration": 20,
    "start_time": "2023-11-29T12:37:52.265Z"
   },
   {
    "duration": 45,
    "start_time": "2023-11-29T12:37:52.287Z"
   },
   {
    "duration": 29,
    "start_time": "2023-11-29T12:37:52.333Z"
   },
   {
    "duration": 52,
    "start_time": "2023-11-29T12:37:52.364Z"
   },
   {
    "duration": 23,
    "start_time": "2023-11-29T12:37:52.417Z"
   },
   {
    "duration": 130,
    "start_time": "2023-11-29T12:37:52.442Z"
   },
   {
    "duration": 482,
    "start_time": "2023-11-29T12:37:52.574Z"
   },
   {
    "duration": 30,
    "start_time": "2023-11-29T12:37:53.058Z"
   },
   {
    "duration": 57,
    "start_time": "2023-11-29T12:37:53.089Z"
   },
   {
    "duration": 247,
    "start_time": "2023-11-29T12:37:53.148Z"
   },
   {
    "duration": 5,
    "start_time": "2023-11-29T12:37:53.396Z"
   },
   {
    "duration": 30,
    "start_time": "2023-11-29T12:37:53.403Z"
   },
   {
    "duration": 47,
    "start_time": "2023-11-29T12:37:53.434Z"
   },
   {
    "duration": 33,
    "start_time": "2023-11-29T12:37:53.483Z"
   },
   {
    "duration": 33,
    "start_time": "2023-11-29T12:37:53.518Z"
   },
   {
    "duration": 63,
    "start_time": "2023-11-29T12:37:53.552Z"
   },
   {
    "duration": 36,
    "start_time": "2023-11-29T12:37:53.620Z"
   },
   {
    "duration": 60,
    "start_time": "2023-11-29T12:37:53.657Z"
   },
   {
    "duration": 362,
    "start_time": "2023-11-29T12:37:53.719Z"
   },
   {
    "duration": 243,
    "start_time": "2023-11-29T12:37:54.083Z"
   },
   {
    "duration": 6,
    "start_time": "2023-11-29T12:37:54.328Z"
   },
   {
    "duration": 44,
    "start_time": "2023-11-29T12:37:54.335Z"
   },
   {
    "duration": 422,
    "start_time": "2023-11-29T12:37:54.380Z"
   },
   {
    "duration": 251,
    "start_time": "2023-11-29T12:37:54.803Z"
   },
   {
    "duration": 35,
    "start_time": "2023-11-29T12:37:55.055Z"
   },
   {
    "duration": 439,
    "start_time": "2023-11-29T12:37:55.092Z"
   },
   {
    "duration": 229,
    "start_time": "2023-11-29T12:37:55.532Z"
   },
   {
    "duration": 114,
    "start_time": "2023-11-29T12:37:55.762Z"
   },
   {
    "duration": 6,
    "start_time": "2023-11-29T12:37:55.877Z"
   },
   {
    "duration": 32,
    "start_time": "2023-11-29T12:37:55.885Z"
   },
   {
    "duration": 160,
    "start_time": "2023-11-29T12:37:55.918Z"
   },
   {
    "duration": 188,
    "start_time": "2023-11-29T12:37:56.080Z"
   },
   {
    "duration": 5,
    "start_time": "2023-11-29T12:37:56.269Z"
   },
   {
    "duration": 91,
    "start_time": "2023-11-29T12:37:56.275Z"
   },
   {
    "duration": 11,
    "start_time": "2023-11-29T12:37:56.368Z"
   },
   {
    "duration": 3491,
    "start_time": "2023-11-29T12:37:56.380Z"
   },
   {
    "duration": 321,
    "start_time": "2023-11-29T12:37:59.872Z"
   },
   {
    "duration": 277,
    "start_time": "2023-11-29T12:38:00.195Z"
   },
   {
    "duration": 833,
    "start_time": "2023-11-29T12:38:00.474Z"
   },
   {
    "duration": 1436,
    "start_time": "2023-11-29T13:15:38.455Z"
   },
   {
    "duration": 2945,
    "start_time": "2023-11-29T13:15:39.893Z"
   },
   {
    "duration": 152,
    "start_time": "2023-11-29T13:15:42.841Z"
   },
   {
    "duration": 262,
    "start_time": "2023-11-29T13:15:42.995Z"
   },
   {
    "duration": 145,
    "start_time": "2023-11-29T13:15:43.259Z"
   },
   {
    "duration": 40,
    "start_time": "2023-11-29T13:15:43.406Z"
   },
   {
    "duration": 52,
    "start_time": "2023-11-29T13:15:43.448Z"
   },
   {
    "duration": 42,
    "start_time": "2023-11-29T13:15:43.502Z"
   },
   {
    "duration": 49,
    "start_time": "2023-11-29T13:15:43.546Z"
   },
   {
    "duration": 68,
    "start_time": "2023-11-29T13:15:43.598Z"
   },
   {
    "duration": 38,
    "start_time": "2023-11-29T13:15:43.668Z"
   },
   {
    "duration": 52,
    "start_time": "2023-11-29T13:15:43.708Z"
   },
   {
    "duration": 61,
    "start_time": "2023-11-29T13:15:43.762Z"
   },
   {
    "duration": 67,
    "start_time": "2023-11-29T13:15:43.824Z"
   },
   {
    "duration": 53,
    "start_time": "2023-11-29T13:15:43.892Z"
   },
   {
    "duration": 50,
    "start_time": "2023-11-29T13:15:43.947Z"
   },
   {
    "duration": 140,
    "start_time": "2023-11-29T13:15:43.998Z"
   },
   {
    "duration": 467,
    "start_time": "2023-11-29T13:15:44.140Z"
   },
   {
    "duration": 31,
    "start_time": "2023-11-29T13:15:44.608Z"
   },
   {
    "duration": 43,
    "start_time": "2023-11-29T13:15:44.641Z"
   },
   {
    "duration": 273,
    "start_time": "2023-11-29T13:15:44.686Z"
   },
   {
    "duration": 5,
    "start_time": "2023-11-29T13:15:44.961Z"
   },
   {
    "duration": 46,
    "start_time": "2023-11-29T13:15:44.967Z"
   },
   {
    "duration": 65,
    "start_time": "2023-11-29T13:15:45.015Z"
   },
   {
    "duration": 16,
    "start_time": "2023-11-29T13:15:45.082Z"
   },
   {
    "duration": 28,
    "start_time": "2023-11-29T13:15:45.099Z"
   },
   {
    "duration": 53,
    "start_time": "2023-11-29T13:15:45.129Z"
   },
   {
    "duration": 38,
    "start_time": "2023-11-29T13:15:45.186Z"
   },
   {
    "duration": 45,
    "start_time": "2023-11-29T13:15:45.225Z"
   },
   {
    "duration": 364,
    "start_time": "2023-11-29T13:15:45.272Z"
   },
   {
    "duration": 253,
    "start_time": "2023-11-29T13:15:45.638Z"
   },
   {
    "duration": 5,
    "start_time": "2023-11-29T13:15:45.893Z"
   },
   {
    "duration": 88,
    "start_time": "2023-11-29T13:15:45.900Z"
   },
   {
    "duration": 409,
    "start_time": "2023-11-29T13:15:45.989Z"
   },
   {
    "duration": 226,
    "start_time": "2023-11-29T13:15:46.399Z"
   },
   {
    "duration": 32,
    "start_time": "2023-11-29T13:15:46.627Z"
   },
   {
    "duration": 436,
    "start_time": "2023-11-29T13:15:46.661Z"
   },
   {
    "duration": 226,
    "start_time": "2023-11-29T13:15:47.099Z"
   },
   {
    "duration": 110,
    "start_time": "2023-11-29T13:15:47.326Z"
   },
   {
    "duration": 7,
    "start_time": "2023-11-29T13:15:47.437Z"
   },
   {
    "duration": 20,
    "start_time": "2023-11-29T13:15:47.445Z"
   },
   {
    "duration": 173,
    "start_time": "2023-11-29T13:15:47.467Z"
   },
   {
    "duration": 185,
    "start_time": "2023-11-29T13:15:47.642Z"
   },
   {
    "duration": 3,
    "start_time": "2023-11-29T13:15:47.829Z"
   },
   {
    "duration": 165,
    "start_time": "2023-11-29T13:15:47.834Z"
   },
   {
    "duration": 13,
    "start_time": "2023-11-29T13:15:48.001Z"
   },
   {
    "duration": 3499,
    "start_time": "2023-11-29T13:15:48.016Z"
   },
   {
    "duration": 310,
    "start_time": "2023-11-29T13:15:51.517Z"
   },
   {
    "duration": 267,
    "start_time": "2023-11-29T13:15:51.828Z"
   },
   {
    "duration": 786,
    "start_time": "2023-11-29T13:15:52.096Z"
   },
   {
    "duration": 1460,
    "start_time": "2023-11-29T13:16:27.147Z"
   },
   {
    "duration": 2965,
    "start_time": "2023-11-29T13:16:28.609Z"
   },
   {
    "duration": 152,
    "start_time": "2023-11-29T13:16:31.575Z"
   },
   {
    "duration": 242,
    "start_time": "2023-11-29T13:16:31.729Z"
   },
   {
    "duration": 144,
    "start_time": "2023-11-29T13:16:31.973Z"
   },
   {
    "duration": 38,
    "start_time": "2023-11-29T13:16:32.119Z"
   },
   {
    "duration": 40,
    "start_time": "2023-11-29T13:16:32.159Z"
   },
   {
    "duration": 54,
    "start_time": "2023-11-29T13:16:32.201Z"
   },
   {
    "duration": 23,
    "start_time": "2023-11-29T13:16:32.257Z"
   },
   {
    "duration": 41,
    "start_time": "2023-11-29T13:16:32.282Z"
   },
   {
    "duration": 34,
    "start_time": "2023-11-29T13:16:32.324Z"
   },
   {
    "duration": 22,
    "start_time": "2023-11-29T13:16:32.359Z"
   },
   {
    "duration": 51,
    "start_time": "2023-11-29T13:16:32.383Z"
   },
   {
    "duration": 26,
    "start_time": "2023-11-29T13:16:32.435Z"
   },
   {
    "duration": 37,
    "start_time": "2023-11-29T13:16:32.462Z"
   },
   {
    "duration": 36,
    "start_time": "2023-11-29T13:16:32.501Z"
   },
   {
    "duration": 130,
    "start_time": "2023-11-29T13:16:32.539Z"
   },
   {
    "duration": 471,
    "start_time": "2023-11-29T13:16:32.670Z"
   },
   {
    "duration": 27,
    "start_time": "2023-11-29T13:16:33.143Z"
   },
   {
    "duration": 56,
    "start_time": "2023-11-29T13:16:33.172Z"
   },
   {
    "duration": 255,
    "start_time": "2023-11-29T13:16:33.230Z"
   },
   {
    "duration": 5,
    "start_time": "2023-11-29T13:16:33.487Z"
   },
   {
    "duration": 32,
    "start_time": "2023-11-29T13:16:33.493Z"
   },
   {
    "duration": 44,
    "start_time": "2023-11-29T13:16:33.526Z"
   },
   {
    "duration": 15,
    "start_time": "2023-11-29T13:16:33.572Z"
   },
   {
    "duration": 41,
    "start_time": "2023-11-29T13:16:33.589Z"
   },
   {
    "duration": 53,
    "start_time": "2023-11-29T13:16:33.631Z"
   },
   {
    "duration": 46,
    "start_time": "2023-11-29T13:16:33.688Z"
   },
   {
    "duration": 45,
    "start_time": "2023-11-29T13:16:33.736Z"
   },
   {
    "duration": 393,
    "start_time": "2023-11-29T13:16:33.782Z"
   },
   {
    "duration": 266,
    "start_time": "2023-11-29T13:16:34.177Z"
   },
   {
    "duration": 5,
    "start_time": "2023-11-29T13:16:34.444Z"
   },
   {
    "duration": 37,
    "start_time": "2023-11-29T13:16:34.450Z"
   },
   {
    "duration": 426,
    "start_time": "2023-11-29T13:16:34.489Z"
   },
   {
    "duration": 229,
    "start_time": "2023-11-29T13:16:34.916Z"
   },
   {
    "duration": 32,
    "start_time": "2023-11-29T13:16:35.147Z"
   },
   {
    "duration": 439,
    "start_time": "2023-11-29T13:16:35.181Z"
   },
   {
    "duration": 224,
    "start_time": "2023-11-29T13:16:35.622Z"
   },
   {
    "duration": 112,
    "start_time": "2023-11-29T13:16:35.847Z"
   },
   {
    "duration": 7,
    "start_time": "2023-11-29T13:16:35.961Z"
   },
   {
    "duration": 24,
    "start_time": "2023-11-29T13:16:35.970Z"
   },
   {
    "duration": 161,
    "start_time": "2023-11-29T13:16:35.996Z"
   },
   {
    "duration": 195,
    "start_time": "2023-11-29T13:16:36.159Z"
   },
   {
    "duration": 3,
    "start_time": "2023-11-29T13:16:36.356Z"
   },
   {
    "duration": 100,
    "start_time": "2023-11-29T13:16:36.361Z"
   },
   {
    "duration": 10,
    "start_time": "2023-11-29T13:16:36.463Z"
   },
   {
    "duration": 3402,
    "start_time": "2023-11-29T13:16:36.474Z"
   },
   {
    "duration": 318,
    "start_time": "2023-11-29T13:16:39.879Z"
   },
   {
    "duration": 275,
    "start_time": "2023-11-29T13:16:40.198Z"
   },
   {
    "duration": 788,
    "start_time": "2023-11-29T13:16:40.474Z"
   },
   {
    "duration": 1497,
    "start_time": "2023-11-29T13:17:23.005Z"
   },
   {
    "duration": 2935,
    "start_time": "2023-11-29T13:17:24.504Z"
   },
   {
    "duration": 146,
    "start_time": "2023-11-29T13:17:27.441Z"
   },
   {
    "duration": 253,
    "start_time": "2023-11-29T13:17:27.589Z"
   },
   {
    "duration": 143,
    "start_time": "2023-11-29T13:17:27.844Z"
   },
   {
    "duration": 44,
    "start_time": "2023-11-29T13:17:27.988Z"
   },
   {
    "duration": 46,
    "start_time": "2023-11-29T13:17:28.034Z"
   },
   {
    "duration": 36,
    "start_time": "2023-11-29T13:17:28.082Z"
   },
   {
    "duration": 24,
    "start_time": "2023-11-29T13:17:28.120Z"
   },
   {
    "duration": 57,
    "start_time": "2023-11-29T13:17:28.147Z"
   },
   {
    "duration": 21,
    "start_time": "2023-11-29T13:17:28.205Z"
   },
   {
    "duration": 24,
    "start_time": "2023-11-29T13:17:28.227Z"
   },
   {
    "duration": 39,
    "start_time": "2023-11-29T13:17:28.253Z"
   },
   {
    "duration": 34,
    "start_time": "2023-11-29T13:17:28.294Z"
   },
   {
    "duration": 50,
    "start_time": "2023-11-29T13:17:28.329Z"
   },
   {
    "duration": 28,
    "start_time": "2023-11-29T13:17:28.380Z"
   },
   {
    "duration": 123,
    "start_time": "2023-11-29T13:17:28.410Z"
   },
   {
    "duration": 494,
    "start_time": "2023-11-29T13:17:28.535Z"
   },
   {
    "duration": 27,
    "start_time": "2023-11-29T13:17:29.031Z"
   },
   {
    "duration": 55,
    "start_time": "2023-11-29T13:17:29.060Z"
   },
   {
    "duration": 256,
    "start_time": "2023-11-29T13:17:29.116Z"
   },
   {
    "duration": 6,
    "start_time": "2023-11-29T13:17:29.374Z"
   },
   {
    "duration": 36,
    "start_time": "2023-11-29T13:17:29.382Z"
   },
   {
    "duration": 97,
    "start_time": "2023-11-29T13:17:29.420Z"
   },
   {
    "duration": 16,
    "start_time": "2023-11-29T13:17:29.519Z"
   },
   {
    "duration": 21,
    "start_time": "2023-11-29T13:17:29.536Z"
   },
   {
    "duration": 56,
    "start_time": "2023-11-29T13:17:29.559Z"
   },
   {
    "duration": 35,
    "start_time": "2023-11-29T13:17:29.621Z"
   },
   {
    "duration": 45,
    "start_time": "2023-11-29T13:17:29.658Z"
   },
   {
    "duration": 460,
    "start_time": "2023-11-29T13:17:29.704Z"
   },
   {
    "duration": 287,
    "start_time": "2023-11-29T13:17:30.166Z"
   },
   {
    "duration": 5,
    "start_time": "2023-11-29T13:17:30.454Z"
   },
   {
    "duration": 122,
    "start_time": "2023-11-29T13:17:30.460Z"
   },
   {
    "duration": 444,
    "start_time": "2023-11-29T13:17:30.584Z"
   },
   {
    "duration": 228,
    "start_time": "2023-11-29T13:17:31.030Z"
   },
   {
    "duration": 33,
    "start_time": "2023-11-29T13:17:31.260Z"
   },
   {
    "duration": 473,
    "start_time": "2023-11-29T13:17:31.295Z"
   },
   {
    "duration": 226,
    "start_time": "2023-11-29T13:17:31.769Z"
   },
   {
    "duration": 106,
    "start_time": "2023-11-29T13:17:31.997Z"
   },
   {
    "duration": 14,
    "start_time": "2023-11-29T13:17:32.104Z"
   },
   {
    "duration": 30,
    "start_time": "2023-11-29T13:17:32.120Z"
   },
   {
    "duration": 157,
    "start_time": "2023-11-29T13:17:32.152Z"
   },
   {
    "duration": 178,
    "start_time": "2023-11-29T13:17:32.314Z"
   },
   {
    "duration": 3,
    "start_time": "2023-11-29T13:17:32.494Z"
   },
   {
    "duration": 109,
    "start_time": "2023-11-29T13:17:32.499Z"
   },
   {
    "duration": 24,
    "start_time": "2023-11-29T13:17:32.610Z"
   },
   {
    "duration": 3730,
    "start_time": "2023-11-29T13:17:32.636Z"
   },
   {
    "duration": 314,
    "start_time": "2023-11-29T13:17:36.368Z"
   },
   {
    "duration": 269,
    "start_time": "2023-11-29T13:17:36.683Z"
   },
   {
    "duration": 783,
    "start_time": "2023-11-29T13:17:36.953Z"
   },
   {
    "duration": 1400,
    "start_time": "2023-11-29T13:17:55.470Z"
   },
   {
    "duration": 2985,
    "start_time": "2023-11-29T13:17:58.055Z"
   },
   {
    "duration": 138,
    "start_time": "2023-11-29T13:18:01.954Z"
   },
   {
    "duration": 238,
    "start_time": "2023-11-29T13:18:05.338Z"
   },
   {
    "duration": 135,
    "start_time": "2023-11-29T13:18:06.849Z"
   },
   {
    "duration": 37,
    "start_time": "2023-11-29T13:18:07.763Z"
   },
   {
    "duration": 21,
    "start_time": "2023-11-29T13:18:08.732Z"
   },
   {
    "duration": 37,
    "start_time": "2023-11-29T13:18:08.964Z"
   },
   {
    "duration": 23,
    "start_time": "2023-11-29T13:18:09.653Z"
   },
   {
    "duration": 40,
    "start_time": "2023-11-29T13:18:09.833Z"
   },
   {
    "duration": 19,
    "start_time": "2023-11-29T13:18:10.764Z"
   },
   {
    "duration": 21,
    "start_time": "2023-11-29T13:18:11.626Z"
   },
   {
    "duration": 54,
    "start_time": "2023-11-29T13:18:12.242Z"
   },
   {
    "duration": 21,
    "start_time": "2023-11-29T13:18:12.437Z"
   },
   {
    "duration": 35,
    "start_time": "2023-11-29T13:18:13.068Z"
   },
   {
    "duration": 24,
    "start_time": "2023-11-29T13:18:13.853Z"
   },
   {
    "duration": 121,
    "start_time": "2023-11-29T13:18:14.048Z"
   },
   {
    "duration": 473,
    "start_time": "2023-11-29T13:18:15.996Z"
   },
   {
    "duration": 27,
    "start_time": "2023-11-29T13:18:16.772Z"
   },
   {
    "duration": 41,
    "start_time": "2023-11-29T13:18:17.668Z"
   },
   {
    "duration": 253,
    "start_time": "2023-11-29T13:18:18.487Z"
   },
   {
    "duration": 6,
    "start_time": "2023-11-29T13:18:19.250Z"
   },
   {
    "duration": 19,
    "start_time": "2023-11-29T13:18:19.818Z"
   },
   {
    "duration": 48,
    "start_time": "2023-11-29T13:18:20.966Z"
   },
   {
    "duration": 18,
    "start_time": "2023-11-29T13:18:21.154Z"
   },
   {
    "duration": 21,
    "start_time": "2023-11-29T13:18:21.785Z"
   },
   {
    "duration": 48,
    "start_time": "2023-11-29T13:18:22.629Z"
   },
   {
    "duration": 37,
    "start_time": "2023-11-29T13:18:23.837Z"
   },
   {
    "duration": 47,
    "start_time": "2023-11-29T13:18:24.911Z"
   },
   {
    "duration": 339,
    "start_time": "2023-11-29T13:18:25.553Z"
   },
   {
    "duration": 226,
    "start_time": "2023-11-29T13:18:26.402Z"
   },
   {
    "duration": 4,
    "start_time": "2023-11-29T13:18:27.117Z"
   },
   {
    "duration": 37,
    "start_time": "2023-11-29T13:18:27.313Z"
   },
   {
    "duration": 397,
    "start_time": "2023-11-29T13:18:27.832Z"
   },
   {
    "duration": 238,
    "start_time": "2023-11-29T13:18:28.231Z"
   },
   {
    "duration": 34,
    "start_time": "2023-11-29T13:18:28.585Z"
   },
   {
    "duration": 433,
    "start_time": "2023-11-29T13:18:29.626Z"
   },
   {
    "duration": 229,
    "start_time": "2023-11-29T13:18:30.061Z"
   },
   {
    "duration": 99,
    "start_time": "2023-11-29T13:18:31.731Z"
   },
   {
    "duration": 8,
    "start_time": "2023-11-29T13:18:34.115Z"
   },
   {
    "duration": 20,
    "start_time": "2023-11-29T13:18:36.230Z"
   },
   {
    "duration": 150,
    "start_time": "2023-11-29T13:18:37.987Z"
   },
   {
    "duration": 188,
    "start_time": "2023-11-29T13:18:38.870Z"
   },
   {
    "duration": 3,
    "start_time": "2023-11-29T13:18:39.401Z"
   },
   {
    "duration": 84,
    "start_time": "2023-11-29T13:18:39.693Z"
   },
   {
    "duration": 11,
    "start_time": "2023-11-29T13:18:41.000Z"
   },
   {
    "duration": 3582,
    "start_time": "2023-11-29T13:18:42.128Z"
   },
   {
    "duration": 312,
    "start_time": "2023-11-29T13:18:46.852Z"
   },
   {
    "duration": 268,
    "start_time": "2023-11-29T13:18:49.515Z"
   },
   {
    "duration": 787,
    "start_time": "2023-11-29T13:18:49.785Z"
   },
   {
    "duration": 49,
    "start_time": "2023-11-29T13:20:16.417Z"
   },
   {
    "duration": 1426,
    "start_time": "2023-11-29T13:20:21.685Z"
   },
   {
    "duration": 2946,
    "start_time": "2023-11-29T13:20:23.114Z"
   },
   {
    "duration": 143,
    "start_time": "2023-11-29T13:20:26.062Z"
   },
   {
    "duration": 237,
    "start_time": "2023-11-29T13:20:26.214Z"
   },
   {
    "duration": 141,
    "start_time": "2023-11-29T13:20:26.452Z"
   },
   {
    "duration": 41,
    "start_time": "2023-11-29T13:20:26.594Z"
   },
   {
    "duration": 23,
    "start_time": "2023-11-29T13:20:26.636Z"
   },
   {
    "duration": 40,
    "start_time": "2023-11-29T13:20:26.661Z"
   },
   {
    "duration": 33,
    "start_time": "2023-11-29T13:20:26.702Z"
   },
   {
    "duration": 39,
    "start_time": "2023-11-29T13:20:26.738Z"
   },
   {
    "duration": 37,
    "start_time": "2023-11-29T13:20:26.779Z"
   },
   {
    "duration": 20,
    "start_time": "2023-11-29T13:20:26.818Z"
   },
   {
    "duration": 38,
    "start_time": "2023-11-29T13:20:26.840Z"
   },
   {
    "duration": 47,
    "start_time": "2023-11-29T13:20:26.879Z"
   },
   {
    "duration": 35,
    "start_time": "2023-11-29T13:20:26.928Z"
   },
   {
    "duration": 28,
    "start_time": "2023-11-29T13:20:26.964Z"
   },
   {
    "duration": 135,
    "start_time": "2023-11-29T13:20:26.993Z"
   },
   {
    "duration": 460,
    "start_time": "2023-11-29T13:20:27.129Z"
   },
   {
    "duration": 35,
    "start_time": "2023-11-29T13:20:27.591Z"
   },
   {
    "duration": 40,
    "start_time": "2023-11-29T13:20:27.627Z"
   },
   {
    "duration": 256,
    "start_time": "2023-11-29T13:20:27.668Z"
   },
   {
    "duration": 5,
    "start_time": "2023-11-29T13:20:27.925Z"
   },
   {
    "duration": 23,
    "start_time": "2023-11-29T13:20:27.932Z"
   },
   {
    "duration": 47,
    "start_time": "2023-11-29T13:20:27.957Z"
   },
   {
    "duration": 16,
    "start_time": "2023-11-29T13:20:28.015Z"
   },
   {
    "duration": 47,
    "start_time": "2023-11-29T13:20:28.033Z"
   },
   {
    "duration": 59,
    "start_time": "2023-11-29T13:20:28.081Z"
   },
   {
    "duration": 43,
    "start_time": "2023-11-29T13:20:28.146Z"
   },
   {
    "duration": 55,
    "start_time": "2023-11-29T13:20:28.191Z"
   },
   {
    "duration": 346,
    "start_time": "2023-11-29T13:20:28.248Z"
   },
   {
    "duration": 254,
    "start_time": "2023-11-29T13:20:28.596Z"
   },
   {
    "duration": 5,
    "start_time": "2023-11-29T13:20:28.852Z"
   },
   {
    "duration": 56,
    "start_time": "2023-11-29T13:20:28.859Z"
   },
   {
    "duration": 428,
    "start_time": "2023-11-29T13:20:28.917Z"
   },
   {
    "duration": 223,
    "start_time": "2023-11-29T13:20:29.347Z"
   },
   {
    "duration": 32,
    "start_time": "2023-11-29T13:20:29.572Z"
   },
   {
    "duration": 435,
    "start_time": "2023-11-29T13:20:29.614Z"
   },
   {
    "duration": 265,
    "start_time": "2023-11-29T13:20:30.050Z"
   },
   {
    "duration": 121,
    "start_time": "2023-11-29T13:20:30.316Z"
   },
   {
    "duration": 8,
    "start_time": "2023-11-29T13:20:30.439Z"
   },
   {
    "duration": 59,
    "start_time": "2023-11-29T13:20:30.449Z"
   },
   {
    "duration": 167,
    "start_time": "2023-11-29T13:20:30.509Z"
   },
   {
    "duration": 181,
    "start_time": "2023-11-29T13:20:30.678Z"
   },
   {
    "duration": 4,
    "start_time": "2023-11-29T13:20:30.861Z"
   },
   {
    "duration": 151,
    "start_time": "2023-11-29T13:20:30.866Z"
   },
   {
    "duration": 47,
    "start_time": "2023-11-29T13:20:31.019Z"
   },
   {
    "duration": 3591,
    "start_time": "2023-11-29T13:20:31.067Z"
   },
   {
    "duration": 329,
    "start_time": "2023-11-29T13:20:34.660Z"
   },
   {
    "duration": 273,
    "start_time": "2023-11-29T13:20:34.991Z"
   },
   {
    "duration": 771,
    "start_time": "2023-11-29T13:20:35.265Z"
   },
   {
    "duration": 47,
    "start_time": "2023-11-29T13:21:47.382Z"
   },
   {
    "duration": 1526,
    "start_time": "2023-11-30T06:23:36.295Z"
   },
   {
    "duration": 1119,
    "start_time": "2023-11-30T06:23:37.823Z"
   },
   {
    "duration": 147,
    "start_time": "2023-11-30T06:23:38.943Z"
   },
   {
    "duration": 242,
    "start_time": "2023-11-30T06:23:39.092Z"
   },
   {
    "duration": 140,
    "start_time": "2023-11-30T06:23:39.336Z"
   },
   {
    "duration": 34,
    "start_time": "2023-11-30T06:23:39.478Z"
   },
   {
    "duration": 32,
    "start_time": "2023-11-30T06:23:39.514Z"
   },
   {
    "duration": 34,
    "start_time": "2023-11-30T06:23:39.548Z"
   },
   {
    "duration": 33,
    "start_time": "2023-11-30T06:23:39.583Z"
   },
   {
    "duration": 37,
    "start_time": "2023-11-30T06:23:39.619Z"
   },
   {
    "duration": 20,
    "start_time": "2023-11-30T06:23:39.657Z"
   },
   {
    "duration": 37,
    "start_time": "2023-11-30T06:23:39.678Z"
   },
   {
    "duration": 60,
    "start_time": "2023-11-30T06:23:39.717Z"
   },
   {
    "duration": 35,
    "start_time": "2023-11-30T06:23:39.778Z"
   },
   {
    "duration": 43,
    "start_time": "2023-11-30T06:23:39.815Z"
   },
   {
    "duration": 24,
    "start_time": "2023-11-30T06:23:39.859Z"
   },
   {
    "duration": 119,
    "start_time": "2023-11-30T06:23:39.885Z"
   },
   {
    "duration": 457,
    "start_time": "2023-11-30T06:23:40.005Z"
   },
   {
    "duration": 27,
    "start_time": "2023-11-30T06:23:40.464Z"
   },
   {
    "duration": 61,
    "start_time": "2023-11-30T06:23:40.492Z"
   },
   {
    "duration": 240,
    "start_time": "2023-11-30T06:23:40.554Z"
   },
   {
    "duration": 5,
    "start_time": "2023-11-30T06:23:40.795Z"
   },
   {
    "duration": 20,
    "start_time": "2023-11-30T06:23:40.801Z"
   },
   {
    "duration": 65,
    "start_time": "2023-11-30T06:23:40.822Z"
   },
   {
    "duration": 15,
    "start_time": "2023-11-30T06:23:40.889Z"
   },
   {
    "duration": 39,
    "start_time": "2023-11-30T06:23:40.906Z"
   },
   {
    "duration": 56,
    "start_time": "2023-11-30T06:23:40.947Z"
   },
   {
    "duration": 54,
    "start_time": "2023-11-30T06:23:41.007Z"
   },
   {
    "duration": 44,
    "start_time": "2023-11-30T06:23:41.063Z"
   },
   {
    "duration": 368,
    "start_time": "2023-11-30T06:23:41.109Z"
   },
   {
    "duration": 229,
    "start_time": "2023-11-30T06:23:41.478Z"
   },
   {
    "duration": 5,
    "start_time": "2023-11-30T06:23:41.708Z"
   },
   {
    "duration": 49,
    "start_time": "2023-11-30T06:23:41.714Z"
   },
   {
    "duration": 404,
    "start_time": "2023-11-30T06:23:41.764Z"
   },
   {
    "duration": 218,
    "start_time": "2023-11-30T06:23:42.170Z"
   },
   {
    "duration": 33,
    "start_time": "2023-11-30T06:23:42.390Z"
   },
   {
    "duration": 409,
    "start_time": "2023-11-30T06:23:42.425Z"
   },
   {
    "duration": 261,
    "start_time": "2023-11-30T06:23:42.835Z"
   },
   {
    "duration": 111,
    "start_time": "2023-11-30T06:23:43.097Z"
   },
   {
    "duration": 7,
    "start_time": "2023-11-30T06:23:43.210Z"
   },
   {
    "duration": 33,
    "start_time": "2023-11-30T06:23:43.219Z"
   },
   {
    "duration": 164,
    "start_time": "2023-11-30T06:23:43.254Z"
   },
   {
    "duration": 180,
    "start_time": "2023-11-30T06:23:43.420Z"
   },
   {
    "duration": 4,
    "start_time": "2023-11-30T06:23:43.602Z"
   },
   {
    "duration": 87,
    "start_time": "2023-11-30T06:23:43.608Z"
   },
   {
    "duration": 9,
    "start_time": "2023-11-30T06:23:43.697Z"
   },
   {
    "duration": 3844,
    "start_time": "2023-11-30T06:23:43.708Z"
   },
   {
    "duration": 316,
    "start_time": "2023-11-30T06:23:47.554Z"
   },
   {
    "duration": 273,
    "start_time": "2023-11-30T06:23:47.871Z"
   },
   {
    "duration": 811,
    "start_time": "2023-11-30T06:23:48.146Z"
   },
   {
    "duration": 5,
    "start_time": "2023-11-30T06:23:48.958Z"
   },
   {
    "duration": 1159,
    "start_time": "2023-11-30T06:24:54.695Z"
   },
   {
    "duration": 3,
    "start_time": "2023-11-30T06:25:03.663Z"
   },
   {
    "duration": 4,
    "start_time": "2023-11-30T06:25:14.755Z"
   },
   {
    "duration": 3,
    "start_time": "2023-11-30T06:25:37.885Z"
   },
   {
    "duration": 160,
    "start_time": "2023-11-30T06:25:45.926Z"
   },
   {
    "duration": 4,
    "start_time": "2023-11-30T06:25:57.874Z"
   },
   {
    "duration": 3,
    "start_time": "2023-11-30T06:26:11.512Z"
   },
   {
    "duration": 1444,
    "start_time": "2023-11-30T06:27:05.534Z"
   },
   {
    "duration": 1112,
    "start_time": "2023-11-30T06:27:06.980Z"
   },
   {
    "duration": 146,
    "start_time": "2023-11-30T06:27:08.094Z"
   },
   {
    "duration": 247,
    "start_time": "2023-11-30T06:27:08.242Z"
   },
   {
    "duration": 145,
    "start_time": "2023-11-30T06:27:08.491Z"
   },
   {
    "duration": 40,
    "start_time": "2023-11-30T06:27:08.637Z"
   },
   {
    "duration": 25,
    "start_time": "2023-11-30T06:27:08.679Z"
   },
   {
    "duration": 51,
    "start_time": "2023-11-30T06:27:08.706Z"
   },
   {
    "duration": 34,
    "start_time": "2023-11-30T06:27:08.759Z"
   },
   {
    "duration": 42,
    "start_time": "2023-11-30T06:27:08.795Z"
   },
   {
    "duration": 30,
    "start_time": "2023-11-30T06:27:08.840Z"
   },
   {
    "duration": 30,
    "start_time": "2023-11-30T06:27:08.872Z"
   },
   {
    "duration": 38,
    "start_time": "2023-11-30T06:27:08.904Z"
   },
   {
    "duration": 24,
    "start_time": "2023-11-30T06:27:08.946Z"
   },
   {
    "duration": 37,
    "start_time": "2023-11-30T06:27:08.971Z"
   },
   {
    "duration": 39,
    "start_time": "2023-11-30T06:27:09.010Z"
   },
   {
    "duration": 119,
    "start_time": "2023-11-30T06:27:09.051Z"
   },
   {
    "duration": 478,
    "start_time": "2023-11-30T06:27:09.172Z"
   },
   {
    "duration": 29,
    "start_time": "2023-11-30T06:27:09.652Z"
   },
   {
    "duration": 61,
    "start_time": "2023-11-30T06:27:09.683Z"
   },
   {
    "duration": 246,
    "start_time": "2023-11-30T06:27:09.746Z"
   },
   {
    "duration": 5,
    "start_time": "2023-11-30T06:27:09.994Z"
   },
   {
    "duration": 33,
    "start_time": "2023-11-30T06:27:10.001Z"
   },
   {
    "duration": 45,
    "start_time": "2023-11-30T06:27:10.035Z"
   },
   {
    "duration": 16,
    "start_time": "2023-11-30T06:27:10.081Z"
   },
   {
    "duration": 20,
    "start_time": "2023-11-30T06:27:10.098Z"
   },
   {
    "duration": 62,
    "start_time": "2023-11-30T06:27:10.119Z"
   },
   {
    "duration": 34,
    "start_time": "2023-11-30T06:27:10.183Z"
   },
   {
    "duration": 57,
    "start_time": "2023-11-30T06:27:10.219Z"
   },
   {
    "duration": 349,
    "start_time": "2023-11-30T06:27:10.277Z"
   },
   {
    "duration": 246,
    "start_time": "2023-11-30T06:27:10.627Z"
   },
   {
    "duration": 5,
    "start_time": "2023-11-30T06:27:10.875Z"
   },
   {
    "duration": 48,
    "start_time": "2023-11-30T06:27:10.881Z"
   },
   {
    "duration": 414,
    "start_time": "2023-11-30T06:27:10.931Z"
   },
   {
    "duration": 230,
    "start_time": "2023-11-30T06:27:11.346Z"
   },
   {
    "duration": 34,
    "start_time": "2023-11-30T06:27:11.578Z"
   },
   {
    "duration": 452,
    "start_time": "2023-11-30T06:27:11.613Z"
   },
   {
    "duration": 216,
    "start_time": "2023-11-30T06:27:12.066Z"
   },
   {
    "duration": 109,
    "start_time": "2023-11-30T06:27:12.284Z"
   },
   {
    "duration": 7,
    "start_time": "2023-11-30T06:27:12.394Z"
   },
   {
    "duration": 22,
    "start_time": "2023-11-30T06:27:12.404Z"
   },
   {
    "duration": 150,
    "start_time": "2023-11-30T06:27:12.441Z"
   },
   {
    "duration": 179,
    "start_time": "2023-11-30T06:27:12.593Z"
   },
   {
    "duration": 4,
    "start_time": "2023-11-30T06:27:12.774Z"
   },
   {
    "duration": 88,
    "start_time": "2023-11-30T06:27:12.779Z"
   },
   {
    "duration": 42,
    "start_time": "2023-11-30T06:27:12.869Z"
   },
   {
    "duration": 3804,
    "start_time": "2023-11-30T06:27:12.912Z"
   },
   {
    "duration": 307,
    "start_time": "2023-11-30T06:27:16.718Z"
   },
   {
    "duration": 269,
    "start_time": "2023-11-30T06:27:17.026Z"
   },
   {
    "duration": 787,
    "start_time": "2023-11-30T06:27:17.296Z"
   },
   {
    "duration": 4,
    "start_time": "2023-11-30T06:27:18.085Z"
   },
   {
    "duration": 5,
    "start_time": "2023-11-30T06:27:18.090Z"
   },
   {
    "duration": 4,
    "start_time": "2023-11-30T06:27:18.097Z"
   },
   {
    "duration": 177,
    "start_time": "2023-11-30T06:27:18.103Z"
   },
   {
    "duration": 2,
    "start_time": "2023-11-30T06:27:18.282Z"
   },
   {
    "duration": 125,
    "start_time": "2023-11-30T06:27:25.934Z"
   },
   {
    "duration": 1318,
    "start_time": "2023-11-30T06:27:33.879Z"
   },
   {
    "duration": 1103,
    "start_time": "2023-11-30T06:27:35.199Z"
   },
   {
    "duration": 147,
    "start_time": "2023-11-30T06:27:36.303Z"
   },
   {
    "duration": 241,
    "start_time": "2023-11-30T06:27:36.452Z"
   },
   {
    "duration": 131,
    "start_time": "2023-11-30T06:27:36.694Z"
   },
   {
    "duration": 41,
    "start_time": "2023-11-30T06:27:36.827Z"
   },
   {
    "duration": 22,
    "start_time": "2023-11-30T06:27:36.869Z"
   },
   {
    "duration": 52,
    "start_time": "2023-11-30T06:27:36.892Z"
   },
   {
    "duration": 25,
    "start_time": "2023-11-30T06:27:36.946Z"
   },
   {
    "duration": 56,
    "start_time": "2023-11-30T06:27:36.974Z"
   },
   {
    "duration": 24,
    "start_time": "2023-11-30T06:27:37.032Z"
   },
   {
    "duration": 30,
    "start_time": "2023-11-30T06:27:37.057Z"
   },
   {
    "duration": 34,
    "start_time": "2023-11-30T06:27:37.089Z"
   },
   {
    "duration": 27,
    "start_time": "2023-11-30T06:27:37.124Z"
   },
   {
    "duration": 33,
    "start_time": "2023-11-30T06:27:37.152Z"
   },
   {
    "duration": 23,
    "start_time": "2023-11-30T06:27:37.186Z"
   },
   {
    "duration": 116,
    "start_time": "2023-11-30T06:27:37.210Z"
   },
   {
    "duration": 458,
    "start_time": "2023-11-30T06:27:37.328Z"
   },
   {
    "duration": 27,
    "start_time": "2023-11-30T06:27:37.788Z"
   },
   {
    "duration": 61,
    "start_time": "2023-11-30T06:27:37.816Z"
   },
   {
    "duration": 240,
    "start_time": "2023-11-30T06:27:37.879Z"
   },
   {
    "duration": 5,
    "start_time": "2023-11-30T06:27:38.121Z"
   },
   {
    "duration": 30,
    "start_time": "2023-11-30T06:27:38.127Z"
   },
   {
    "duration": 44,
    "start_time": "2023-11-30T06:27:38.159Z"
   },
   {
    "duration": 17,
    "start_time": "2023-11-30T06:27:38.205Z"
   },
   {
    "duration": 23,
    "start_time": "2023-11-30T06:27:38.243Z"
   },
   {
    "duration": 45,
    "start_time": "2023-11-30T06:27:38.268Z"
   },
   {
    "duration": 53,
    "start_time": "2023-11-30T06:27:38.316Z"
   },
   {
    "duration": 46,
    "start_time": "2023-11-30T06:27:38.370Z"
   },
   {
    "duration": 368,
    "start_time": "2023-11-30T06:27:38.418Z"
   },
   {
    "duration": 231,
    "start_time": "2023-11-30T06:27:38.787Z"
   },
   {
    "duration": 4,
    "start_time": "2023-11-30T06:27:39.020Z"
   },
   {
    "duration": 51,
    "start_time": "2023-11-30T06:27:39.026Z"
   },
   {
    "duration": 393,
    "start_time": "2023-11-30T06:27:39.078Z"
   },
   {
    "duration": 223,
    "start_time": "2023-11-30T06:27:39.472Z"
   },
   {
    "duration": 31,
    "start_time": "2023-11-30T06:27:39.697Z"
   },
   {
    "duration": 410,
    "start_time": "2023-11-30T06:27:39.729Z"
   },
   {
    "duration": 231,
    "start_time": "2023-11-30T06:27:40.141Z"
   },
   {
    "duration": 108,
    "start_time": "2023-11-30T06:27:40.374Z"
   },
   {
    "duration": 7,
    "start_time": "2023-11-30T06:27:40.483Z"
   },
   {
    "duration": 20,
    "start_time": "2023-11-30T06:27:40.492Z"
   },
   {
    "duration": 156,
    "start_time": "2023-11-30T06:27:40.513Z"
   },
   {
    "duration": 185,
    "start_time": "2023-11-30T06:27:40.671Z"
   },
   {
    "duration": 3,
    "start_time": "2023-11-30T06:27:40.858Z"
   },
   {
    "duration": 92,
    "start_time": "2023-11-30T06:27:40.863Z"
   },
   {
    "duration": 10,
    "start_time": "2023-11-30T06:27:40.957Z"
   },
   {
    "duration": 3599,
    "start_time": "2023-11-30T06:27:40.968Z"
   },
   {
    "duration": 298,
    "start_time": "2023-11-30T06:27:44.569Z"
   },
   {
    "duration": 264,
    "start_time": "2023-11-30T06:27:44.869Z"
   },
   {
    "duration": 827,
    "start_time": "2023-11-30T06:27:45.135Z"
   },
   {
    "duration": 3,
    "start_time": "2023-11-30T06:27:45.964Z"
   },
   {
    "duration": 18,
    "start_time": "2023-11-30T06:27:45.969Z"
   },
   {
    "duration": 3,
    "start_time": "2023-11-30T06:27:45.989Z"
   },
   {
    "duration": 165,
    "start_time": "2023-11-30T06:27:45.993Z"
   },
   {
    "duration": 2,
    "start_time": "2023-11-30T06:27:46.160Z"
   },
   {
    "duration": 118,
    "start_time": "2023-11-30T06:27:53.248Z"
   },
   {
    "duration": 1330,
    "start_time": "2023-11-30T06:43:35.798Z"
   },
   {
    "duration": 1093,
    "start_time": "2023-11-30T06:43:37.130Z"
   },
   {
    "duration": 147,
    "start_time": "2023-11-30T06:43:38.224Z"
   },
   {
    "duration": 248,
    "start_time": "2023-11-30T06:43:38.373Z"
   },
   {
    "duration": 132,
    "start_time": "2023-11-30T06:43:38.622Z"
   },
   {
    "duration": 35,
    "start_time": "2023-11-30T06:43:38.756Z"
   },
   {
    "duration": 24,
    "start_time": "2023-11-30T06:43:38.792Z"
   },
   {
    "duration": 43,
    "start_time": "2023-11-30T06:43:38.818Z"
   },
   {
    "duration": 31,
    "start_time": "2023-11-30T06:43:38.863Z"
   },
   {
    "duration": 47,
    "start_time": "2023-11-30T06:43:38.896Z"
   },
   {
    "duration": 19,
    "start_time": "2023-11-30T06:43:38.944Z"
   },
   {
    "duration": 23,
    "start_time": "2023-11-30T06:43:38.964Z"
   },
   {
    "duration": 38,
    "start_time": "2023-11-30T06:43:38.988Z"
   },
   {
    "duration": 22,
    "start_time": "2023-11-30T06:43:39.043Z"
   },
   {
    "duration": 35,
    "start_time": "2023-11-30T06:43:39.066Z"
   },
   {
    "duration": 44,
    "start_time": "2023-11-30T06:43:39.102Z"
   },
   {
    "duration": 111,
    "start_time": "2023-11-30T06:43:39.147Z"
   },
   {
    "duration": 441,
    "start_time": "2023-11-30T06:43:39.260Z"
   },
   {
    "duration": 27,
    "start_time": "2023-11-30T06:43:39.703Z"
   },
   {
    "duration": 51,
    "start_time": "2023-11-30T06:43:39.731Z"
   },
   {
    "duration": 236,
    "start_time": "2023-11-30T06:43:39.784Z"
   },
   {
    "duration": 4,
    "start_time": "2023-11-30T06:43:40.022Z"
   },
   {
    "duration": 46,
    "start_time": "2023-11-30T06:43:40.027Z"
   },
   {
    "duration": 43,
    "start_time": "2023-11-30T06:43:40.075Z"
   },
   {
    "duration": 15,
    "start_time": "2023-11-30T06:43:40.120Z"
   },
   {
    "duration": 26,
    "start_time": "2023-11-30T06:43:40.137Z"
   },
   {
    "duration": 47,
    "start_time": "2023-11-30T06:43:40.165Z"
   },
   {
    "duration": 46,
    "start_time": "2023-11-30T06:43:40.216Z"
   },
   {
    "duration": 44,
    "start_time": "2023-11-30T06:43:40.264Z"
   },
   {
    "duration": 357,
    "start_time": "2023-11-30T06:43:40.310Z"
   },
   {
    "duration": 247,
    "start_time": "2023-11-30T06:43:40.669Z"
   },
   {
    "duration": 5,
    "start_time": "2023-11-30T06:43:40.918Z"
   },
   {
    "duration": 59,
    "start_time": "2023-11-30T06:43:40.924Z"
   },
   {
    "duration": 399,
    "start_time": "2023-11-30T06:43:40.985Z"
   },
   {
    "duration": 218,
    "start_time": "2023-11-30T06:43:41.386Z"
   },
   {
    "duration": 40,
    "start_time": "2023-11-30T06:43:41.606Z"
   },
   {
    "duration": 451,
    "start_time": "2023-11-30T06:43:41.648Z"
   },
   {
    "duration": 229,
    "start_time": "2023-11-30T06:43:42.101Z"
   },
   {
    "duration": 99,
    "start_time": "2023-11-30T06:43:42.332Z"
   },
   {
    "duration": 7,
    "start_time": "2023-11-30T06:43:42.441Z"
   },
   {
    "duration": 30,
    "start_time": "2023-11-30T06:43:42.450Z"
   },
   {
    "duration": 128,
    "start_time": "2023-11-30T06:43:42.481Z"
   },
   {
    "duration": 154,
    "start_time": "2023-11-30T06:43:42.610Z"
   },
   {
    "duration": 3,
    "start_time": "2023-11-30T06:43:42.766Z"
   },
   {
    "duration": 81,
    "start_time": "2023-11-30T06:43:42.771Z"
   },
   {
    "duration": 19,
    "start_time": "2023-11-30T06:43:42.853Z"
   },
   {
    "duration": 105,
    "start_time": "2023-11-30T06:43:42.874Z"
   },
   {
    "duration": 0,
    "start_time": "2023-11-30T06:43:42.981Z"
   },
   {
    "duration": 0,
    "start_time": "2023-11-30T06:43:42.982Z"
   },
   {
    "duration": 0,
    "start_time": "2023-11-30T06:43:42.983Z"
   },
   {
    "duration": 0,
    "start_time": "2023-11-30T06:43:42.984Z"
   },
   {
    "duration": 0,
    "start_time": "2023-11-30T06:43:42.985Z"
   },
   {
    "duration": 0,
    "start_time": "2023-11-30T06:43:42.986Z"
   },
   {
    "duration": 0,
    "start_time": "2023-11-30T06:43:42.987Z"
   },
   {
    "duration": 0,
    "start_time": "2023-11-30T06:43:42.988Z"
   },
   {
    "duration": 0,
    "start_time": "2023-11-30T06:43:42.989Z"
   },
   {
    "duration": 3,
    "start_time": "2023-11-30T06:44:13.433Z"
   },
   {
    "duration": 869,
    "start_time": "2023-11-30T06:44:13.447Z"
   },
   {
    "duration": 168,
    "start_time": "2023-11-30T06:44:14.317Z"
   },
   {
    "duration": 177,
    "start_time": "2023-11-30T06:44:14.486Z"
   },
   {
    "duration": 125,
    "start_time": "2023-11-30T06:44:14.665Z"
   },
   {
    "duration": 37,
    "start_time": "2023-11-30T06:44:14.792Z"
   },
   {
    "duration": 31,
    "start_time": "2023-11-30T06:44:14.830Z"
   },
   {
    "duration": 36,
    "start_time": "2023-11-30T06:44:14.862Z"
   },
   {
    "duration": 25,
    "start_time": "2023-11-30T06:44:14.899Z"
   },
   {
    "duration": 51,
    "start_time": "2023-11-30T06:44:14.925Z"
   },
   {
    "duration": 19,
    "start_time": "2023-11-30T06:44:14.978Z"
   },
   {
    "duration": 21,
    "start_time": "2023-11-30T06:44:14.998Z"
   },
   {
    "duration": 68,
    "start_time": "2023-11-30T06:44:15.020Z"
   },
   {
    "duration": 25,
    "start_time": "2023-11-30T06:44:15.090Z"
   },
   {
    "duration": 36,
    "start_time": "2023-11-30T06:44:15.118Z"
   },
   {
    "duration": 30,
    "start_time": "2023-11-30T06:44:15.156Z"
   },
   {
    "duration": 143,
    "start_time": "2023-11-30T06:44:15.187Z"
   },
   {
    "duration": 457,
    "start_time": "2023-11-30T06:44:15.331Z"
   },
   {
    "duration": 26,
    "start_time": "2023-11-30T06:44:15.789Z"
   },
   {
    "duration": 58,
    "start_time": "2023-11-30T06:44:15.817Z"
   },
   {
    "duration": 229,
    "start_time": "2023-11-30T06:44:15.877Z"
   },
   {
    "duration": 4,
    "start_time": "2023-11-30T06:44:16.107Z"
   },
   {
    "duration": 36,
    "start_time": "2023-11-30T06:44:16.112Z"
   },
   {
    "duration": 31,
    "start_time": "2023-11-30T06:44:16.149Z"
   },
   {
    "duration": 16,
    "start_time": "2023-11-30T06:44:16.181Z"
   },
   {
    "duration": 21,
    "start_time": "2023-11-30T06:44:16.198Z"
   },
   {
    "duration": 62,
    "start_time": "2023-11-30T06:44:16.220Z"
   },
   {
    "duration": 32,
    "start_time": "2023-11-30T06:44:16.284Z"
   },
   {
    "duration": 46,
    "start_time": "2023-11-30T06:44:16.317Z"
   },
   {
    "duration": 338,
    "start_time": "2023-11-30T06:44:16.364Z"
   },
   {
    "duration": 224,
    "start_time": "2023-11-30T06:44:16.704Z"
   },
   {
    "duration": 14,
    "start_time": "2023-11-30T06:44:16.929Z"
   },
   {
    "duration": 39,
    "start_time": "2023-11-30T06:44:16.945Z"
   },
   {
    "duration": 324,
    "start_time": "2023-11-30T06:44:16.986Z"
   },
   {
    "duration": 223,
    "start_time": "2023-11-30T06:44:17.312Z"
   },
   {
    "duration": 45,
    "start_time": "2023-11-30T06:44:17.536Z"
   },
   {
    "duration": 447,
    "start_time": "2023-11-30T06:44:17.582Z"
   },
   {
    "duration": 304,
    "start_time": "2023-11-30T06:44:18.031Z"
   },
   {
    "duration": 88,
    "start_time": "2023-11-30T06:44:18.337Z"
   },
   {
    "duration": 16,
    "start_time": "2023-11-30T06:44:18.427Z"
   },
   {
    "duration": 17,
    "start_time": "2023-11-30T06:44:18.445Z"
   },
   {
    "duration": 140,
    "start_time": "2023-11-30T06:44:18.467Z"
   },
   {
    "duration": 141,
    "start_time": "2023-11-30T06:44:18.609Z"
   },
   {
    "duration": 4,
    "start_time": "2023-11-30T06:44:18.752Z"
   },
   {
    "duration": 62,
    "start_time": "2023-11-30T06:44:18.757Z"
   },
   {
    "duration": 24,
    "start_time": "2023-11-30T06:44:18.820Z"
   },
   {
    "duration": 814,
    "start_time": "2023-11-30T06:44:18.845Z"
   },
   {
    "duration": 16,
    "start_time": "2023-11-30T06:44:19.660Z"
   },
   {
    "duration": 0,
    "start_time": "2023-11-30T06:44:19.677Z"
   },
   {
    "duration": 0,
    "start_time": "2023-11-30T06:44:19.679Z"
   },
   {
    "duration": 0,
    "start_time": "2023-11-30T06:44:19.680Z"
   },
   {
    "duration": 0,
    "start_time": "2023-11-30T06:44:19.681Z"
   },
   {
    "duration": 0,
    "start_time": "2023-11-30T06:44:19.682Z"
   },
   {
    "duration": 0,
    "start_time": "2023-11-30T06:44:19.683Z"
   },
   {
    "duration": 0,
    "start_time": "2023-11-30T06:44:19.684Z"
   },
   {
    "duration": 0,
    "start_time": "2023-11-30T06:44:19.686Z"
   },
   {
    "duration": 3,
    "start_time": "2023-11-30T06:45:13.962Z"
   },
   {
    "duration": 788,
    "start_time": "2023-11-30T06:45:13.975Z"
   },
   {
    "duration": 142,
    "start_time": "2023-11-30T06:45:14.766Z"
   },
   {
    "duration": 191,
    "start_time": "2023-11-30T06:45:14.910Z"
   },
   {
    "duration": 132,
    "start_time": "2023-11-30T06:45:15.102Z"
   },
   {
    "duration": 39,
    "start_time": "2023-11-30T06:45:15.236Z"
   },
   {
    "duration": 21,
    "start_time": "2023-11-30T06:45:15.277Z"
   },
   {
    "duration": 49,
    "start_time": "2023-11-30T06:45:15.300Z"
   },
   {
    "duration": 23,
    "start_time": "2023-11-30T06:45:15.351Z"
   },
   {
    "duration": 38,
    "start_time": "2023-11-30T06:45:15.376Z"
   },
   {
    "duration": 35,
    "start_time": "2023-11-30T06:45:15.415Z"
   },
   {
    "duration": 28,
    "start_time": "2023-11-30T06:45:15.451Z"
   },
   {
    "duration": 44,
    "start_time": "2023-11-30T06:45:15.481Z"
   },
   {
    "duration": 35,
    "start_time": "2023-11-30T06:45:15.527Z"
   },
   {
    "duration": 34,
    "start_time": "2023-11-30T06:45:15.565Z"
   },
   {
    "duration": 41,
    "start_time": "2023-11-30T06:45:15.601Z"
   },
   {
    "duration": 120,
    "start_time": "2023-11-30T06:45:15.644Z"
   },
   {
    "duration": 440,
    "start_time": "2023-11-30T06:45:15.766Z"
   },
   {
    "duration": 35,
    "start_time": "2023-11-30T06:45:16.208Z"
   },
   {
    "duration": 31,
    "start_time": "2023-11-30T06:45:16.245Z"
   },
   {
    "duration": 243,
    "start_time": "2023-11-30T06:45:16.278Z"
   },
   {
    "duration": 5,
    "start_time": "2023-11-30T06:45:16.523Z"
   },
   {
    "duration": 34,
    "start_time": "2023-11-30T06:45:16.529Z"
   },
   {
    "duration": 32,
    "start_time": "2023-11-30T06:45:16.565Z"
   },
   {
    "duration": 16,
    "start_time": "2023-11-30T06:45:16.599Z"
   },
   {
    "duration": 46,
    "start_time": "2023-11-30T06:45:16.616Z"
   },
   {
    "duration": 33,
    "start_time": "2023-11-30T06:45:16.663Z"
   },
   {
    "duration": 50,
    "start_time": "2023-11-30T06:45:16.697Z"
   },
   {
    "duration": 31,
    "start_time": "2023-11-30T06:45:16.749Z"
   },
   {
    "duration": 343,
    "start_time": "2023-11-30T06:45:16.782Z"
   },
   {
    "duration": 246,
    "start_time": "2023-11-30T06:45:17.126Z"
   },
   {
    "duration": 5,
    "start_time": "2023-11-30T06:45:17.373Z"
   },
   {
    "duration": 33,
    "start_time": "2023-11-30T06:45:17.379Z"
   },
   {
    "duration": 396,
    "start_time": "2023-11-30T06:45:17.415Z"
   },
   {
    "duration": 222,
    "start_time": "2023-11-30T06:45:17.814Z"
   },
   {
    "duration": 46,
    "start_time": "2023-11-30T06:45:18.037Z"
   },
   {
    "duration": 429,
    "start_time": "2023-11-30T06:45:18.084Z"
   },
   {
    "duration": 211,
    "start_time": "2023-11-30T06:45:18.515Z"
   },
   {
    "duration": 97,
    "start_time": "2023-11-30T06:45:18.727Z"
   },
   {
    "duration": 18,
    "start_time": "2023-11-30T06:45:18.825Z"
   },
   {
    "duration": 17,
    "start_time": "2023-11-30T06:45:18.844Z"
   },
   {
    "duration": 131,
    "start_time": "2023-11-30T06:45:18.866Z"
   },
   {
    "duration": 175,
    "start_time": "2023-11-30T06:45:18.999Z"
   },
   {
    "duration": 4,
    "start_time": "2023-11-30T06:45:19.175Z"
   },
   {
    "duration": 81,
    "start_time": "2023-11-30T06:45:19.181Z"
   },
   {
    "duration": 11,
    "start_time": "2023-11-30T06:45:19.264Z"
   },
   {
    "duration": 851,
    "start_time": "2023-11-30T06:45:19.277Z"
   },
   {
    "duration": 97,
    "start_time": "2023-11-30T06:45:20.129Z"
   },
   {
    "duration": 55,
    "start_time": "2023-11-30T06:45:20.228Z"
   },
   {
    "duration": 193,
    "start_time": "2023-11-30T06:45:20.285Z"
   },
   {
    "duration": 4,
    "start_time": "2023-11-30T06:45:20.480Z"
   },
   {
    "duration": 3,
    "start_time": "2023-11-30T06:45:20.486Z"
   },
   {
    "duration": 12,
    "start_time": "2023-11-30T06:45:20.490Z"
   },
   {
    "duration": 89,
    "start_time": "2023-11-30T06:45:20.504Z"
   },
   {
    "duration": 2,
    "start_time": "2023-11-30T06:45:20.595Z"
   },
   {
    "duration": 4398,
    "start_time": "2023-11-30T06:45:20.599Z"
   },
   {
    "duration": 59,
    "start_time": "2023-11-30T06:46:04.884Z"
   },
   {
    "duration": 5,
    "start_time": "2023-11-30T06:46:08.125Z"
   },
   {
    "duration": 3102,
    "start_time": "2023-11-30T06:46:14.641Z"
   },
   {
    "duration": 193,
    "start_time": "2023-11-30T06:46:26.258Z"
   },
   {
    "duration": 5,
    "start_time": "2023-11-30T06:46:27.216Z"
   },
   {
    "duration": 15,
    "start_time": "2023-11-30T06:48:05.487Z"
   },
   {
    "duration": 3,
    "start_time": "2023-11-30T06:48:39.385Z"
   },
   {
    "duration": 886,
    "start_time": "2023-11-30T06:48:39.396Z"
   },
   {
    "duration": 143,
    "start_time": "2023-11-30T06:48:40.284Z"
   },
   {
    "duration": 185,
    "start_time": "2023-11-30T06:48:40.428Z"
   },
   {
    "duration": 121,
    "start_time": "2023-11-30T06:48:40.614Z"
   },
   {
    "duration": 36,
    "start_time": "2023-11-30T06:48:40.737Z"
   },
   {
    "duration": 33,
    "start_time": "2023-11-30T06:48:40.775Z"
   },
   {
    "duration": 46,
    "start_time": "2023-11-30T06:48:40.810Z"
   },
   {
    "duration": 45,
    "start_time": "2023-11-30T06:48:40.857Z"
   },
   {
    "duration": 50,
    "start_time": "2023-11-30T06:48:40.904Z"
   },
   {
    "duration": 39,
    "start_time": "2023-11-30T06:48:40.955Z"
   },
   {
    "duration": 71,
    "start_time": "2023-11-30T06:48:40.996Z"
   },
   {
    "duration": 67,
    "start_time": "2023-11-30T06:48:41.069Z"
   },
   {
    "duration": 47,
    "start_time": "2023-11-30T06:48:41.138Z"
   },
   {
    "duration": 56,
    "start_time": "2023-11-30T06:48:41.188Z"
   },
   {
    "duration": 44,
    "start_time": "2023-11-30T06:48:41.245Z"
   },
   {
    "duration": 128,
    "start_time": "2023-11-30T06:48:41.291Z"
   },
   {
    "duration": 473,
    "start_time": "2023-11-30T06:48:41.421Z"
   },
   {
    "duration": 24,
    "start_time": "2023-11-30T06:48:41.895Z"
   },
   {
    "duration": 52,
    "start_time": "2023-11-30T06:48:41.921Z"
   },
   {
    "duration": 228,
    "start_time": "2023-11-30T06:48:41.975Z"
   },
   {
    "duration": 5,
    "start_time": "2023-11-30T06:48:42.204Z"
   },
   {
    "duration": 33,
    "start_time": "2023-11-30T06:48:42.210Z"
   },
   {
    "duration": 39,
    "start_time": "2023-11-30T06:48:42.245Z"
   },
   {
    "duration": 16,
    "start_time": "2023-11-30T06:48:42.286Z"
   },
   {
    "duration": 39,
    "start_time": "2023-11-30T06:48:42.304Z"
   },
   {
    "duration": 40,
    "start_time": "2023-11-30T06:48:42.345Z"
   },
   {
    "duration": 33,
    "start_time": "2023-11-30T06:48:42.386Z"
   },
   {
    "duration": 49,
    "start_time": "2023-11-30T06:48:42.420Z"
   },
   {
    "duration": 351,
    "start_time": "2023-11-30T06:48:42.470Z"
   },
   {
    "duration": 360,
    "start_time": "2023-11-30T06:48:42.823Z"
   },
   {
    "duration": 5,
    "start_time": "2023-11-30T06:48:43.184Z"
   },
   {
    "duration": 33,
    "start_time": "2023-11-30T06:48:43.191Z"
   },
   {
    "duration": 340,
    "start_time": "2023-11-30T06:48:43.225Z"
   },
   {
    "duration": 229,
    "start_time": "2023-11-30T06:48:43.567Z"
   },
   {
    "duration": 30,
    "start_time": "2023-11-30T06:48:43.798Z"
   },
   {
    "duration": 428,
    "start_time": "2023-11-30T06:48:43.830Z"
   },
   {
    "duration": 227,
    "start_time": "2023-11-30T06:48:44.261Z"
   },
   {
    "duration": 106,
    "start_time": "2023-11-30T06:48:44.489Z"
   },
   {
    "duration": 7,
    "start_time": "2023-11-30T06:48:44.597Z"
   },
   {
    "duration": 18,
    "start_time": "2023-11-30T06:48:44.605Z"
   },
   {
    "duration": 121,
    "start_time": "2023-11-30T06:48:44.642Z"
   },
   {
    "duration": 146,
    "start_time": "2023-11-30T06:48:44.764Z"
   },
   {
    "duration": 3,
    "start_time": "2023-11-30T06:48:44.912Z"
   },
   {
    "duration": 74,
    "start_time": "2023-11-30T06:48:44.917Z"
   },
   {
    "duration": 9,
    "start_time": "2023-11-30T06:48:44.993Z"
   },
   {
    "duration": 3626,
    "start_time": "2023-11-30T06:48:45.003Z"
   },
   {
    "duration": 282,
    "start_time": "2023-11-30T06:48:48.631Z"
   },
   {
    "duration": 1466,
    "start_time": "2023-11-30T06:50:38.357Z"
   },
   {
    "duration": 1247,
    "start_time": "2023-11-30T06:50:39.825Z"
   },
   {
    "duration": 179,
    "start_time": "2023-11-30T06:50:41.073Z"
   },
   {
    "duration": 246,
    "start_time": "2023-11-30T06:50:41.255Z"
   },
   {
    "duration": 156,
    "start_time": "2023-11-30T06:50:41.502Z"
   },
   {
    "duration": 43,
    "start_time": "2023-11-30T06:50:41.661Z"
   },
   {
    "duration": 32,
    "start_time": "2023-11-30T06:50:41.706Z"
   },
   {
    "duration": 64,
    "start_time": "2023-11-30T06:50:41.741Z"
   },
   {
    "duration": 34,
    "start_time": "2023-11-30T06:50:41.806Z"
   },
   {
    "duration": 61,
    "start_time": "2023-11-30T06:50:41.843Z"
   },
   {
    "duration": 22,
    "start_time": "2023-11-30T06:50:41.906Z"
   },
   {
    "duration": 36,
    "start_time": "2023-11-30T06:50:41.929Z"
   },
   {
    "duration": 52,
    "start_time": "2023-11-30T06:50:41.967Z"
   },
   {
    "duration": 62,
    "start_time": "2023-11-30T06:50:42.021Z"
   },
   {
    "duration": 49,
    "start_time": "2023-11-30T06:50:42.084Z"
   },
   {
    "duration": 45,
    "start_time": "2023-11-30T06:50:42.134Z"
   },
   {
    "duration": 129,
    "start_time": "2023-11-30T06:50:42.181Z"
   },
   {
    "duration": 478,
    "start_time": "2023-11-30T06:50:42.312Z"
   },
   {
    "duration": 27,
    "start_time": "2023-11-30T06:50:42.791Z"
   },
   {
    "duration": 64,
    "start_time": "2023-11-30T06:50:42.820Z"
   },
   {
    "duration": 274,
    "start_time": "2023-11-30T06:50:42.886Z"
   },
   {
    "duration": 5,
    "start_time": "2023-11-30T06:50:43.162Z"
   },
   {
    "duration": 38,
    "start_time": "2023-11-30T06:50:43.169Z"
   },
   {
    "duration": 46,
    "start_time": "2023-11-30T06:50:43.209Z"
   },
   {
    "duration": 16,
    "start_time": "2023-11-30T06:50:43.256Z"
   },
   {
    "duration": 39,
    "start_time": "2023-11-30T06:50:43.274Z"
   },
   {
    "duration": 63,
    "start_time": "2023-11-30T06:50:43.314Z"
   },
   {
    "duration": 38,
    "start_time": "2023-11-30T06:50:43.382Z"
   },
   {
    "duration": 76,
    "start_time": "2023-11-30T06:50:43.421Z"
   },
   {
    "duration": 361,
    "start_time": "2023-11-30T06:50:43.498Z"
   },
   {
    "duration": 257,
    "start_time": "2023-11-30T06:50:43.861Z"
   },
   {
    "duration": 4,
    "start_time": "2023-11-30T06:50:44.120Z"
   },
   {
    "duration": 55,
    "start_time": "2023-11-30T06:50:44.126Z"
   },
   {
    "duration": 431,
    "start_time": "2023-11-30T06:50:44.182Z"
   },
   {
    "duration": 242,
    "start_time": "2023-11-30T06:50:44.615Z"
   },
   {
    "duration": 37,
    "start_time": "2023-11-30T06:50:44.858Z"
   },
   {
    "duration": 482,
    "start_time": "2023-11-30T06:50:44.896Z"
   },
   {
    "duration": 262,
    "start_time": "2023-11-30T06:50:45.380Z"
   },
   {
    "duration": 136,
    "start_time": "2023-11-30T06:50:45.644Z"
   },
   {
    "duration": 11,
    "start_time": "2023-11-30T06:50:45.782Z"
   },
   {
    "duration": 27,
    "start_time": "2023-11-30T06:50:45.795Z"
   },
   {
    "duration": 156,
    "start_time": "2023-11-30T06:50:45.823Z"
   },
   {
    "duration": 188,
    "start_time": "2023-11-30T06:50:45.981Z"
   },
   {
    "duration": 8,
    "start_time": "2023-11-30T06:50:46.172Z"
   },
   {
    "duration": 114,
    "start_time": "2023-11-30T06:50:46.182Z"
   },
   {
    "duration": 9,
    "start_time": "2023-11-30T06:50:46.299Z"
   },
   {
    "duration": 949,
    "start_time": "2023-11-30T06:50:46.310Z"
   },
   {
    "duration": 100,
    "start_time": "2023-11-30T06:50:47.261Z"
   },
   {
    "duration": 61,
    "start_time": "2023-11-30T06:50:47.363Z"
   },
   {
    "duration": 252,
    "start_time": "2023-11-30T06:50:47.426Z"
   },
   {
    "duration": 4,
    "start_time": "2023-11-30T06:50:47.679Z"
   },
   {
    "duration": 96,
    "start_time": "2023-11-30T06:50:47.685Z"
   },
   {
    "duration": 4,
    "start_time": "2023-11-30T06:50:47.783Z"
   },
   {
    "duration": 5023,
    "start_time": "2023-11-30T06:50:47.788Z"
   },
   {
    "duration": 70,
    "start_time": "2023-11-30T06:50:52.813Z"
   },
   {
    "duration": 6,
    "start_time": "2023-11-30T06:50:52.885Z"
   },
   {
    "duration": 17363,
    "start_time": "2023-11-30T06:50:52.892Z"
   },
   {
    "duration": 297,
    "start_time": "2023-11-30T06:51:10.256Z"
   },
   {
    "duration": 6,
    "start_time": "2023-11-30T06:51:10.554Z"
   },
   {
    "duration": 126,
    "start_time": "2023-11-30T06:51:10.561Z"
   },
   {
    "duration": 254,
    "start_time": "2023-11-30T06:51:10.689Z"
   },
   {
    "duration": 73,
    "start_time": "2023-11-30T06:58:32.671Z"
   },
   {
    "duration": 1547,
    "start_time": "2023-11-30T07:00:47.050Z"
   },
   {
    "duration": 921,
    "start_time": "2023-11-30T07:00:48.599Z"
   },
   {
    "duration": 153,
    "start_time": "2023-11-30T07:00:49.522Z"
   },
   {
    "duration": 270,
    "start_time": "2023-11-30T07:00:49.678Z"
   },
   {
    "duration": 138,
    "start_time": "2023-11-30T07:00:49.950Z"
   },
   {
    "duration": 36,
    "start_time": "2023-11-30T07:00:50.090Z"
   },
   {
    "duration": 29,
    "start_time": "2023-11-30T07:00:50.128Z"
   },
   {
    "duration": 43,
    "start_time": "2023-11-30T07:00:50.159Z"
   },
   {
    "duration": 45,
    "start_time": "2023-11-30T07:00:50.204Z"
   },
   {
    "duration": 49,
    "start_time": "2023-11-30T07:00:50.252Z"
   },
   {
    "duration": 29,
    "start_time": "2023-11-30T07:00:50.303Z"
   },
   {
    "duration": 54,
    "start_time": "2023-11-30T07:00:50.334Z"
   },
   {
    "duration": 40,
    "start_time": "2023-11-30T07:00:50.390Z"
   },
   {
    "duration": 37,
    "start_time": "2023-11-30T07:00:50.431Z"
   },
   {
    "duration": 61,
    "start_time": "2023-11-30T07:00:50.470Z"
   },
   {
    "duration": 35,
    "start_time": "2023-11-30T07:00:50.533Z"
   },
   {
    "duration": 126,
    "start_time": "2023-11-30T07:00:50.569Z"
   },
   {
    "duration": 497,
    "start_time": "2023-11-30T07:00:50.697Z"
   },
   {
    "duration": 34,
    "start_time": "2023-11-30T07:00:51.196Z"
   },
   {
    "duration": 53,
    "start_time": "2023-11-30T07:00:51.232Z"
   },
   {
    "duration": 264,
    "start_time": "2023-11-30T07:00:51.287Z"
   },
   {
    "duration": 5,
    "start_time": "2023-11-30T07:00:51.553Z"
   },
   {
    "duration": 27,
    "start_time": "2023-11-30T07:00:51.559Z"
   },
   {
    "duration": 67,
    "start_time": "2023-11-30T07:00:51.588Z"
   },
   {
    "duration": 17,
    "start_time": "2023-11-30T07:00:51.657Z"
   },
   {
    "duration": 23,
    "start_time": "2023-11-30T07:00:51.675Z"
   },
   {
    "duration": 77,
    "start_time": "2023-11-30T07:00:51.700Z"
   },
   {
    "duration": 37,
    "start_time": "2023-11-30T07:00:51.782Z"
   },
   {
    "duration": 60,
    "start_time": "2023-11-30T07:00:51.821Z"
   },
   {
    "duration": 374,
    "start_time": "2023-11-30T07:00:51.883Z"
   },
   {
    "duration": 255,
    "start_time": "2023-11-30T07:00:52.260Z"
   },
   {
    "duration": 5,
    "start_time": "2023-11-30T07:00:52.517Z"
   },
   {
    "duration": 58,
    "start_time": "2023-11-30T07:00:52.524Z"
   },
   {
    "duration": 451,
    "start_time": "2023-11-30T07:00:52.583Z"
   },
   {
    "duration": 258,
    "start_time": "2023-11-30T07:00:53.035Z"
   },
   {
    "duration": 33,
    "start_time": "2023-11-30T07:00:53.295Z"
   },
   {
    "duration": 422,
    "start_time": "2023-11-30T07:00:53.330Z"
   },
   {
    "duration": 239,
    "start_time": "2023-11-30T07:00:53.754Z"
   },
   {
    "duration": 111,
    "start_time": "2023-11-30T07:00:53.994Z"
   },
   {
    "duration": 6,
    "start_time": "2023-11-30T07:00:54.106Z"
   },
   {
    "duration": 31,
    "start_time": "2023-11-30T07:00:54.114Z"
   },
   {
    "duration": 132,
    "start_time": "2023-11-30T07:00:54.147Z"
   },
   {
    "duration": 155,
    "start_time": "2023-11-30T07:00:54.281Z"
   },
   {
    "duration": 6,
    "start_time": "2023-11-30T07:00:54.437Z"
   },
   {
    "duration": 68,
    "start_time": "2023-11-30T07:00:54.445Z"
   },
   {
    "duration": 10,
    "start_time": "2023-11-30T07:00:54.515Z"
   },
   {
    "duration": 900,
    "start_time": "2023-11-30T07:00:54.542Z"
   },
   {
    "duration": 99,
    "start_time": "2023-11-30T07:00:55.444Z"
   },
   {
    "duration": 57,
    "start_time": "2023-11-30T07:00:55.545Z"
   },
   {
    "duration": 193,
    "start_time": "2023-11-30T07:00:55.604Z"
   },
   {
    "duration": 4,
    "start_time": "2023-11-30T07:00:55.798Z"
   },
   {
    "duration": 82,
    "start_time": "2023-11-30T07:00:55.804Z"
   },
   {
    "duration": 4,
    "start_time": "2023-11-30T07:00:55.887Z"
   },
   {
    "duration": 4636,
    "start_time": "2023-11-30T07:00:55.893Z"
   },
   {
    "duration": 65,
    "start_time": "2023-11-30T07:01:00.531Z"
   },
   {
    "duration": 5,
    "start_time": "2023-11-30T07:01:00.598Z"
   },
   {
    "duration": 3145,
    "start_time": "2023-11-30T07:01:00.605Z"
   },
   {
    "duration": 297,
    "start_time": "2023-11-30T07:01:03.752Z"
   },
   {
    "duration": 5,
    "start_time": "2023-11-30T07:01:04.051Z"
   },
   {
    "duration": 103,
    "start_time": "2023-11-30T07:01:04.059Z"
   },
   {
    "duration": 191,
    "start_time": "2023-11-30T07:01:04.164Z"
   },
   {
    "duration": 1485,
    "start_time": "2023-11-30T07:13:27.750Z"
   },
   {
    "duration": 928,
    "start_time": "2023-11-30T07:13:29.237Z"
   },
   {
    "duration": 157,
    "start_time": "2023-11-30T07:13:30.166Z"
   },
   {
    "duration": 256,
    "start_time": "2023-11-30T07:13:30.325Z"
   },
   {
    "duration": 142,
    "start_time": "2023-11-30T07:13:30.583Z"
   },
   {
    "duration": 37,
    "start_time": "2023-11-30T07:13:30.726Z"
   },
   {
    "duration": 59,
    "start_time": "2023-11-30T07:13:30.765Z"
   },
   {
    "duration": 53,
    "start_time": "2023-11-30T07:13:30.826Z"
   },
   {
    "duration": 49,
    "start_time": "2023-11-30T07:13:30.880Z"
   },
   {
    "duration": 70,
    "start_time": "2023-11-30T07:13:30.932Z"
   },
   {
    "duration": 36,
    "start_time": "2023-11-30T07:13:31.004Z"
   },
   {
    "duration": 49,
    "start_time": "2023-11-30T07:13:31.042Z"
   },
   {
    "duration": 53,
    "start_time": "2023-11-30T07:13:31.092Z"
   },
   {
    "duration": 62,
    "start_time": "2023-11-30T07:13:31.146Z"
   },
   {
    "duration": 47,
    "start_time": "2023-11-30T07:13:31.210Z"
   },
   {
    "duration": 32,
    "start_time": "2023-11-30T07:13:31.258Z"
   },
   {
    "duration": 123,
    "start_time": "2023-11-30T07:13:31.291Z"
   },
   {
    "duration": 458,
    "start_time": "2023-11-30T07:13:31.416Z"
   },
   {
    "duration": 25,
    "start_time": "2023-11-30T07:13:31.876Z"
   },
   {
    "duration": 55,
    "start_time": "2023-11-30T07:13:31.903Z"
   },
   {
    "duration": 244,
    "start_time": "2023-11-30T07:13:31.959Z"
   },
   {
    "duration": 5,
    "start_time": "2023-11-30T07:13:32.204Z"
   },
   {
    "duration": 16,
    "start_time": "2023-11-30T07:13:32.210Z"
   },
   {
    "duration": 47,
    "start_time": "2023-11-30T07:13:32.241Z"
   },
   {
    "duration": 16,
    "start_time": "2023-11-30T07:13:32.289Z"
   },
   {
    "duration": 37,
    "start_time": "2023-11-30T07:13:32.306Z"
   },
   {
    "duration": 46,
    "start_time": "2023-11-30T07:13:32.345Z"
   },
   {
    "duration": 48,
    "start_time": "2023-11-30T07:13:32.394Z"
   },
   {
    "duration": 44,
    "start_time": "2023-11-30T07:13:32.444Z"
   },
   {
    "duration": 338,
    "start_time": "2023-11-30T07:13:32.490Z"
   },
   {
    "duration": 238,
    "start_time": "2023-11-30T07:13:32.842Z"
   },
   {
    "duration": 6,
    "start_time": "2023-11-30T07:13:33.082Z"
   },
   {
    "duration": 53,
    "start_time": "2023-11-30T07:13:33.089Z"
   },
   {
    "duration": 403,
    "start_time": "2023-11-30T07:13:33.144Z"
   },
   {
    "duration": 233,
    "start_time": "2023-11-30T07:13:33.549Z"
   },
   {
    "duration": 34,
    "start_time": "2023-11-30T07:13:33.784Z"
   },
   {
    "duration": 418,
    "start_time": "2023-11-30T07:13:33.820Z"
   },
   {
    "duration": 217,
    "start_time": "2023-11-30T07:13:34.243Z"
   },
   {
    "duration": 98,
    "start_time": "2023-11-30T07:13:34.462Z"
   },
   {
    "duration": 6,
    "start_time": "2023-11-30T07:13:34.561Z"
   },
   {
    "duration": 18,
    "start_time": "2023-11-30T07:13:34.569Z"
   },
   {
    "duration": 142,
    "start_time": "2023-11-30T07:13:34.588Z"
   },
   {
    "duration": 164,
    "start_time": "2023-11-30T07:13:34.731Z"
   },
   {
    "duration": 4,
    "start_time": "2023-11-30T07:13:34.896Z"
   },
   {
    "duration": 83,
    "start_time": "2023-11-30T07:13:34.901Z"
   },
   {
    "duration": 19,
    "start_time": "2023-11-30T07:13:34.985Z"
   },
   {
    "duration": 853,
    "start_time": "2023-11-30T07:13:35.005Z"
   },
   {
    "duration": 95,
    "start_time": "2023-11-30T07:13:35.860Z"
   },
   {
    "duration": 54,
    "start_time": "2023-11-30T07:13:35.956Z"
   },
   {
    "duration": 187,
    "start_time": "2023-11-30T07:13:36.011Z"
   },
   {
    "duration": 3,
    "start_time": "2023-11-30T07:13:36.200Z"
   },
   {
    "duration": 86,
    "start_time": "2023-11-30T07:13:36.204Z"
   },
   {
    "duration": 4,
    "start_time": "2023-11-30T07:13:36.291Z"
   },
   {
    "duration": 4520,
    "start_time": "2023-11-30T07:13:36.296Z"
   },
   {
    "duration": 67,
    "start_time": "2023-11-30T07:13:40.818Z"
   },
   {
    "duration": 5,
    "start_time": "2023-11-30T07:13:40.886Z"
   },
   {
    "duration": 3157,
    "start_time": "2023-11-30T07:13:40.892Z"
   },
   {
    "duration": 293,
    "start_time": "2023-11-30T07:13:44.050Z"
   },
   {
    "duration": 5,
    "start_time": "2023-11-30T07:13:44.345Z"
   },
   {
    "duration": 57,
    "start_time": "2023-11-30T07:13:44.351Z"
   },
   {
    "duration": 238,
    "start_time": "2023-11-30T07:13:44.409Z"
   }
  ],
  "kernelspec": {
   "display_name": "Python 3 (ipykernel)",
   "language": "python",
   "name": "python3"
  },
  "language_info": {
   "codemirror_mode": {
    "name": "ipython",
    "version": 3
   },
   "file_extension": ".py",
   "mimetype": "text/x-python",
   "name": "python",
   "nbconvert_exporter": "python",
   "pygments_lexer": "ipython3",
   "version": "3.9.7"
  },
  "toc": {
   "base_numbering": 1,
   "nav_menu": {},
   "number_sections": true,
   "sideBar": true,
   "skip_h1_title": true,
   "title_cell": "Table of Contents",
   "title_sidebar": "Contents",
   "toc_cell": false,
   "toc_position": {},
   "toc_section_display": true,
   "toc_window_display": false
  }
 },
 "nbformat": 4,
 "nbformat_minor": 2
}
